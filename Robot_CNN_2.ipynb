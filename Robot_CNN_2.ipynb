{
  "nbformat": 4,
  "nbformat_minor": 0,
  "metadata": {
    "colab": {
      "name": "Robot - CNN 2",
      "provenance": [],
      "collapsed_sections": [],
      "authorship_tag": "ABX9TyMYkC2SfJviNaGy24p7AJdN",
      "include_colab_link": true
    },
    "kernelspec": {
      "name": "python3",
      "display_name": "Python 3"
    },
    "accelerator": "GPU",
    "widgets": {
      "application/vnd.jupyter.widget-state+json": {
        "553e5d91ff824e3da2137686cdda5c18": {
          "model_module": "@jupyter-widgets/controls",
          "model_name": "HBoxModel",
          "state": {
            "_view_name": "HBoxView",
            "_dom_classes": [],
            "_model_name": "HBoxModel",
            "_view_module": "@jupyter-widgets/controls",
            "_model_module_version": "1.5.0",
            "_view_count": null,
            "_view_module_version": "1.5.0",
            "box_style": "",
            "layout": "IPY_MODEL_1463fceb9234434da77dfe4169baf16e",
            "_model_module": "@jupyter-widgets/controls",
            "children": [
              "IPY_MODEL_65dccfdabe7f406a9995c0bfeffaca56",
              "IPY_MODEL_4fc2d6bcbdc8433681812572c8a8576d"
            ]
          }
        },
        "1463fceb9234434da77dfe4169baf16e": {
          "model_module": "@jupyter-widgets/base",
          "model_name": "LayoutModel",
          "state": {
            "_view_name": "LayoutView",
            "grid_template_rows": null,
            "right": null,
            "justify_content": null,
            "_view_module": "@jupyter-widgets/base",
            "overflow": null,
            "_model_module_version": "1.2.0",
            "_view_count": null,
            "flex_flow": null,
            "width": null,
            "min_width": null,
            "border": null,
            "align_items": null,
            "bottom": null,
            "_model_module": "@jupyter-widgets/base",
            "top": null,
            "grid_column": null,
            "overflow_y": null,
            "overflow_x": null,
            "grid_auto_flow": null,
            "grid_area": null,
            "grid_template_columns": null,
            "flex": null,
            "_model_name": "LayoutModel",
            "justify_items": null,
            "grid_row": null,
            "max_height": null,
            "align_content": null,
            "visibility": null,
            "align_self": null,
            "height": null,
            "min_height": null,
            "padding": null,
            "grid_auto_rows": null,
            "grid_gap": null,
            "max_width": null,
            "order": null,
            "_view_module_version": "1.2.0",
            "grid_template_areas": null,
            "object_position": null,
            "object_fit": null,
            "grid_auto_columns": null,
            "margin": null,
            "display": null,
            "left": null
          }
        },
        "65dccfdabe7f406a9995c0bfeffaca56": {
          "model_module": "@jupyter-widgets/controls",
          "model_name": "FloatProgressModel",
          "state": {
            "_view_name": "ProgressView",
            "style": "IPY_MODEL_b9249e6366784a6793aee0c096ffea56",
            "_dom_classes": [],
            "description": " 10%",
            "_model_name": "FloatProgressModel",
            "bar_style": "danger",
            "max": 200,
            "_view_module": "@jupyter-widgets/controls",
            "_model_module_version": "1.5.0",
            "value": 20,
            "_view_count": null,
            "_view_module_version": "1.5.0",
            "orientation": "horizontal",
            "min": 0,
            "description_tooltip": null,
            "_model_module": "@jupyter-widgets/controls",
            "layout": "IPY_MODEL_e557332b076e4594998f0def074279d3"
          }
        },
        "4fc2d6bcbdc8433681812572c8a8576d": {
          "model_module": "@jupyter-widgets/controls",
          "model_name": "HTMLModel",
          "state": {
            "_view_name": "HTMLView",
            "style": "IPY_MODEL_850cd9fba6684108bb25e7490e16b1bc",
            "_dom_classes": [],
            "description": "",
            "_model_name": "HTMLModel",
            "placeholder": "​",
            "_view_module": "@jupyter-widgets/controls",
            "_model_module_version": "1.5.0",
            "value": " 20/200 [00:27&lt;03:56,  1.32s/it]",
            "_view_count": null,
            "_view_module_version": "1.5.0",
            "description_tooltip": null,
            "_model_module": "@jupyter-widgets/controls",
            "layout": "IPY_MODEL_bbaed970c4dd4b63b378972b026743ec"
          }
        },
        "b9249e6366784a6793aee0c096ffea56": {
          "model_module": "@jupyter-widgets/controls",
          "model_name": "ProgressStyleModel",
          "state": {
            "_view_name": "StyleView",
            "_model_name": "ProgressStyleModel",
            "description_width": "initial",
            "_view_module": "@jupyter-widgets/base",
            "_model_module_version": "1.5.0",
            "_view_count": null,
            "_view_module_version": "1.2.0",
            "bar_color": null,
            "_model_module": "@jupyter-widgets/controls"
          }
        },
        "e557332b076e4594998f0def074279d3": {
          "model_module": "@jupyter-widgets/base",
          "model_name": "LayoutModel",
          "state": {
            "_view_name": "LayoutView",
            "grid_template_rows": null,
            "right": null,
            "justify_content": null,
            "_view_module": "@jupyter-widgets/base",
            "overflow": null,
            "_model_module_version": "1.2.0",
            "_view_count": null,
            "flex_flow": null,
            "width": null,
            "min_width": null,
            "border": null,
            "align_items": null,
            "bottom": null,
            "_model_module": "@jupyter-widgets/base",
            "top": null,
            "grid_column": null,
            "overflow_y": null,
            "overflow_x": null,
            "grid_auto_flow": null,
            "grid_area": null,
            "grid_template_columns": null,
            "flex": null,
            "_model_name": "LayoutModel",
            "justify_items": null,
            "grid_row": null,
            "max_height": null,
            "align_content": null,
            "visibility": null,
            "align_self": null,
            "height": null,
            "min_height": null,
            "padding": null,
            "grid_auto_rows": null,
            "grid_gap": null,
            "max_width": null,
            "order": null,
            "_view_module_version": "1.2.0",
            "grid_template_areas": null,
            "object_position": null,
            "object_fit": null,
            "grid_auto_columns": null,
            "margin": null,
            "display": null,
            "left": null
          }
        },
        "850cd9fba6684108bb25e7490e16b1bc": {
          "model_module": "@jupyter-widgets/controls",
          "model_name": "DescriptionStyleModel",
          "state": {
            "_view_name": "StyleView",
            "_model_name": "DescriptionStyleModel",
            "description_width": "",
            "_view_module": "@jupyter-widgets/base",
            "_model_module_version": "1.5.0",
            "_view_count": null,
            "_view_module_version": "1.2.0",
            "_model_module": "@jupyter-widgets/controls"
          }
        },
        "bbaed970c4dd4b63b378972b026743ec": {
          "model_module": "@jupyter-widgets/base",
          "model_name": "LayoutModel",
          "state": {
            "_view_name": "LayoutView",
            "grid_template_rows": null,
            "right": null,
            "justify_content": null,
            "_view_module": "@jupyter-widgets/base",
            "overflow": null,
            "_model_module_version": "1.2.0",
            "_view_count": null,
            "flex_flow": null,
            "width": null,
            "min_width": null,
            "border": null,
            "align_items": null,
            "bottom": null,
            "_model_module": "@jupyter-widgets/base",
            "top": null,
            "grid_column": null,
            "overflow_y": null,
            "overflow_x": null,
            "grid_auto_flow": null,
            "grid_area": null,
            "grid_template_columns": null,
            "flex": null,
            "_model_name": "LayoutModel",
            "justify_items": null,
            "grid_row": null,
            "max_height": null,
            "align_content": null,
            "visibility": null,
            "align_self": null,
            "height": null,
            "min_height": null,
            "padding": null,
            "grid_auto_rows": null,
            "grid_gap": null,
            "max_width": null,
            "order": null,
            "_view_module_version": "1.2.0",
            "grid_template_areas": null,
            "object_position": null,
            "object_fit": null,
            "grid_auto_columns": null,
            "margin": null,
            "display": null,
            "left": null
          }
        }
      }
    }
  },
  "cells": [
    {
      "cell_type": "markdown",
      "metadata": {
        "id": "view-in-github",
        "colab_type": "text"
      },
      "source": [
        "<a href=\"https://colab.research.google.com/github/moajjem04/Pytorch_Practice/blob/main/Robot_CNN_2.ipynb\" target=\"_parent\"><img src=\"https://colab.research.google.com/assets/colab-badge.svg\" alt=\"Open In Colab\"/></a>"
      ]
    },
    {
      "cell_type": "markdown",
      "metadata": {
        "id": "N8qKGEwzgixm"
      },
      "source": [
        "# Accessing Google Drive"
      ]
    },
    {
      "cell_type": "code",
      "metadata": {
        "colab": {
          "base_uri": "https://localhost:8080/"
        },
        "id": "nXY6FMlJgedd",
        "outputId": "aebc066c-1c57-4824-c16e-2ee1a6414c6e"
      },
      "source": [
        "from google.colab import drive\r\n",
        "drive.mount('/content/drive')"
      ],
      "execution_count": 2,
      "outputs": [
        {
          "output_type": "stream",
          "text": [
            "Drive already mounted at /content/drive; to attempt to forcibly remount, call drive.mount(\"/content/drive\", force_remount=True).\n"
          ],
          "name": "stdout"
        }
      ]
    },
    {
      "cell_type": "code",
      "metadata": {
        "colab": {
          "base_uri": "https://localhost:8080/"
        },
        "id": "tgKVXwzUgop4",
        "outputId": "f9afc276-431d-47fa-994a-9318a249dd49"
      },
      "source": [
        "%cd '/content/drive/MyDrive/robot'"
      ],
      "execution_count": 3,
      "outputs": [
        {
          "output_type": "stream",
          "text": [
            "/content/drive/.shortcut-targets-by-id/1xoj4fkjFWbgZZGpDNuTyZsH1-eOzncVi/robotic arm data - s\n"
          ],
          "name": "stdout"
        }
      ]
    },
    {
      "cell_type": "code",
      "metadata": {
        "colab": {
          "base_uri": "https://localhost:8080/",
          "height": 35
        },
        "id": "LOZbAmWtgqWE",
        "outputId": "4dd46eb0-cd56-4bdb-ca52-8542c629a5f3"
      },
      "source": [
        "%pwd"
      ],
      "execution_count": 4,
      "outputs": [
        {
          "output_type": "execute_result",
          "data": {
            "application/vnd.google.colaboratory.intrinsic+json": {
              "type": "string"
            },
            "text/plain": [
              "'/content/drive/.shortcut-targets-by-id/1xoj4fkjFWbgZZGpDNuTyZsH1-eOzncVi/robotic arm data - s'"
            ]
          },
          "metadata": {
            "tags": []
          },
          "execution_count": 4
        }
      ]
    },
    {
      "cell_type": "code",
      "metadata": {
        "colab": {
          "base_uri": "https://localhost:8080/"
        },
        "id": "9jcQtFqegsF0",
        "outputId": "3d7d00de-d5cc-4b78-9428-49fa89958a2f"
      },
      "source": [
        "%ls"
      ],
      "execution_count": 5,
      "outputs": [
        {
          "output_type": "stream",
          "text": [
            "data_v2.pkl   Samling_for_Zhen_d_s2.csv         Samling_for_Zhen_lygf_e_s.csv\n",
            "data_v4.pkl   Samling_for_Zhen_d_s.csv          Samling_for_Zhen_oyg_2e_s.csv\n",
            "IMG_4598.MOV  Samling_for_Zhen_g_S.csv          Samling_for_Zhen_oyg_e_s1.csv\n",
            "IMG_4599.MOV  Samling_for_Zhen_lg_e_s.csv       Samling_for_Zhen_w_s.csv\n",
            "IMG_4600.MOV  Samling_for_Zhen_Lizhuoxun_S.csv  Samling_for_Zhen_x_s.csv\n",
            "IMG_4601.MOV  Samling_for_Zhen_l_s.csv          Samling_for_Zhen_yg_e_s.csv\n",
            "IMG_4602.MOV  Samling_for_Zhen_lyfg_2e_s.csv\n"
          ],
          "name": "stdout"
        }
      ]
    },
    {
      "cell_type": "markdown",
      "metadata": {
        "id": "9xpKn73Rgx2k"
      },
      "source": [
        "# Loading the Data"
      ]
    },
    {
      "cell_type": "code",
      "metadata": {
        "id": "5V2xd8cDg2k8"
      },
      "source": [
        "import pandas as pd\r\n",
        "import matplotlib.pyplot as plt\r\n",
        "import numpy as np\r\n",
        "from google.colab import files\r\n",
        "import os\r\n",
        "import pickle"
      ],
      "execution_count": 6,
      "outputs": []
    },
    {
      "cell_type": "code",
      "metadata": {
        "id": "Qu57KDD_g8Z0"
      },
      "source": [
        "%%time\r\n",
        "file_name = \"data_v4.pkl\"\r\n",
        "open_file = open(file_name, \"rb\")\r\n",
        "Data = pickle.load(open_file)\r\n",
        "open_file.close()"
      ],
      "execution_count": 7,
      "outputs": []
    },
    {
      "cell_type": "code",
      "metadata": {
        "colab": {
          "base_uri": "https://localhost:8080/"
        },
        "id": "CohWTdJ9hG0b",
        "outputId": "89943db0-afc6-42f7-aae4-94670ed9f51e"
      },
      "source": [
        "Data.keys()"
      ],
      "execution_count": 8,
      "outputs": [
        {
          "output_type": "execute_result",
          "data": {
            "text/plain": [
              "dict_keys(['name_class', 'train_sig', 'val_sig', 'train_class', 'val_class'])"
            ]
          },
          "metadata": {
            "tags": []
          },
          "execution_count": 8
        }
      ]
    },
    {
      "cell_type": "code",
      "metadata": {
        "id": "EU66FU9QM02u"
      },
      "source": [
        "name_class  = Data['name_class']\r\n",
        "train_sig   = Data['train_sig']\r\n",
        "val_sig     = Data['val_sig']\r\n",
        "train_class = Data['train_class']\r\n",
        "val_class   = Data['val_class']"
      ],
      "execution_count": 9,
      "outputs": []
    },
    {
      "cell_type": "code",
      "metadata": {
        "id": "FCO7Kam3NH6-"
      },
      "source": [
        "%reset_selective -f Data"
      ],
      "execution_count": 10,
      "outputs": []
    },
    {
      "cell_type": "code",
      "metadata": {
        "colab": {
          "base_uri": "https://localhost:8080/"
        },
        "id": "DPe5fL6UN-Jf",
        "outputId": "db0764e4-3a59-4ea0-ae58-3bf402d98765"
      },
      "source": [
        "try:\r\n",
        "  Data.keys()\r\n",
        "except:\r\n",
        "  print('No Data')"
      ],
      "execution_count": 11,
      "outputs": [
        {
          "output_type": "stream",
          "text": [
            "No Data\n"
          ],
          "name": "stdout"
        }
      ]
    },
    {
      "cell_type": "code",
      "metadata": {
        "colab": {
          "base_uri": "https://localhost:8080/"
        },
        "id": "jGpT0Grssxtv",
        "outputId": "e7a2008d-a2b4-4e1b-b896-30ad3398505b"
      },
      "source": [
        "print('The total data')\r\n",
        "print('Training Data shape:',train_sig.shape)\r\n",
        "print('Validation Data shape:',val_sig.shape)\r\n",
        "print('Training Class shape:',train_class.shape)\r\n",
        "print('Validation Class shape:',val_class.shape)\r\n",
        "temp = val_sig.shape[0]/(train_sig.shape[0] + val_sig.shape[0])\r\n",
        "print('Proportion of Validation Data:',round(temp*100,2),'%')"
      ],
      "execution_count": 12,
      "outputs": [
        {
          "output_type": "stream",
          "text": [
            "The total data\n",
            "Training Data shape: (2515, 21, 5000, 1)\n",
            "Validation Data shape: (585, 21, 5000, 1)\n",
            "Training Class shape: (2515, 1)\n",
            "Validation Class shape: (585, 1)\n",
            "Proportion of Validation Data: 18.87 %\n"
          ],
          "name": "stdout"
        }
      ]
    },
    {
      "cell_type": "markdown",
      "metadata": {
        "id": "mu9pD2j4xfXy"
      },
      "source": [
        "# Defining the Neural Network Architecture"
      ]
    },
    {
      "cell_type": "code",
      "metadata": {
        "id": "VvU18ht9xeZl"
      },
      "source": [
        "import torch\r\n",
        "import torch.nn as nn\r\n",
        "import torch.nn.functional as F\r\n",
        "# import torch.optim as optim\r\n",
        "from torch.autograd import Variable\r\n",
        "from torch.nn import Linear, ReLU, CrossEntropyLoss, Sequential, Conv1d, MaxPool1d, Module, Softmax, BatchNorm1d, Dropout, MSELoss\r\n",
        "from torch.optim import Adam, SGD\r\n",
        "\r\n",
        "from tqdm.notebook import tqdm\r\n",
        "import time"
      ],
      "execution_count": 85,
      "outputs": []
    },
    {
      "cell_type": "code",
      "metadata": {
        "id": "PGYnbYDpp7UG"
      },
      "source": [
        "class Layer3_ConvNet(nn.Module):\r\n",
        "  def __init__(self,n_channels):\r\n",
        "    super().__init__()\r\n",
        "\r\n",
        "    self.cnn_layers = Sequential(\r\n",
        "        # Defining a 1D convolution layer\r\n",
        "        Conv1d(n_channels, 21, kernel_size=5, padding=1),\r\n",
        "        #BatchNorm1d(21),\r\n",
        "        ReLU(inplace=True),\r\n",
        "        MaxPool1d(kernel_size=2, stride=2),\r\n",
        "        # Defining another 1D convolution layer\r\n",
        "        Conv1d(21, 21, kernel_size=5, padding=1),\r\n",
        "        #BatchNorm1d(21),\r\n",
        "        ReLU(inplace=True),\r\n",
        "        MaxPool1d(kernel_size=2, stride=2),\r\n",
        "        # Defining another 1D convolution layer\r\n",
        "        Conv1d(21, 21, kernel_size=5, padding=1),\r\n",
        "        #BatchNorm1d(21),\r\n",
        "        ReLU(inplace=True),\r\n",
        "        MaxPool1d(kernel_size=2, stride=2)\r\n",
        "    )\r\n",
        "    # This code is used calculate the size of the flattened layer by having one\r\n",
        "    #   pass forward\r\n",
        "    x = torch.randn(21,5000).view(-1,21,5000)\r\n",
        "    self._to_linear = None\r\n",
        "    self.convs(x)\r\n",
        "\r\n",
        "    self.flat = nn.Flatten()\r\n",
        "\r\n",
        "    self.linear_layers = Sequential(\r\n",
        "                Linear(self._to_linear, 13)\r\n",
        "            )\r\n",
        "\r\n",
        "  def convs(self, x):\r\n",
        "    # max pooling over 2x2\r\n",
        "    x = self.cnn_layers(x)\r\n",
        "    #print(x[0].shape)\r\n",
        "\r\n",
        "    if self._to_linear is None:\r\n",
        "      self._to_linear = x[0].shape[0]*x[0].shape[1]\r\n",
        "    return x\r\n",
        "\r\n",
        "  def forward(self, x):\r\n",
        "    x = self.convs(x)\r\n",
        "    x = self.flat(x)\r\n",
        "    x = self.linear_layers(x)\r\n",
        "    return x"
      ],
      "execution_count": 14,
      "outputs": []
    },
    {
      "cell_type": "code",
      "metadata": {
        "id": "tY1LoPVOqE1l"
      },
      "source": [
        "class Layer4_ConvNet(nn.Module):\r\n",
        "  def __init__(self,n_channels):\r\n",
        "    super().__init__()\r\n",
        "\r\n",
        "    self.cnn_layers = Sequential(\r\n",
        "        # Defining a 1D convolution layer\r\n",
        "        Conv1d(n_channels, 21, kernel_size=5, padding=1),\r\n",
        "        BatchNorm1d(21),\r\n",
        "        ReLU(inplace=True),\r\n",
        "        MaxPool1d(kernel_size=2, stride=2),\r\n",
        "        # Defining another 1D convolution layer\r\n",
        "        Conv1d(21, 21, kernel_size=5, padding=1),\r\n",
        "        BatchNorm1d(21),\r\n",
        "        ReLU(inplace=True),\r\n",
        "        MaxPool1d(kernel_size=2, stride=2),\r\n",
        "        # Defining another 1D convolution layer\r\n",
        "        Conv1d(21, 21, kernel_size=5, padding=1),\r\n",
        "        BatchNorm1d(21),\r\n",
        "        ReLU(inplace=True),\r\n",
        "        MaxPool1d(kernel_size=2, stride=2),\r\n",
        "        # Defining another 1D convolution layer\r\n",
        "        Conv1d(21, 21, kernel_size=5, padding=1),\r\n",
        "        BatchNorm1d(21),\r\n",
        "        ReLU(inplace=True),\r\n",
        "        MaxPool1d(kernel_size=2, stride=2)\r\n",
        "    )\r\n",
        "    # This code is used calculate the size of the flattened layer by having one\r\n",
        "    #   pass forward\r\n",
        "    x = torch.randn(21,5000).view(-1,21,5000)\r\n",
        "    self._to_linear = None\r\n",
        "    self.convs(x)\r\n",
        "\r\n",
        "    self.flat = nn.Flatten()\r\n",
        "\r\n",
        "    self.linear_layers = Sequential(\r\n",
        "                Linear(self._to_linear, 13)\r\n",
        "            )\r\n",
        "\r\n",
        "  def convs(self, x):\r\n",
        "    # max pooling over 2x2\r\n",
        "    x = self.cnn_layers(x)\r\n",
        "    #print(x[0].shape)\r\n",
        "\r\n",
        "    if self._to_linear is None:\r\n",
        "      self._to_linear = x[0].shape[0]*x[0].shape[1]\r\n",
        "    return x\r\n",
        "\r\n",
        "  def forward(self, x):\r\n",
        "    x = self.convs(x)\r\n",
        "    x = self.flat(x)\r\n",
        "    x = self.linear_layers(x)\r\n",
        "    return x"
      ],
      "execution_count": 15,
      "outputs": []
    },
    {
      "cell_type": "code",
      "metadata": {
        "id": "q0VkjvWDyHjS"
      },
      "source": [
        "class Layer5_ConvNet(nn.Module):\r\n",
        "  def __init__(self,n_channels):\r\n",
        "    super().__init__()\r\n",
        "\r\n",
        "    self.cnn_layers = Sequential(\r\n",
        "        # Defining a 1D convolution layer\r\n",
        "        Conv1d(n_channels, 21, kernel_size=5, padding=1),\r\n",
        "        BatchNorm1d(21),\r\n",
        "        ReLU(inplace=True),\r\n",
        "        MaxPool1d(kernel_size=2, stride=2),\r\n",
        "        # Defining another 1D convolution layer\r\n",
        "        Conv1d(21, 21, kernel_size=5, padding=1),\r\n",
        "        BatchNorm1d(21),\r\n",
        "        ReLU(inplace=True),\r\n",
        "        MaxPool1d(kernel_size=2, stride=2),\r\n",
        "        # Defining another 1D convolution layer\r\n",
        "        Conv1d(21, 21, kernel_size=5, padding=1),\r\n",
        "        BatchNorm1d(21),\r\n",
        "        ReLU(inplace=True),\r\n",
        "        MaxPool1d(kernel_size=2, stride=2),\r\n",
        "        # Defining another 1D convolution layer\r\n",
        "        Conv1d(21, 21, kernel_size=5, padding=1),\r\n",
        "        BatchNorm1d(21),\r\n",
        "        ReLU(inplace=True),\r\n",
        "        MaxPool1d(kernel_size=2, stride=2),\r\n",
        "        # Defining another 1D convolution layer\r\n",
        "        Conv1d(21, 21, kernel_size=5, padding=1),\r\n",
        "        BatchNorm1d(21),\r\n",
        "        ReLU(inplace=True),\r\n",
        "        MaxPool1d(kernel_size=2, stride=2)\r\n",
        "    )\r\n",
        "    # This code is used calculate the size of the flattened layer by having one\r\n",
        "    #   pass forward\r\n",
        "    x = torch.randn(21,5000).view(-1,21,5000)\r\n",
        "    self._to_linear = None\r\n",
        "    self.convs(x)\r\n",
        "\r\n",
        "    self.flat = nn.Flatten()\r\n",
        "\r\n",
        "    self.linear_layers = Sequential(\r\n",
        "                Linear(self._to_linear, 13)\r\n",
        "            )\r\n",
        "\r\n",
        "  def convs(self, x):\r\n",
        "    # max pooling over 2x2\r\n",
        "    x = self.cnn_layers(x)\r\n",
        "    #print(x[0].shape)\r\n",
        "\r\n",
        "    if self._to_linear is None:\r\n",
        "      self._to_linear = x[0].shape[0]*x[0].shape[1]\r\n",
        "    return x\r\n",
        "\r\n",
        "  def forward(self, x):\r\n",
        "    x = self.convs(x)\r\n",
        "    x = self.flat(x)\r\n",
        "    x = self.linear_layers(x)\r\n",
        "    return x"
      ],
      "execution_count": 16,
      "outputs": []
    },
    {
      "cell_type": "code",
      "metadata": {
        "id": "13EE-8j3sVfP"
      },
      "source": [
        "class Layer5a_ConvNet(nn.Module):\r\n",
        "  def __init__(self,n_channels):\r\n",
        "    super().__init__()\r\n",
        "\r\n",
        "    self.cnn_layers = Sequential(\r\n",
        "        # Defining a 1D convolution layer\r\n",
        "        Conv1d(n_channels, 21, kernel_size=5, padding=1),\r\n",
        "        BatchNorm1d(21),\r\n",
        "        ReLU(inplace=True),\r\n",
        "        MaxPool1d(kernel_size=5),\r\n",
        "        # Defining another 1D convolution layer\r\n",
        "        Conv1d(21, 21, kernel_size=5, padding=1),\r\n",
        "        BatchNorm1d(21),\r\n",
        "        ReLU(inplace=True),\r\n",
        "        MaxPool1d(kernel_size=5),\r\n",
        "        # Defining another 1D convolution layer\r\n",
        "        Conv1d(21, 21, kernel_size=5, padding=1),\r\n",
        "        BatchNorm1d(21),\r\n",
        "        ReLU(inplace=True),\r\n",
        "        MaxPool1d(kernel_size=5),\r\n",
        "        # Defining another 1D convolution layer\r\n",
        "        Conv1d(21, 21, kernel_size=5, padding=1),\r\n",
        "        BatchNorm1d(21),\r\n",
        "        ReLU(inplace=True),\r\n",
        "        MaxPool1d(kernel_size=5),\r\n",
        "        # Defining another 1D convolution layer\r\n",
        "        Conv1d(21, 21, kernel_size=5, padding=1),\r\n",
        "        BatchNorm1d(21),\r\n",
        "        ReLU(inplace=True),\r\n",
        "        MaxPool1d(kernel_size=5)\r\n",
        "    )\r\n",
        "    # This code is used calculate the size of the flattened layer by having one\r\n",
        "    #   pass forward\r\n",
        "    x = torch.randn(21,5000).view(-1,21,5000)\r\n",
        "    self._to_linear = None\r\n",
        "    self.convs(x)\r\n",
        "\r\n",
        "    self.flat = nn.Flatten()\r\n",
        "\r\n",
        "    self.linear_layers = Sequential(\r\n",
        "                Linear(self._to_linear, 13)\r\n",
        "            )\r\n",
        "\r\n",
        "  def convs(self, x):\r\n",
        "    # max pooling over 2x2\r\n",
        "    x = self.cnn_layers(x)\r\n",
        "    #print(x[0].shape)\r\n",
        "\r\n",
        "    if self._to_linear is None:\r\n",
        "      self._to_linear = x[0].shape[0]*x[0].shape[1]\r\n",
        "    return x\r\n",
        "\r\n",
        "  def forward(self, x):\r\n",
        "    x = self.convs(x)\r\n",
        "    x = self.flat(x)\r\n",
        "    x = self.linear_layers(x)\r\n",
        "    return x"
      ],
      "execution_count": 17,
      "outputs": []
    },
    {
      "cell_type": "code",
      "metadata": {
        "id": "2BisfLactAxn"
      },
      "source": [
        "class Layer5b_ConvNet(nn.Module):\r\n",
        "  def __init__(self,n_channels):\r\n",
        "    super().__init__()\r\n",
        "\r\n",
        "    self.cnn_layers = Sequential(\r\n",
        "        # Defining a 1D convolution layer\r\n",
        "        Conv1d(n_channels, 21*2, kernel_size=5, padding=1),\r\n",
        "        BatchNorm1d(21*2),\r\n",
        "        ReLU(inplace=True),\r\n",
        "        MaxPool1d(kernel_size=5),\r\n",
        "        # Defining another 1D convolution layer\r\n",
        "        Conv1d(21*2, 21*4, kernel_size=5, padding=1),\r\n",
        "        BatchNorm1d(21*4),\r\n",
        "        ReLU(inplace=True),\r\n",
        "        MaxPool1d(kernel_size=5),\r\n",
        "        # Defining another 1D convolution layer\r\n",
        "        Conv1d(21*4, 21*4, kernel_size=5, padding=1),\r\n",
        "        BatchNorm1d(21*4),\r\n",
        "        ReLU(inplace=True),\r\n",
        "        MaxPool1d(kernel_size=5),\r\n",
        "        # Defining another 1D convolution layer\r\n",
        "        Conv1d(21*4, 21*2, kernel_size=5, padding=1),\r\n",
        "        BatchNorm1d(21*2),\r\n",
        "        ReLU(inplace=True),\r\n",
        "        MaxPool1d(kernel_size=5),\r\n",
        "        # Defining another 1D convolution layer\r\n",
        "        Conv1d(21*2, 21, kernel_size=5, padding=1),\r\n",
        "        BatchNorm1d(21),\r\n",
        "        ReLU(inplace=True),\r\n",
        "        MaxPool1d(kernel_size=5)\r\n",
        "    )\r\n",
        "    # This code is used calculate the size of the flattened layer by having one\r\n",
        "    #   pass forward\r\n",
        "    x = torch.randn(21,5000).view(-1,21,5000)\r\n",
        "    self._to_linear = None\r\n",
        "    self.convs(x)\r\n",
        "\r\n",
        "    self.flat = nn.Flatten()\r\n",
        "\r\n",
        "    self.linear_layers = Sequential(\r\n",
        "                Linear(self._to_linear, 13)\r\n",
        "            )\r\n",
        "\r\n",
        "  def convs(self, x):\r\n",
        "    # max pooling over 2x2\r\n",
        "    x = self.cnn_layers(x)\r\n",
        "    #print(x[0].shape)\r\n",
        "\r\n",
        "    if self._to_linear is None:\r\n",
        "      self._to_linear = x[0].shape[0]*x[0].shape[1]\r\n",
        "    return x\r\n",
        "\r\n",
        "  def forward(self, x):\r\n",
        "    x = self.convs(x)\r\n",
        "    x = self.flat(x)\r\n",
        "    x = self.linear_layers(x)\r\n",
        "    return x"
      ],
      "execution_count": 18,
      "outputs": []
    },
    {
      "cell_type": "code",
      "metadata": {
        "id": "fXCuG709h2rd"
      },
      "source": [
        "class Layer5c_ConvNet(nn.Module):\r\n",
        "  def __init__(self,n_channels):\r\n",
        "    super().__init__()\r\n",
        "\r\n",
        "    self.cnn_layers = Sequential(\r\n",
        "        # Defining a 1D convolution layer\r\n",
        "        Conv1d(n_channels, 21*2, kernel_size=5, padding=1),\r\n",
        "        BatchNorm1d(21*2),\r\n",
        "        ReLU(inplace=True),\r\n",
        "        MaxPool1d(kernel_size=5),\r\n",
        "        # Defining another 1D convolution layer\r\n",
        "        Conv1d(21*2, 21*4, kernel_size=5, padding=1),\r\n",
        "        BatchNorm1d(21*4),\r\n",
        "        ReLU(inplace=True),\r\n",
        "        MaxPool1d(kernel_size=5),\r\n",
        "        # Defining another 1D convolution layer\r\n",
        "        Conv1d(21*4, 21*8, kernel_size=5, padding=1),\r\n",
        "        BatchNorm1d(21*8),\r\n",
        "        ReLU(inplace=True),\r\n",
        "        MaxPool1d(kernel_size=5),\r\n",
        "        # Defining another 1D convolution layer\r\n",
        "        Conv1d(21*8, 21*16, kernel_size=5, padding=1),\r\n",
        "        BatchNorm1d(21*16),\r\n",
        "        ReLU(inplace=True),\r\n",
        "        MaxPool1d(kernel_size=5),\r\n",
        "        # Defining another 1D convolution layer\r\n",
        "        Conv1d(21*16, 21*32, kernel_size=5, padding=1),\r\n",
        "        BatchNorm1d(21*32),\r\n",
        "        ReLU(inplace=True),\r\n",
        "        MaxPool1d(kernel_size=5)\r\n",
        "    )\r\n",
        "    # This code is used calculate the size of the flattened layer by having one\r\n",
        "    #   pass forward\r\n",
        "    x = torch.randn(21,5000).view(-1,21,5000)\r\n",
        "    self._to_linear = None\r\n",
        "    self.convs(x)\r\n",
        "\r\n",
        "    self.flat = nn.Flatten()\r\n",
        "\r\n",
        "    self.linear_layers = Sequential(\r\n",
        "                Linear(self._to_linear, 13)\r\n",
        "            )\r\n",
        "\r\n",
        "  def convs(self, x):\r\n",
        "    # max pooling over 2x2\r\n",
        "    x = self.cnn_layers(x)\r\n",
        "    #print(x[0].shape)\r\n",
        "\r\n",
        "    if self._to_linear is None:\r\n",
        "      self._to_linear = x[0].shape[0]*x[0].shape[1]\r\n",
        "    return x\r\n",
        "\r\n",
        "  def forward(self, x):\r\n",
        "    x = self.convs(x)\r\n",
        "    x = self.flat(x)\r\n",
        "    x = self.linear_layers(x)\r\n",
        "    return x"
      ],
      "execution_count": 161,
      "outputs": []
    },
    {
      "cell_type": "code",
      "metadata": {
        "colab": {
          "base_uri": "https://localhost:8080/"
        },
        "id": "TOfL2MEh4fwu",
        "outputId": "37619846-bb7e-4f45-ba9c-ddd10f8a443a"
      },
      "source": [
        "net = Layer5c_ConvNet(21)\r\n",
        "print(net)"
      ],
      "execution_count": 162,
      "outputs": [
        {
          "output_type": "stream",
          "text": [
            "Layer5c_ConvNet(\n",
            "  (cnn_layers): Sequential(\n",
            "    (0): Conv1d(21, 42, kernel_size=(5,), stride=(1,), padding=(1,))\n",
            "    (1): BatchNorm1d(42, eps=1e-05, momentum=0.1, affine=True, track_running_stats=True)\n",
            "    (2): ReLU(inplace=True)\n",
            "    (3): MaxPool1d(kernel_size=5, stride=5, padding=0, dilation=1, ceil_mode=False)\n",
            "    (4): Conv1d(42, 84, kernel_size=(5,), stride=(1,), padding=(1,))\n",
            "    (5): BatchNorm1d(84, eps=1e-05, momentum=0.1, affine=True, track_running_stats=True)\n",
            "    (6): ReLU(inplace=True)\n",
            "    (7): MaxPool1d(kernel_size=5, stride=5, padding=0, dilation=1, ceil_mode=False)\n",
            "    (8): Conv1d(84, 168, kernel_size=(5,), stride=(1,), padding=(1,))\n",
            "    (9): BatchNorm1d(168, eps=1e-05, momentum=0.1, affine=True, track_running_stats=True)\n",
            "    (10): ReLU(inplace=True)\n",
            "    (11): MaxPool1d(kernel_size=5, stride=5, padding=0, dilation=1, ceil_mode=False)\n",
            "    (12): Conv1d(168, 336, kernel_size=(5,), stride=(1,), padding=(1,))\n",
            "    (13): BatchNorm1d(336, eps=1e-05, momentum=0.1, affine=True, track_running_stats=True)\n",
            "    (14): ReLU(inplace=True)\n",
            "    (15): MaxPool1d(kernel_size=5, stride=5, padding=0, dilation=1, ceil_mode=False)\n",
            "    (16): Conv1d(336, 672, kernel_size=(5,), stride=(1,), padding=(1,))\n",
            "    (17): BatchNorm1d(672, eps=1e-05, momentum=0.1, affine=True, track_running_stats=True)\n",
            "    (18): ReLU(inplace=True)\n",
            "    (19): MaxPool1d(kernel_size=5, stride=5, padding=0, dilation=1, ceil_mode=False)\n",
            "  )\n",
            "  (flat): Flatten(start_dim=1, end_dim=-1)\n",
            "  (linear_layers): Sequential(\n",
            "    (0): Linear(in_features=672, out_features=13, bias=True)\n",
            "  )\n",
            ")\n"
          ],
          "name": "stdout"
        }
      ]
    },
    {
      "cell_type": "code",
      "metadata": {
        "colab": {
          "base_uri": "https://localhost:8080/"
        },
        "id": "0-prNma94Pqw",
        "outputId": "c41974b4-c18d-415d-f095-7b618826d41d"
      },
      "source": [
        "from torchsummary import summary\r\n",
        "summary(net.cuda(), (21,5000))"
      ],
      "execution_count": 163,
      "outputs": [
        {
          "output_type": "stream",
          "text": [
            "----------------------------------------------------------------\n",
            "        Layer (type)               Output Shape         Param #\n",
            "================================================================\n",
            "            Conv1d-1             [-1, 42, 4998]           4,452\n",
            "       BatchNorm1d-2             [-1, 42, 4998]              84\n",
            "              ReLU-3             [-1, 42, 4998]               0\n",
            "         MaxPool1d-4              [-1, 42, 999]               0\n",
            "            Conv1d-5              [-1, 84, 997]          17,724\n",
            "       BatchNorm1d-6              [-1, 84, 997]             168\n",
            "              ReLU-7              [-1, 84, 997]               0\n",
            "         MaxPool1d-8              [-1, 84, 199]               0\n",
            "            Conv1d-9             [-1, 168, 197]          70,728\n",
            "      BatchNorm1d-10             [-1, 168, 197]             336\n",
            "             ReLU-11             [-1, 168, 197]               0\n",
            "        MaxPool1d-12              [-1, 168, 39]               0\n",
            "           Conv1d-13              [-1, 336, 37]         282,576\n",
            "      BatchNorm1d-14              [-1, 336, 37]             672\n",
            "             ReLU-15              [-1, 336, 37]               0\n",
            "        MaxPool1d-16               [-1, 336, 7]               0\n",
            "           Conv1d-17               [-1, 672, 5]       1,129,632\n",
            "      BatchNorm1d-18               [-1, 672, 5]           1,344\n",
            "             ReLU-19               [-1, 672, 5]               0\n",
            "        MaxPool1d-20               [-1, 672, 1]               0\n",
            "          Flatten-21                  [-1, 672]               0\n",
            "           Linear-22                   [-1, 13]           8,749\n",
            "================================================================\n",
            "Total params: 1,516,465\n",
            "Trainable params: 1,516,465\n",
            "Non-trainable params: 0\n",
            "----------------------------------------------------------------\n",
            "Input size (MB): 0.40\n",
            "Forward/backward pass size (MB): 8.37\n",
            "Params size (MB): 5.78\n",
            "Estimated Total Size (MB): 14.55\n",
            "----------------------------------------------------------------\n"
          ],
          "name": "stdout"
        }
      ]
    },
    {
      "cell_type": "markdown",
      "metadata": {
        "id": "pgueD-9XqKFc"
      },
      "source": [
        "# Training Model"
      ]
    },
    {
      "cell_type": "code",
      "metadata": {
        "colab": {
          "base_uri": "https://localhost:8080/"
        },
        "id": "ljRapXhv_IQk",
        "outputId": "584e8945-be52-4b39-d819-787ff0f5edf6"
      },
      "source": [
        "torch.cuda.is_available()"
      ],
      "execution_count": 21,
      "outputs": [
        {
          "output_type": "execute_result",
          "data": {
            "text/plain": [
              "True"
            ]
          },
          "metadata": {
            "tags": []
          },
          "execution_count": 21
        }
      ]
    },
    {
      "cell_type": "markdown",
      "metadata": {
        "id": "YSaZAGG7qP61"
      },
      "source": [
        "## Convert Data"
      ]
    },
    {
      "cell_type": "code",
      "metadata": {
        "colab": {
          "base_uri": "https://localhost:8080/"
        },
        "id": "_1jFBh2OPH7p",
        "outputId": "64727eb6-f8e6-4121-eab4-b4e328807023"
      },
      "source": [
        "val_class = val_class.reshape(val_class.shape[0])\r\n",
        "print(val_class.shape)\r\n",
        "train_class = train_class.reshape(train_class.shape[0])\r\n",
        "print(train_class.shape)"
      ],
      "execution_count": 28,
      "outputs": [
        {
          "output_type": "stream",
          "text": [
            "(585,)\n",
            "(2515,)\n"
          ],
          "name": "stdout"
        }
      ]
    },
    {
      "cell_type": "code",
      "metadata": {
        "id": "savfqV3Q6uSF",
        "colab": {
          "base_uri": "https://localhost:8080/"
        },
        "outputId": "24fd60c6-f4ce-4757-e8ba-4d4ed17d840a"
      },
      "source": [
        "# converting training images into torch format\r\n",
        "train_x = train_sig.astype(float)\r\n",
        "train_x = train_x.reshape(train_sig.shape[0], 21,5000)\r\n",
        "train_x  = torch.from_numpy(train_x)\r\n",
        "\r\n",
        "# converting the target into torch format\r\n",
        "train_y = train_class.astype(int)\r\n",
        "#train_y = enc.fit_transform(train_y)\r\n",
        "train_y = torch.from_numpy(train_y)\r\n",
        "\r\n",
        "# shape of training data\r\n",
        "train_x.shape, train_y.shape"
      ],
      "execution_count": 29,
      "outputs": [
        {
          "output_type": "execute_result",
          "data": {
            "text/plain": [
              "(torch.Size([2515, 21, 5000]), torch.Size([2515]))"
            ]
          },
          "metadata": {
            "tags": []
          },
          "execution_count": 29
        }
      ]
    },
    {
      "cell_type": "code",
      "metadata": {
        "id": "GJ_1hn3zCFBr",
        "colab": {
          "base_uri": "https://localhost:8080/"
        },
        "outputId": "58f9b583-843b-473d-fae2-04614a0b0971"
      },
      "source": [
        "type(train_x[0])"
      ],
      "execution_count": 23,
      "outputs": [
        {
          "output_type": "execute_result",
          "data": {
            "text/plain": [
              "torch.Tensor"
            ]
          },
          "metadata": {
            "tags": []
          },
          "execution_count": 23
        }
      ]
    },
    {
      "cell_type": "code",
      "metadata": {
        "id": "ZsvrM2Jx7vSH",
        "colab": {
          "base_uri": "https://localhost:8080/"
        },
        "outputId": "3c63c43d-92ec-4497-b4f1-e802c28fc74e"
      },
      "source": [
        "# converting training images into torch format\r\n",
        "val_x = val_sig.astype(float)\r\n",
        "val_x = val_sig.reshape(val_sig.shape[0], 21,5000)\r\n",
        "val_x  = torch.from_numpy(val_x)\r\n",
        "\r\n",
        "# converting the target into torch format\r\n",
        "val_y = val_class.astype(int)\r\n",
        "#val_y = \r\n",
        "val_y = torch.from_numpy(val_y)\r\n",
        "\r\n",
        "# shape of training data\r\n",
        "val_x.shape, val_y.shape"
      ],
      "execution_count": 30,
      "outputs": [
        {
          "output_type": "execute_result",
          "data": {
            "text/plain": [
              "(torch.Size([585, 21, 5000]), torch.Size([585]))"
            ]
          },
          "metadata": {
            "tags": []
          },
          "execution_count": 30
        }
      ]
    },
    {
      "cell_type": "markdown",
      "metadata": {
        "id": "q42KPdcxqSt-"
      },
      "source": [
        "## Training"
      ]
    },
    {
      "cell_type": "code",
      "metadata": {
        "id": "8alNljxwXUyO"
      },
      "source": [
        "from torch.optim.lr_scheduler import ReduceLROnPlateau\r\n",
        "import matplotlib.pyplot as plt"
      ],
      "execution_count": 120,
      "outputs": []
    },
    {
      "cell_type": "code",
      "metadata": {
        "id": "G0F-UmoT6fj_"
      },
      "source": [
        "def train(model,batch_size,epochs,stop_count):\r\n",
        "    tag = 0;\r\n",
        "    stop_flag = False\r\n",
        "    count = 0\r\n",
        "    for epoch in tqdm(range(epochs)):\r\n",
        "      tr_loss = []\r\n",
        "      val_loss = []\r\n",
        "      #for i in tqdm(range(0,len(train_y),batch_size),leave=bool(epoch == epochs-1)):\r\n",
        "      for i in range(0,len(train_y),batch_size):\r\n",
        "        batch_X = train_x[i:i+batch_size].float()\r\n",
        "        batch_y = train_y[i:i+batch_size]\r\n",
        "\r\n",
        "        if torch.cuda.is_available():\r\n",
        "          batch_X = batch_X.cuda()\r\n",
        "          batch_y = batch_y.cuda()\r\n",
        "\r\n",
        "        model.zero_grad()\r\n",
        "        output_train = model(batch_X)\r\n",
        "        # print(output_train.shape)\r\n",
        "        # print(output_train)\r\n",
        "        # print(batch_y.shape)\r\n",
        "        loss_train = criterion(output_train, batch_y)\r\n",
        "        tr_loss.append(loss_train.item())\r\n",
        "\r\n",
        "        # computing the updated weights of all the model parameters\r\n",
        "        loss_train.backward()\r\n",
        "        optimizer.step()\r\n",
        "        #tr_loss = loss_train.item()\r\n",
        "      train_losses.append(np.mean(tr_loss))\r\n",
        "      with torch.no_grad():\r\n",
        "        #for j in tqdm(range(0,len(val_y),batch_size)):\r\n",
        "        for j in range(0,len(val_y),batch_size):\r\n",
        "          val_batch_X = val_x[j:j+batch_size].float()\r\n",
        "          val_batch_y = val_y[j:j+batch_size]\r\n",
        "          # print(val_batch_X.shape)\r\n",
        "          # print(batch_X.shape)\r\n",
        "\r\n",
        "          if torch.cuda.is_available():\r\n",
        "            val_batch_X = val_batch_X.cuda()\r\n",
        "            val_batch_y = val_batch_y.cuda()\r\n",
        "\r\n",
        "          output_val = model(val_batch_X)\r\n",
        "          loss_val = criterion(output_val, val_batch_y)\r\n",
        "          val_loss.append(loss_val.item())   \r\n",
        "        val_losses.append(np.mean(val_loss))\r\n",
        "        \r\n",
        "      if epoch >= 10:  \r\n",
        "        scheduler.step(np.mean(val_loss))\r\n",
        "\r\n",
        "      if not stop_flag:\r\n",
        "        tag = np.mean(val_loss)\r\n",
        "        stop_flag = True\r\n",
        "      else:\r\n",
        "        if tag< np.mean(val_loss):\r\n",
        "          count += 1\r\n",
        "        else:\r\n",
        "          tag = np.mean(val_loss)\r\n",
        "          count = 0\r\n",
        "      if count >= stop_count:\r\n",
        "        print('\\nEarly Stopping at epoch #',epoch,'with minimum val loss',tag,'and final val loss',np.mean(val_loss))\r\n",
        "        break;     \r\n",
        "      if (epoch+1)%10 == 0:\r\n",
        "        # printing the validation loss\r\n",
        "          print('Epoch : ',epoch+1, '\\t','train loss :', np.mean(tr_loss),'\\t','val loss :', np.mean(val_loss))  \r\n",
        "      #     print('Epoch : ',epoch+1, '\\t', 'train loss :', np.mean(tr_loss),'\\n')\r\n",
        "      # time.sleep(1)     \r\n"
      ],
      "execution_count": 184,
      "outputs": []
    },
    {
      "cell_type": "code",
      "metadata": {
        "id": "yE6YaeutYj9T"
      },
      "source": [
        "def plot_loss():\r\n",
        "  plt.plot(train_losses,label = 'Train')\r\n",
        "  plt.plot(val_losses, label = 'Val')\r\n",
        "  plt.legend()\r\n",
        "  plt.show()"
      ],
      "execution_count": 119,
      "outputs": []
    },
    {
      "cell_type": "code",
      "metadata": {
        "id": "q-S_5iW76Eq-"
      },
      "source": [
        "net = Layer5c_ConvNet(21)\r\n",
        "optimizer = Adam(net.parameters(),lr = 3e-3)\r\n",
        "criterion = CrossEntropyLoss()\r\n",
        "#scheduler = ReduceLROnPlateau(optimizer, 'min')\r\n",
        "scheduler = ReduceLROnPlateau(optimizer,patience=5, verbose=True, threshold= 1e-3)\r\n",
        "#criterion = MSELoss()\r\n",
        "if torch.cuda.is_available():\r\n",
        "  net = net.cuda()\r\n",
        "  criterion = criterion.cuda()"
      ],
      "execution_count": 191,
      "outputs": []
    },
    {
      "cell_type": "code",
      "metadata": {
        "id": "RH99ECoQ8cEk",
        "colab": {
          "base_uri": "https://localhost:8080/",
          "height": 465,
          "referenced_widgets": [
            "553e5d91ff824e3da2137686cdda5c18",
            "1463fceb9234434da77dfe4169baf16e",
            "65dccfdabe7f406a9995c0bfeffaca56",
            "4fc2d6bcbdc8433681812572c8a8576d",
            "b9249e6366784a6793aee0c096ffea56",
            "e557332b076e4594998f0def074279d3",
            "850cd9fba6684108bb25e7490e16b1bc",
            "bbaed970c4dd4b63b378972b026743ec"
          ]
        },
        "outputId": "6336feb3-102f-4002-c4fd-345df9fe0fc0"
      },
      "source": [
        "%%time\r\n",
        "#%%capture\r\n",
        "# defining the number of epochs\r\n",
        "n_epochs = 200\r\n",
        "batch_size = 32*4*2\r\n",
        "stop_count = 12\r\n",
        "# empty list to store training losses\r\n",
        "train_losses = []\r\n",
        "# empty list to store validation losses\r\n",
        "val_losses = []\r\n",
        "# training the model\r\n",
        "train(net,batch_size,n_epochs,stop_count)\r\n",
        "print('\\n\\n')\r\n",
        "plot_loss()"
      ],
      "execution_count": 192,
      "outputs": [
        {
          "output_type": "display_data",
          "data": {
            "application/vnd.jupyter.widget-view+json": {
              "model_id": "553e5d91ff824e3da2137686cdda5c18",
              "version_minor": 0,
              "version_major": 2
            },
            "text/plain": [
              "HBox(children=(FloatProgress(value=0.0, max=200.0), HTML(value='')))"
            ]
          },
          "metadata": {
            "tags": []
          }
        },
        {
          "output_type": "stream",
          "text": [
            "Epoch :  10 \t train loss : 0.5673328101634979 \t val loss : 0.9654743472735087\n",
            "Epoch     7: reducing learning rate of group 0 to 3.0000e-04.\n",
            "Epoch :  20 \t train loss : 0.3980350375175476 \t val loss : 1.0223361452420552\n",
            "\n",
            "Early Stopping at epoch # 20 with minimum val loss 0.9027496576309204 and final val loss 1.038089354832967\n",
            "\n",
            "\n",
            "\n"
          ],
          "name": "stdout"
        },
        {
          "output_type": "display_data",
          "data": {
            "image/png": "[encoded data removed]",
            "text/plain": [
              "<Figure size 432x288 with 1 Axes>"
            ]
          },
          "metadata": {
            "tags": [],
            "needs_background": "light"
          }
        },
        {
          "output_type": "stream",
          "text": [
            "CPU times: user 22.4 s, sys: 5.43 s, total: 27.8 s\n",
            "Wall time: 27.8 s\n"
          ],
          "name": "stdout"
        }
      ]
    },
    {
      "cell_type": "markdown",
      "metadata": {
        "id": "7FLc7pyqqXmF"
      },
      "source": [
        "# Inference"
      ]
    },
    {
      "cell_type": "code",
      "metadata": {
        "id": "n_nmGC1SSyzB"
      },
      "source": [
        "from sklearn.metrics import confusion_matrix\r\n",
        "from sklearn.metrics import classification_report"
      ],
      "execution_count": 77,
      "outputs": []
    },
    {
      "cell_type": "code",
      "metadata": {
        "id": "b1EwwcBmVz-Z"
      },
      "source": [
        "def get_pred(model,feature):\r\n",
        "  with torch.no_grad():\r\n",
        "    pred = model(feature.float().cuda())\r\n",
        "\r\n",
        "  pred = pred.cpu()\r\n",
        "  pred = np.array(pred)\r\n",
        "  pred = np.argmax(pred,1)\r\n",
        "\r\n",
        "  return pred \r\n"
      ],
      "execution_count": 34,
      "outputs": []
    },
    {
      "cell_type": "code",
      "metadata": {
        "id": "Y2DF_Hk3WXXh"
      },
      "source": [
        "train_pred = get_pred(net,train_x)\r\n",
        "val_pred   = get_pred(net,val_x)"
      ],
      "execution_count": 193,
      "outputs": []
    },
    {
      "cell_type": "code",
      "metadata": {
        "colab": {
          "base_uri": "https://localhost:8080/"
        },
        "id": "FC0pUDeeW9pY",
        "outputId": "dd31d9c2-7e00-4e09-c93f-557eb0b73f5a"
      },
      "source": [
        "print(classification_report(train_y, train_pred))"
      ],
      "execution_count": 194,
      "outputs": [
        {
          "output_type": "stream",
          "text": [
            "              precision    recall  f1-score   support\n",
            "\n",
            "           0       0.98      0.99      0.99       144\n",
            "           1       0.99      0.98      0.99       144\n",
            "           2       1.00      1.00      1.00       186\n",
            "           3       0.89      0.95      0.92       192\n",
            "           4       0.94      0.88      0.91       192\n",
            "           5       0.49      0.73      0.59       197\n",
            "           6       0.49      0.54      0.51       197\n",
            "           7       0.85      0.64      0.73       197\n",
            "           8       0.63      0.52      0.57       197\n",
            "           9       0.59      0.48      0.53       197\n",
            "          10       0.84      0.98      0.91       224\n",
            "          11       0.95      0.89      0.92       224\n",
            "          12       1.00      0.89      0.94       224\n",
            "\n",
            "    accuracy                           0.80      2515\n",
            "   macro avg       0.82      0.81      0.81      2515\n",
            "weighted avg       0.81      0.80      0.80      2515\n",
            "\n"
          ],
          "name": "stdout"
        }
      ]
    },
    {
      "cell_type": "code",
      "metadata": {
        "colab": {
          "base_uri": "https://localhost:8080/"
        },
        "id": "QZzw8hk-Xxoc",
        "outputId": "1c7c61d0-cf48-4ad0-c41a-480f6eb646a1"
      },
      "source": [
        "print(classification_report(val_y, val_pred))"
      ],
      "execution_count": 195,
      "outputs": [
        {
          "output_type": "stream",
          "text": [
            "              precision    recall  f1-score   support\n",
            "\n",
            "           0       0.89      0.91      0.90        45\n",
            "           1       0.92      0.51      0.66        45\n",
            "           2       0.86      0.82      0.84        45\n",
            "           3       0.72      0.76      0.74        45\n",
            "           4       0.78      0.69      0.73        45\n",
            "           5       0.25      0.33      0.29        45\n",
            "           6       0.39      0.42      0.40        45\n",
            "           7       0.50      0.51      0.51        45\n",
            "           8       0.13      0.09      0.11        45\n",
            "           9       0.29      0.27      0.28        45\n",
            "          10       0.59      0.84      0.70        45\n",
            "          11       0.70      0.78      0.74        45\n",
            "          12       0.89      0.87      0.88        45\n",
            "\n",
            "    accuracy                           0.60       585\n",
            "   macro avg       0.61      0.60      0.60       585\n",
            "weighted avg       0.61      0.60      0.60       585\n",
            "\n"
          ],
          "name": "stdout"
        }
      ]
    },
    {
      "cell_type": "code",
      "metadata": {
        "colab": {
          "base_uri": "https://localhost:8080/",
          "height": 178
        },
        "id": "GxX1Wkkdl0ql",
        "outputId": "797ababa-ce37-4a9b-eca4-dfc1f3c782cd"
      },
      "source": [
        "while True:\r\n",
        "  pass;"
      ],
      "execution_count": 183,
      "outputs": [
        {
          "output_type": "error",
          "ename": "KeyboardInterrupt",
          "evalue": "ignored",
          "traceback": [
            "\u001b[0;31m---------------------------------------------------------------------------\u001b[0m",
            "\u001b[0;31mKeyboardInterrupt\u001b[0m                         Traceback (most recent call last)",
            "\u001b[0;32m<ipython-input-183-3b3709ac7a41>\u001b[0m in \u001b[0;36m<module>\u001b[0;34m()\u001b[0m\n\u001b[1;32m      1\u001b[0m \u001b[0;32mwhile\u001b[0m \u001b[0;32mTrue\u001b[0m\u001b[0;34m:\u001b[0m\u001b[0;34m\u001b[0m\u001b[0;34m\u001b[0m\u001b[0m\n\u001b[0;32m----> 2\u001b[0;31m   \u001b[0;32mpass\u001b[0m\u001b[0;34m;\u001b[0m\u001b[0;34m\u001b[0m\u001b[0;34m\u001b[0m\u001b[0m\n\u001b[0m",
            "\u001b[0;31mKeyboardInterrupt\u001b[0m: "
          ]
        }
      ]
    },
    {
      "cell_type": "code",
      "metadata": {
        "id": "V2pH_cuKWlqY"
      },
      "source": [
        "confusion_matrix(train_y, train_pred)"
      ],
      "execution_count": null,
      "outputs": []
    },
    {
      "cell_type": "code",
      "metadata": {
        "id": "1awmWQ_jWm2C"
      },
      "source": [
        "confusion_matrix(val_y, val_pred)"
      ],
      "execution_count": null,
      "outputs": []
    }
  ]
}