{
  "nbformat": 4,
  "nbformat_minor": 0,
  "metadata": {
    "colab": {
      "name": "Robot - Data Processing 5",
      "provenance": [],
      "collapsed_sections": [
        "naepyOndYxtt"
      ],
      "authorship_tag": "ABX9TyPW+D9s5KM6grGWD5JQBMqT",
      "include_colab_link": true
    },
    "kernelspec": {
      "name": "python3",
      "display_name": "Python 3"
    },
    "accelerator": "GPU"
  },
  "cells": [
    {
      "cell_type": "markdown",
      "metadata": {
        "id": "view-in-github",
        "colab_type": "text"
      },
      "source": [
        "<a href=\"https://colab.research.google.com/github/moajjem04/Pytorch_Practice/blob/main/Robot_Data_Processing_5.ipynb\" target=\"_parent\"><img src=\"https://colab.research.google.com/assets/colab-badge.svg\" alt=\"Open In Colab\"/></a>"
      ]
    },
    {
      "cell_type": "markdown",
      "metadata": {
        "id": "N8qKGEwzgixm"
      },
      "source": [
        "# Accessing Google Drive"
      ]
    },
    {
      "cell_type": "code",
      "metadata": {
        "colab": {
          "base_uri": "https://localhost:8080/"
        },
        "id": "nXY6FMlJgedd",
        "outputId": "e03ca2cf-c0fe-49ba-ffc1-13bd2e9519b4"
      },
      "source": [
        "from google.colab import drive\r\n",
        "drive.mount('/content/drive')"
      ],
      "execution_count": 1,
      "outputs": [
        {
          "output_type": "stream",
          "text": [
            "Drive already mounted at /content/drive; to attempt to forcibly remount, call drive.mount(\"/content/drive\", force_remount=True).\n"
          ],
          "name": "stdout"
        }
      ]
    },
    {
      "cell_type": "code",
      "metadata": {
        "colab": {
          "base_uri": "https://localhost:8080/"
        },
        "id": "tgKVXwzUgop4",
        "outputId": "ec46074f-0732-4696-8599-c04109c8937c"
      },
      "source": [
        "%cd '/content/drive/MyDrive/robot'"
      ],
      "execution_count": 2,
      "outputs": [
        {
          "output_type": "stream",
          "text": [
            "/content/drive/.shortcut-targets-by-id/1xoj4fkjFWbgZZGpDNuTyZsH1-eOzncVi/robotic arm data - s\n"
          ],
          "name": "stdout"
        }
      ]
    },
    {
      "cell_type": "code",
      "metadata": {
        "colab": {
          "base_uri": "https://localhost:8080/",
          "height": 35
        },
        "id": "LOZbAmWtgqWE",
        "outputId": "90b291de-0149-4ead-97fd-87d2f2341fd0"
      },
      "source": [
        "%pwd"
      ],
      "execution_count": 3,
      "outputs": [
        {
          "output_type": "execute_result",
          "data": {
            "application/vnd.google.colaboratory.intrinsic+json": {
              "type": "string"
            },
            "text/plain": [
              "'/content/drive/.shortcut-targets-by-id/1xoj4fkjFWbgZZGpDNuTyZsH1-eOzncVi/robotic arm data - s'"
            ]
          },
          "metadata": {
            "tags": []
          },
          "execution_count": 3
        }
      ]
    },
    {
      "cell_type": "code",
      "metadata": {
        "colab": {
          "base_uri": "https://localhost:8080/"
        },
        "id": "9jcQtFqegsF0",
        "outputId": "48c61caa-5cf2-400a-d94b-eee7384e0875"
      },
      "source": [
        "%ls"
      ],
      "execution_count": 4,
      "outputs": [
        {
          "output_type": "stream",
          "text": [
            "data_v2.pkl   Samling_for_Zhen_d_s2.csv         Samling_for_Zhen_lygf_e_s.csv\n",
            "data_v3.pkl   Samling_for_Zhen_d_s.csv          Samling_for_Zhen_oyg_2e_s.csv\n",
            "IMG_4598.MOV  Samling_for_Zhen_g_S.csv          Samling_for_Zhen_oyg_e_s1.csv\n",
            "IMG_4599.MOV  Samling_for_Zhen_lg_e_s.csv       Samling_for_Zhen_w_s.csv\n",
            "IMG_4600.MOV  Samling_for_Zhen_Lizhuoxun_S.csv  Samling_for_Zhen_x_s.csv\n",
            "IMG_4601.MOV  Samling_for_Zhen_l_s.csv          Samling_for_Zhen_yg_e_s.csv\n",
            "IMG_4602.MOV  Samling_for_Zhen_lyfg_2e_s.csv\n"
          ],
          "name": "stdout"
        }
      ]
    },
    {
      "cell_type": "markdown",
      "metadata": {
        "id": "9xpKn73Rgx2k"
      },
      "source": [
        "# Loading the Data"
      ]
    },
    {
      "cell_type": "code",
      "metadata": {
        "id": "5V2xd8cDg2k8"
      },
      "source": [
        "import pandas as pd\r\n",
        "import matplotlib.pyplot as plt\r\n",
        "import numpy as np\r\n",
        "from google.colab import files\r\n",
        "import os\r\n",
        "import pickle"
      ],
      "execution_count": 5,
      "outputs": []
    },
    {
      "cell_type": "code",
      "metadata": {
        "id": "Qu57KDD_g8Z0"
      },
      "source": [
        "file_name = \"data_v3.pkl\"\r\n",
        "open_file = open(file_name, \"rb\")\r\n",
        "Data = pickle.load(open_file)\r\n",
        "open_file.close()"
      ],
      "execution_count": 6,
      "outputs": []
    },
    {
      "cell_type": "code",
      "metadata": {
        "colab": {
          "base_uri": "https://localhost:8080/"
        },
        "id": "CohWTdJ9hG0b",
        "outputId": "609d1a2a-763f-4b60-fbd0-520a7db14e91"
      },
      "source": [
        "Data.keys()"
      ],
      "execution_count": 7,
      "outputs": [
        {
          "output_type": "execute_result",
          "data": {
            "text/plain": [
              "dict_keys(['name_class', 'train_sig', 'val_sig', 'train_class', 'val_class', 'time_dict'])"
            ]
          },
          "metadata": {
            "tags": []
          },
          "execution_count": 7
        }
      ]
    },
    {
      "cell_type": "code",
      "metadata": {
        "id": "EU66FU9QM02u"
      },
      "source": [
        "name_class  = Data['name_class']\r\n",
        "train_sig   = Data['train_sig']\r\n",
        "val_sig     = Data['val_sig']\r\n",
        "train_class = Data['train_class']\r\n",
        "val_class   = Data['val_class']"
      ],
      "execution_count": 8,
      "outputs": []
    },
    {
      "cell_type": "code",
      "metadata": {
        "id": "FCO7Kam3NH6-"
      },
      "source": [
        "%reset_selective -f Data"
      ],
      "execution_count": 9,
      "outputs": []
    },
    {
      "cell_type": "code",
      "metadata": {
        "colab": {
          "base_uri": "https://localhost:8080/"
        },
        "id": "DPe5fL6UN-Jf",
        "outputId": "97c1b089-7f62-4609-dfee-37861b287441"
      },
      "source": [
        "try:\r\n",
        "  Data.keys()\r\n",
        "except:\r\n",
        "  print('No Data')"
      ],
      "execution_count": 10,
      "outputs": [
        {
          "output_type": "stream",
          "text": [
            "No Data\n"
          ],
          "name": "stdout"
        }
      ]
    },
    {
      "cell_type": "code",
      "metadata": {
        "colab": {
          "base_uri": "https://localhost:8080/"
        },
        "id": "jGpT0Grssxtv",
        "outputId": "37dedaca-c682-49e0-c05d-a582e757259c"
      },
      "source": [
        "print('The total data')\r\n",
        "print('Training Data shape:',train_sig.shape)\r\n",
        "print('Validation Data shape:',val_sig.shape)\r\n",
        "print('Training Class shape:',train_class.shape)\r\n",
        "print('Validation Class shape:',val_class.shape)\r\n",
        "temp = val_sig.shape[0]/(train_sig.shape[0] + val_sig.shape[0])\r\n",
        "print('Proportion of Validation Data:',round(temp*100,2),'%')"
      ],
      "execution_count": 11,
      "outputs": [
        {
          "output_type": "stream",
          "text": [
            "The total data\n",
            "Training Data shape: (2515, 21, 5000, 1)\n",
            "Validation Data shape: (585, 21, 5000, 1)\n",
            "Training Class shape: (2515, 1)\n",
            "Validation Class shape: (585, 1)\n",
            "Proportion of Validation Data: 18.87 %\n"
          ],
          "name": "stdout"
        }
      ]
    },
    {
      "cell_type": "markdown",
      "metadata": {
        "id": "Ev2kv-2GzYiD"
      },
      "source": [
        "## Shuffling the Data"
      ]
    },
    {
      "cell_type": "code",
      "metadata": {
        "id": "rQZCHr4RzwAR"
      },
      "source": [
        "np.random.seed(42)"
      ],
      "execution_count": 12,
      "outputs": []
    },
    {
      "cell_type": "code",
      "metadata": {
        "id": "wBvT7qTDzb7B"
      },
      "source": [
        "train_idx = np.arange(0,train_sig.shape[0])\r\n",
        "val_idx = np.arange(0,val_sig.shape[0])"
      ],
      "execution_count": 13,
      "outputs": []
    },
    {
      "cell_type": "code",
      "metadata": {
        "id": "zOMbMR8S0SRi"
      },
      "source": [
        "np.random.shuffle(train_idx)\r\n",
        "np.random.shuffle(val_idx)"
      ],
      "execution_count": 14,
      "outputs": []
    },
    {
      "cell_type": "code",
      "metadata": {
        "colab": {
          "base_uri": "https://localhost:8080/"
        },
        "id": "KV3Nh4l20cBA",
        "outputId": "d984b661-e66b-4de4-d85d-ba97e8b50e4b"
      },
      "source": [
        "train_idx"
      ],
      "execution_count": 15,
      "outputs": [
        {
          "output_type": "execute_result",
          "data": {
            "text/plain": [
              "array([ 617,  927,  942, ..., 1130, 1294,  860])"
            ]
          },
          "metadata": {
            "tags": []
          },
          "execution_count": 15
        }
      ]
    },
    {
      "cell_type": "code",
      "metadata": {
        "id": "7UyAoDJA0eVD"
      },
      "source": [
        "train_sig   = train_sig[train_idx,:,:,:]\r\n",
        "train_class = train_class[train_idx,:]\r\n",
        "val_sig     = val_sig[val_idx,:,:,:]\r\n",
        "val_class   = val_class[val_idx,:]"
      ],
      "execution_count": 16,
      "outputs": []
    },
    {
      "cell_type": "code",
      "metadata": {
        "colab": {
          "base_uri": "https://localhost:8080/"
        },
        "id": "zFw5b2hjPRxQ",
        "outputId": "507ce591-1e84-4266-9a33-adfb0af45326"
      },
      "source": [
        "val_class = val_class.reshape(val_class.shape[0])\r\n",
        "print(val_class.shape)\r\n",
        "train_class = train_class.reshape(train_class.shape[0])\r\n",
        "print(train_class.shape)"
      ],
      "execution_count": 17,
      "outputs": [
        {
          "output_type": "stream",
          "text": [
            "(585,)\n",
            "(2515,)\n"
          ],
          "name": "stdout"
        }
      ]
    },
    {
      "cell_type": "code",
      "metadata": {
        "colab": {
          "base_uri": "https://localhost:8080/"
        },
        "id": "M5O68i8T00_Z",
        "outputId": "67a5b926-73aa-4948-abc7-7d81b8670bb9"
      },
      "source": [
        "train_class[0]"
      ],
      "execution_count": 18,
      "outputs": [
        {
          "output_type": "execute_result",
          "data": {
            "text/plain": [
              "3.0"
            ]
          },
          "metadata": {
            "tags": []
          },
          "execution_count": 18
        }
      ]
    },
    {
      "cell_type": "markdown",
      "metadata": {
        "id": "mu9pD2j4xfXy"
      },
      "source": [
        "# Defining the Neural Network Architecture"
      ]
    },
    {
      "cell_type": "code",
      "metadata": {
        "id": "VvU18ht9xeZl"
      },
      "source": [
        "import torch\r\n",
        "import torch.nn as nn\r\n",
        "import torch.nn.functional as F\r\n",
        "# import torch.optim as optim\r\n",
        "from torch.autograd import Variable\r\n",
        "from torch.nn import Linear, ReLU, CrossEntropyLoss, Sequential, Conv1d, MaxPool1d, Module, Softmax, BatchNorm1d, Dropout, MSELoss\r\n",
        "from torch.optim import Adam, SGD\r\n",
        "\r\n",
        "from tqdm import tqdm"
      ],
      "execution_count": 19,
      "outputs": []
    },
    {
      "cell_type": "code",
      "metadata": {
        "id": "PGYnbYDpp7UG"
      },
      "source": [
        "class Layer3_ConvNet(nn.Module):\r\n",
        "  def __init__(self,n_channels):\r\n",
        "    super().__init__()\r\n",
        "\r\n",
        "    self.cnn_layers = Sequential(\r\n",
        "        # Defining a 1D convolution layer\r\n",
        "        Conv1d(n_channels, 21, kernel_size=5, padding=1),\r\n",
        "        BatchNorm1d(21),\r\n",
        "        ReLU(inplace=True),\r\n",
        "        MaxPool1d(kernel_size=2, stride=2),\r\n",
        "        # Defining another 1D convolution layer\r\n",
        "        Conv1d(21, 21, kernel_size=5, padding=1),\r\n",
        "        BatchNorm1d(21),\r\n",
        "        ReLU(inplace=True),\r\n",
        "        MaxPool1d(kernel_size=2, stride=2),\r\n",
        "        # Defining another 1D convolution layer\r\n",
        "        Conv1d(21, 21, kernel_size=5, padding=1),\r\n",
        "        BatchNorm1d(21),\r\n",
        "        ReLU(inplace=True),\r\n",
        "        MaxPool1d(kernel_size=2, stride=2)\r\n",
        "    )\r\n",
        "    # This code is used calculate the size of the flattened layer by having one\r\n",
        "    #   pass forward\r\n",
        "    x = torch.randn(21,5000).view(-1,21,5000)\r\n",
        "    self._to_linear = None\r\n",
        "    self.convs(x)\r\n",
        "\r\n",
        "    self.flat = nn.Flatten()\r\n",
        "\r\n",
        "    self.linear_layers = Sequential(\r\n",
        "                Linear(self._to_linear, 13)\r\n",
        "            )\r\n",
        "\r\n",
        "  def convs(self, x):\r\n",
        "    # max pooling over 2x2\r\n",
        "    x = self.cnn_layers(x)\r\n",
        "    #print(x[0].shape)\r\n",
        "\r\n",
        "    if self._to_linear is None:\r\n",
        "      self._to_linear = x[0].shape[0]*x[0].shape[1]\r\n",
        "    return x\r\n",
        "\r\n",
        "  def forward(self, x):\r\n",
        "    x = self.convs(x)\r\n",
        "    x = self.flat(x)\r\n",
        "    x = self.linear_layers(x)\r\n",
        "    return x"
      ],
      "execution_count": 21,
      "outputs": []
    },
    {
      "cell_type": "code",
      "metadata": {
        "id": "tY1LoPVOqE1l"
      },
      "source": [
        "class Layer4_ConvNet(nn.Module):\r\n",
        "  def __init__(self,n_channels):\r\n",
        "    super().__init__()\r\n",
        "\r\n",
        "    self.cnn_layers = Sequential(\r\n",
        "        # Defining a 1D convolution layer\r\n",
        "        Conv1d(n_channels, 21, kernel_size=5, padding=1),\r\n",
        "        BatchNorm1d(21),\r\n",
        "        ReLU(inplace=True),\r\n",
        "        MaxPool1d(kernel_size=2, stride=2),\r\n",
        "        # Defining another 1D convolution layer\r\n",
        "        Conv1d(21, 21, kernel_size=5, padding=1),\r\n",
        "        BatchNorm1d(21),\r\n",
        "        ReLU(inplace=True),\r\n",
        "        MaxPool1d(kernel_size=2, stride=2),\r\n",
        "        # Defining another 1D convolution layer\r\n",
        "        Conv1d(21, 21, kernel_size=5, padding=1),\r\n",
        "        BatchNorm1d(21),\r\n",
        "        ReLU(inplace=True),\r\n",
        "        MaxPool1d(kernel_size=2, stride=2),\r\n",
        "        # Defining another 1D convolution layer\r\n",
        "        Conv1d(21, 21, kernel_size=5, padding=1),\r\n",
        "        BatchNorm1d(21),\r\n",
        "        ReLU(inplace=True),\r\n",
        "        MaxPool1d(kernel_size=2, stride=2)\r\n",
        "    )\r\n",
        "    # This code is used calculate the size of the flattened layer by having one\r\n",
        "    #   pass forward\r\n",
        "    x = torch.randn(21,5000).view(-1,21,5000)\r\n",
        "    self._to_linear = None\r\n",
        "    self.convs(x)\r\n",
        "\r\n",
        "    self.flat = nn.Flatten()\r\n",
        "\r\n",
        "    self.linear_layers = Sequential(\r\n",
        "                Linear(self._to_linear, 13)\r\n",
        "            )\r\n",
        "\r\n",
        "  def convs(self, x):\r\n",
        "    # max pooling over 2x2\r\n",
        "    x = self.cnn_layers(x)\r\n",
        "    #print(x[0].shape)\r\n",
        "\r\n",
        "    if self._to_linear is None:\r\n",
        "      self._to_linear = x[0].shape[0]*x[0].shape[1]\r\n",
        "    return x\r\n",
        "\r\n",
        "  def forward(self, x):\r\n",
        "    x = self.convs(x)\r\n",
        "    x = self.flat(x)\r\n",
        "    x = self.linear_layers(x)\r\n",
        "    return x"
      ],
      "execution_count": 22,
      "outputs": []
    },
    {
      "cell_type": "code",
      "metadata": {
        "id": "q0VkjvWDyHjS"
      },
      "source": [
        "class Layer5_ConvNet(nn.Module):\r\n",
        "  def __init__(self,n_channels):\r\n",
        "    super().__init__()\r\n",
        "\r\n",
        "    self.cnn_layers = Sequential(\r\n",
        "        # Defining a 1D convolution layer\r\n",
        "        Conv1d(n_channels, 21, kernel_size=5, padding=1),\r\n",
        "        BatchNorm1d(21),\r\n",
        "        ReLU(inplace=True),\r\n",
        "        MaxPool1d(kernel_size=2, stride=2),\r\n",
        "        # Defining another 1D convolution layer\r\n",
        "        Conv1d(21, 21, kernel_size=5, padding=1),\r\n",
        "        BatchNorm1d(21),\r\n",
        "        ReLU(inplace=True),\r\n",
        "        MaxPool1d(kernel_size=2, stride=2),\r\n",
        "        # Defining another 1D convolution layer\r\n",
        "        Conv1d(21, 21, kernel_size=5, padding=1),\r\n",
        "        BatchNorm1d(21),\r\n",
        "        ReLU(inplace=True),\r\n",
        "        MaxPool1d(kernel_size=2, stride=2),\r\n",
        "        # Defining another 1D convolution layer\r\n",
        "        Conv1d(21, 21, kernel_size=5, padding=1),\r\n",
        "        BatchNorm1d(21),\r\n",
        "        ReLU(inplace=True),\r\n",
        "        MaxPool1d(kernel_size=2, stride=2),\r\n",
        "        # Defining another 1D convolution layer\r\n",
        "        Conv1d(21, 21, kernel_size=5, padding=1),\r\n",
        "        BatchNorm1d(21),\r\n",
        "        ReLU(inplace=True),\r\n",
        "        MaxPool1d(kernel_size=2, stride=2)\r\n",
        "    )\r\n",
        "    # This code is used calculate the size of the flattened layer by having one\r\n",
        "    #   pass forward\r\n",
        "    x = torch.randn(21,5000).view(-1,21,5000)\r\n",
        "    self._to_linear = None\r\n",
        "    self.convs(x)\r\n",
        "\r\n",
        "    self.flat = nn.Flatten()\r\n",
        "\r\n",
        "    self.linear_layers = Sequential(\r\n",
        "                Linear(self._to_linear, 13)\r\n",
        "            )\r\n",
        "\r\n",
        "  def convs(self, x):\r\n",
        "    # max pooling over 2x2\r\n",
        "    x = self.cnn_layers(x)\r\n",
        "    #print(x[0].shape)\r\n",
        "\r\n",
        "    if self._to_linear is None:\r\n",
        "      self._to_linear = x[0].shape[0]*x[0].shape[1]\r\n",
        "    return x\r\n",
        "\r\n",
        "  def forward(self, x):\r\n",
        "    x = self.convs(x)\r\n",
        "    x = self.flat(x)\r\n",
        "    x = self.linear_layers(x)\r\n",
        "    return x"
      ],
      "execution_count": 23,
      "outputs": []
    },
    {
      "cell_type": "code",
      "metadata": {
        "id": "13EE-8j3sVfP"
      },
      "source": [
        "class Layer5a_ConvNet(nn.Module):\r\n",
        "  def __init__(self,n_channels):\r\n",
        "    super().__init__()\r\n",
        "\r\n",
        "    self.cnn_layers = Sequential(\r\n",
        "        # Defining a 1D convolution layer\r\n",
        "        Conv1d(n_channels, 21, kernel_size=5, padding=1),\r\n",
        "        BatchNorm1d(21),\r\n",
        "        ReLU(inplace=True),\r\n",
        "        MaxPool1d(kernel_size=5),\r\n",
        "        # Defining another 1D convolution layer\r\n",
        "        Conv1d(21, 21, kernel_size=5, padding=1),\r\n",
        "        BatchNorm1d(21),\r\n",
        "        ReLU(inplace=True),\r\n",
        "        MaxPool1d(kernel_size=5),\r\n",
        "        # Defining another 1D convolution layer\r\n",
        "        Conv1d(21, 21, kernel_size=5, padding=1),\r\n",
        "        BatchNorm1d(21),\r\n",
        "        ReLU(inplace=True),\r\n",
        "        MaxPool1d(kernel_size=5),\r\n",
        "        # Defining another 1D convolution layer\r\n",
        "        Conv1d(21, 21, kernel_size=5, padding=1),\r\n",
        "        BatchNorm1d(21),\r\n",
        "        ReLU(inplace=True),\r\n",
        "        MaxPool1d(kernel_size=5),\r\n",
        "        # Defining another 1D convolution layer\r\n",
        "        Conv1d(21, 21, kernel_size=5, padding=1),\r\n",
        "        BatchNorm1d(21),\r\n",
        "        ReLU(inplace=True),\r\n",
        "        MaxPool1d(kernel_size=5)\r\n",
        "    )\r\n",
        "    # This code is used calculate the size of the flattened layer by having one\r\n",
        "    #   pass forward\r\n",
        "    x = torch.randn(21,5000).view(-1,21,5000)\r\n",
        "    self._to_linear = None\r\n",
        "    self.convs(x)\r\n",
        "\r\n",
        "    self.flat = nn.Flatten()\r\n",
        "\r\n",
        "    self.linear_layers = Sequential(\r\n",
        "                Linear(self._to_linear, 13)\r\n",
        "            )\r\n",
        "\r\n",
        "  def convs(self, x):\r\n",
        "    # max pooling over 2x2\r\n",
        "    x = self.cnn_layers(x)\r\n",
        "    #print(x[0].shape)\r\n",
        "\r\n",
        "    if self._to_linear is None:\r\n",
        "      self._to_linear = x[0].shape[0]*x[0].shape[1]\r\n",
        "    return x\r\n",
        "\r\n",
        "  def forward(self, x):\r\n",
        "    x = self.convs(x)\r\n",
        "    x = self.flat(x)\r\n",
        "    x = self.linear_layers(x)\r\n",
        "    return x"
      ],
      "execution_count": 47,
      "outputs": []
    },
    {
      "cell_type": "code",
      "metadata": {
        "id": "2BisfLactAxn"
      },
      "source": [
        "class Layer5b_ConvNet(nn.Module):\r\n",
        "  def __init__(self,n_channels):\r\n",
        "    super().__init__()\r\n",
        "\r\n",
        "    self.cnn_layers = Sequential(\r\n",
        "        # Defining a 1D convolution layer\r\n",
        "        Conv1d(n_channels, 21*2, kernel_size=5, padding=1),\r\n",
        "        BatchNorm1d(21*2),\r\n",
        "        ReLU(inplace=True),\r\n",
        "        MaxPool1d(kernel_size=5),\r\n",
        "        # Defining another 1D convolution layer\r\n",
        "        Conv1d(21*2, 21*4, kernel_size=5, padding=1),\r\n",
        "        BatchNorm1d(21*4),\r\n",
        "        ReLU(inplace=True),\r\n",
        "        MaxPool1d(kernel_size=5),\r\n",
        "        # Defining another 1D convolution layer\r\n",
        "        Conv1d(21*4, 21*4, kernel_size=5, padding=1),\r\n",
        "        BatchNorm1d(21*4),\r\n",
        "        ReLU(inplace=True),\r\n",
        "        MaxPool1d(kernel_size=5),\r\n",
        "        # Defining another 1D convolution layer\r\n",
        "        Conv1d(21*4, 21*2, kernel_size=5, padding=1),\r\n",
        "        BatchNorm1d(21*2),\r\n",
        "        ReLU(inplace=True),\r\n",
        "        MaxPool1d(kernel_size=5),\r\n",
        "        # Defining another 1D convolution layer\r\n",
        "        Conv1d(21*2, 21, kernel_size=5, padding=1),\r\n",
        "        BatchNorm1d(21),\r\n",
        "        ReLU(inplace=True),\r\n",
        "        MaxPool1d(kernel_size=5)\r\n",
        "    )\r\n",
        "    # This code is used calculate the size of the flattened layer by having one\r\n",
        "    #   pass forward\r\n",
        "    x = torch.randn(21,5000).view(-1,21,5000)\r\n",
        "    self._to_linear = None\r\n",
        "    self.convs(x)\r\n",
        "\r\n",
        "    self.flat = nn.Flatten()\r\n",
        "\r\n",
        "    self.linear_layers = Sequential(\r\n",
        "                Linear(self._to_linear, 13)\r\n",
        "            )\r\n",
        "\r\n",
        "  def convs(self, x):\r\n",
        "    # max pooling over 2x2\r\n",
        "    x = self.cnn_layers(x)\r\n",
        "    #print(x[0].shape)\r\n",
        "\r\n",
        "    if self._to_linear is None:\r\n",
        "      self._to_linear = x[0].shape[0]*x[0].shape[1]\r\n",
        "    return x\r\n",
        "\r\n",
        "  def forward(self, x):\r\n",
        "    x = self.convs(x)\r\n",
        "    x = self.flat(x)\r\n",
        "    x = self.linear_layers(x)\r\n",
        "    return x"
      ],
      "execution_count": 46,
      "outputs": []
    },
    {
      "cell_type": "code",
      "metadata": {
        "colab": {
          "base_uri": "https://localhost:8080/"
        },
        "id": "TOfL2MEh4fwu",
        "outputId": "d15174fb-ed46-4075-ecdb-9f8f96f9eb6f"
      },
      "source": [
        "net = Layer5b_ConvNet(21)\r\n",
        "print(net)"
      ],
      "execution_count": 48,
      "outputs": [
        {
          "output_type": "stream",
          "text": [
            "Layer5b_ConvNet(\n",
            "  (cnn_layers): Sequential(\n",
            "    (0): Conv1d(21, 42, kernel_size=(5,), stride=(1,), padding=(1,))\n",
            "    (1): BatchNorm1d(42, eps=1e-05, momentum=0.1, affine=True, track_running_stats=True)\n",
            "    (2): ReLU(inplace=True)\n",
            "    (3): MaxPool1d(kernel_size=5, stride=5, padding=0, dilation=1, ceil_mode=False)\n",
            "    (4): Conv1d(42, 84, kernel_size=(5,), stride=(1,), padding=(1,))\n",
            "    (5): BatchNorm1d(84, eps=1e-05, momentum=0.1, affine=True, track_running_stats=True)\n",
            "    (6): ReLU(inplace=True)\n",
            "    (7): MaxPool1d(kernel_size=5, stride=5, padding=0, dilation=1, ceil_mode=False)\n",
            "    (8): Conv1d(84, 84, kernel_size=(5,), stride=(1,), padding=(1,))\n",
            "    (9): BatchNorm1d(84, eps=1e-05, momentum=0.1, affine=True, track_running_stats=True)\n",
            "    (10): ReLU(inplace=True)\n",
            "    (11): MaxPool1d(kernel_size=5, stride=5, padding=0, dilation=1, ceil_mode=False)\n",
            "    (12): Conv1d(84, 42, kernel_size=(5,), stride=(1,), padding=(1,))\n",
            "    (13): BatchNorm1d(42, eps=1e-05, momentum=0.1, affine=True, track_running_stats=True)\n",
            "    (14): ReLU(inplace=True)\n",
            "    (15): MaxPool1d(kernel_size=5, stride=5, padding=0, dilation=1, ceil_mode=False)\n",
            "    (16): Conv1d(42, 21, kernel_size=(5,), stride=(1,), padding=(1,))\n",
            "    (17): BatchNorm1d(21, eps=1e-05, momentum=0.1, affine=True, track_running_stats=True)\n",
            "    (18): ReLU(inplace=True)\n",
            "    (19): MaxPool1d(kernel_size=5, stride=5, padding=0, dilation=1, ceil_mode=False)\n",
            "  )\n",
            "  (flat): Flatten(start_dim=1, end_dim=-1)\n",
            "  (linear_layers): Sequential(\n",
            "    (0): Linear(in_features=21, out_features=13, bias=True)\n",
            "  )\n",
            ")\n"
          ],
          "name": "stdout"
        }
      ]
    },
    {
      "cell_type": "code",
      "metadata": {
        "colab": {
          "base_uri": "https://localhost:8080/"
        },
        "id": "0-prNma94Pqw",
        "outputId": "b7970174-d3aa-4d60-d061-93105dae27bf"
      },
      "source": [
        "from torchsummary import summary\r\n",
        "summary(net.cuda(), (21,5000))"
      ],
      "execution_count": 49,
      "outputs": [
        {
          "output_type": "stream",
          "text": [
            "----------------------------------------------------------------\n",
            "        Layer (type)               Output Shape         Param #\n",
            "================================================================\n",
            "            Conv1d-1             [-1, 42, 4998]           4,452\n",
            "       BatchNorm1d-2             [-1, 42, 4998]              84\n",
            "              ReLU-3             [-1, 42, 4998]               0\n",
            "         MaxPool1d-4              [-1, 42, 999]               0\n",
            "            Conv1d-5              [-1, 84, 997]          17,724\n",
            "       BatchNorm1d-6              [-1, 84, 997]             168\n",
            "              ReLU-7              [-1, 84, 997]               0\n",
            "         MaxPool1d-8              [-1, 84, 199]               0\n",
            "            Conv1d-9              [-1, 84, 197]          35,364\n",
            "      BatchNorm1d-10              [-1, 84, 197]             168\n",
            "             ReLU-11              [-1, 84, 197]               0\n",
            "        MaxPool1d-12               [-1, 84, 39]               0\n",
            "           Conv1d-13               [-1, 42, 37]          17,682\n",
            "      BatchNorm1d-14               [-1, 42, 37]              84\n",
            "             ReLU-15               [-1, 42, 37]               0\n",
            "        MaxPool1d-16                [-1, 42, 7]               0\n",
            "           Conv1d-17                [-1, 21, 5]           4,431\n",
            "      BatchNorm1d-18                [-1, 21, 5]              42\n",
            "             ReLU-19                [-1, 21, 5]               0\n",
            "        MaxPool1d-20                [-1, 21, 1]               0\n",
            "          Flatten-21                   [-1, 21]               0\n",
            "           Linear-22                   [-1, 13]             286\n",
            "================================================================\n",
            "Total params: 80,485\n",
            "Trainable params: 80,485\n",
            "Non-trainable params: 0\n",
            "----------------------------------------------------------------\n",
            "Input size (MB): 0.40\n",
            "Forward/backward pass size (MB): 7.61\n",
            "Params size (MB): 0.31\n",
            "Estimated Total Size (MB): 8.32\n",
            "----------------------------------------------------------------\n"
          ],
          "name": "stdout"
        }
      ]
    },
    {
      "cell_type": "markdown",
      "metadata": {
        "id": "pgueD-9XqKFc"
      },
      "source": [
        "# Training Model"
      ]
    },
    {
      "cell_type": "code",
      "metadata": {
        "colab": {
          "base_uri": "https://localhost:8080/"
        },
        "id": "ljRapXhv_IQk",
        "outputId": "a94522aa-5d92-4b89-b452-5a303a36a2d9"
      },
      "source": [
        "torch.cuda.is_available()"
      ],
      "execution_count": 26,
      "outputs": [
        {
          "output_type": "execute_result",
          "data": {
            "text/plain": [
              "True"
            ]
          },
          "metadata": {
            "tags": []
          },
          "execution_count": 26
        }
      ]
    },
    {
      "cell_type": "markdown",
      "metadata": {
        "id": "YSaZAGG7qP61"
      },
      "source": [
        "## Convert Data"
      ]
    },
    {
      "cell_type": "code",
      "metadata": {
        "id": "savfqV3Q6uSF",
        "colab": {
          "base_uri": "https://localhost:8080/"
        },
        "outputId": "d44efb33-64a9-4036-e55d-262a2ac005ad"
      },
      "source": [
        "# converting training images into torch format\r\n",
        "train_x = train_sig.astype(float)\r\n",
        "train_x = train_x.reshape(train_sig.shape[0], 21,5000)\r\n",
        "train_x  = torch.from_numpy(train_x)\r\n",
        "\r\n",
        "# converting the target into torch format\r\n",
        "train_y = train_class.astype(int)\r\n",
        "#train_y = enc.fit_transform(train_y)\r\n",
        "train_y = torch.from_numpy(train_y)\r\n",
        "\r\n",
        "# shape of training data\r\n",
        "train_x.shape, train_y.shape"
      ],
      "execution_count": 27,
      "outputs": [
        {
          "output_type": "execute_result",
          "data": {
            "text/plain": [
              "(torch.Size([2515, 21, 5000]), torch.Size([2515]))"
            ]
          },
          "metadata": {
            "tags": []
          },
          "execution_count": 27
        }
      ]
    },
    {
      "cell_type": "code",
      "metadata": {
        "id": "GJ_1hn3zCFBr",
        "colab": {
          "base_uri": "https://localhost:8080/"
        },
        "outputId": "712fda30-8496-431c-c481-b1f61efb6732"
      },
      "source": [
        "type(train_x[0])"
      ],
      "execution_count": 28,
      "outputs": [
        {
          "output_type": "execute_result",
          "data": {
            "text/plain": [
              "torch.Tensor"
            ]
          },
          "metadata": {
            "tags": []
          },
          "execution_count": 28
        }
      ]
    },
    {
      "cell_type": "code",
      "metadata": {
        "id": "ZsvrM2Jx7vSH",
        "colab": {
          "base_uri": "https://localhost:8080/"
        },
        "outputId": "9c4169cb-5b5f-428a-a364-27c53f0ad802"
      },
      "source": [
        "# converting training images into torch format\r\n",
        "val_x = val_sig.astype(float)\r\n",
        "val_x = val_sig.reshape(val_sig.shape[0], 21,5000)\r\n",
        "val_x  = torch.from_numpy(val_x)\r\n",
        "\r\n",
        "# converting the target into torch format\r\n",
        "val_y = val_class.astype(int)\r\n",
        "#val_y = \r\n",
        "val_y = torch.from_numpy(val_y)\r\n",
        "\r\n",
        "# shape of training data\r\n",
        "val_x.shape, val_y.shape"
      ],
      "execution_count": 29,
      "outputs": [
        {
          "output_type": "execute_result",
          "data": {
            "text/plain": [
              "(torch.Size([585, 21, 5000]), torch.Size([585]))"
            ]
          },
          "metadata": {
            "tags": []
          },
          "execution_count": 29
        }
      ]
    },
    {
      "cell_type": "markdown",
      "metadata": {
        "id": "q42KPdcxqSt-"
      },
      "source": [
        "## Training"
      ]
    },
    {
      "cell_type": "code",
      "metadata": {
        "id": "G0F-UmoT6fj_"
      },
      "source": [
        "def train(model,batch_size,epochs,stop_count):\r\n",
        "    tag = 0;\r\n",
        "    stop_flag = False\r\n",
        "    count = 0\r\n",
        "    for epoch in range(epochs):\r\n",
        "      tr_loss = []\r\n",
        "      val_loss = []\r\n",
        "      for i in tqdm(range(0,len(train_y),batch_size)):\r\n",
        "        batch_X = train_x[i:i+batch_size].float()\r\n",
        "        batch_y = train_y[i:i+batch_size]\r\n",
        "\r\n",
        "        if torch.cuda.is_available():\r\n",
        "          batch_X = batch_X.cuda()\r\n",
        "          batch_y = batch_y.cuda()\r\n",
        "\r\n",
        "        model.zero_grad()\r\n",
        "        output_train = model(batch_X)\r\n",
        "        # print(output_train.shape)\r\n",
        "        # print(output_train)\r\n",
        "        # print(batch_y.shape)\r\n",
        "        loss_train = criterion(output_train, batch_y)\r\n",
        "        tr_loss.append(loss_train.item())\r\n",
        "\r\n",
        "        # computing the updated weights of all the model parameters\r\n",
        "        loss_train.backward()\r\n",
        "        optimizer.step()\r\n",
        "        #tr_loss = loss_train.item()\r\n",
        "      train_losses.append(np.mean(tr_loss))\r\n",
        "      with torch.no_grad():\r\n",
        "        for j in tqdm(range(0,len(val_y),batch_size)):\r\n",
        "          val_batch_X = val_x[j:j+batch_size].float()\r\n",
        "          val_batch_y = val_y[j:j+batch_size]\r\n",
        "          # print(val_batch_X.shape)\r\n",
        "          # print(batch_X.shape)\r\n",
        "\r\n",
        "          if torch.cuda.is_available():\r\n",
        "            val_batch_X = val_batch_X.cuda()\r\n",
        "            val_batch_y = val_batch_y.cuda()\r\n",
        "\r\n",
        "          output_val = model(val_batch_X)\r\n",
        "          loss_val = criterion(output_val, val_batch_y)\r\n",
        "          val_loss.append(loss_val.item())   \r\n",
        "        val_losses.append(np.mean(val_loss))\r\n",
        "      if not stop_flag:\r\n",
        "        tag = np.mean(val_loss)\r\n",
        "        stop_flag = True\r\n",
        "      else:\r\n",
        "        if tag< np.mean(val_loss):\r\n",
        "          count += 1\r\n",
        "        else:\r\n",
        "          tag = np.mean(val_loss)\r\n",
        "          count = 0\r\n",
        "      if count >= stop_count:\r\n",
        "        print('\\nEarly Stopping at epoch #',epoch,'with minimum val loss',tag,'and final val loss',np.mean(val_loss))\r\n",
        "        break;     \r\n",
        "      if (epoch+1)%10 == 0:\r\n",
        "        # printing the validation loss\r\n",
        "          print('Epoch : ',epoch+1, '\\t', 'val loss :', np.mean(val_loss))  \r\n",
        "          print('Epoch : ',epoch+1, '\\t', 'train loss :', np.mean(tr_loss))     \r\n"
      ],
      "execution_count": 30,
      "outputs": []
    },
    {
      "cell_type": "code",
      "metadata": {
        "id": "q-S_5iW76Eq-"
      },
      "source": [
        "net = Layer5b_ConvNet(21)\r\n",
        "optimizer = Adam(net.parameters(),lr = 3e-3)\r\n",
        "criterion = CrossEntropyLoss()\r\n",
        "#criterion = MSELoss()\r\n",
        "if torch.cuda.is_available():\r\n",
        "  net = net.cuda()\r\n",
        "  criterion = criterion.cuda()"
      ],
      "execution_count": 53,
      "outputs": []
    },
    {
      "cell_type": "code",
      "metadata": {
        "id": "RH99ECoQ8cEk",
        "colab": {
          "base_uri": "https://localhost:8080/"
        },
        "outputId": "c948602d-c56c-41f4-cc48-6eaec402b7bf"
      },
      "source": [
        "# %%capture\r\n",
        "# defining the number of epochs\r\n",
        "n_epochs = 200\r\n",
        "batch_size = 32*4\r\n",
        "stop_count = 6\r\n",
        "# empty list to store training losses\r\n",
        "train_losses = []\r\n",
        "# empty list to store validation losses\r\n",
        "val_losses = []\r\n",
        "# training the model\r\n",
        "train(net,batch_size,n_epochs,stop_count)"
      ],
      "execution_count": 54,
      "outputs": [
        {
          "output_type": "stream",
          "text": [
            "100%|██████████| 20/20 [00:01<00:00, 19.42it/s]\n",
            "100%|██████████| 5/5 [00:00<00:00, 25.20it/s]\n",
            "100%|██████████| 20/20 [00:00<00:00, 21.41it/s]\n",
            "100%|██████████| 5/5 [00:00<00:00, 25.74it/s]\n",
            "100%|██████████| 20/20 [00:00<00:00, 21.31it/s]\n",
            "100%|██████████| 5/5 [00:00<00:00, 25.44it/s]\n",
            "100%|██████████| 20/20 [00:00<00:00, 21.45it/s]\n",
            "100%|██████████| 5/5 [00:00<00:00, 25.75it/s]\n",
            "100%|██████████| 20/20 [00:00<00:00, 21.56it/s]\n",
            "100%|██████████| 5/5 [00:00<00:00, 25.84it/s]\n",
            "100%|██████████| 20/20 [00:00<00:00, 21.28it/s]\n",
            "100%|██████████| 5/5 [00:00<00:00, 26.08it/s]\n",
            "100%|██████████| 20/20 [00:00<00:00, 21.02it/s]\n",
            "100%|██████████| 5/5 [00:00<00:00, 25.70it/s]\n",
            "100%|██████████| 20/20 [00:00<00:00, 21.17it/s]\n",
            "100%|██████████| 5/5 [00:00<00:00, 26.58it/s]"
          ],
          "name": "stderr"
        },
        {
          "output_type": "stream",
          "text": [
            "\n",
            "Early Stopping at epoch # 7 with minimum val loss 2.3312519073486326 and final val loss 2.503953552246094\n"
          ],
          "name": "stdout"
        },
        {
          "output_type": "stream",
          "text": [
            "\n"
          ],
          "name": "stderr"
        }
      ]
    },
    {
      "cell_type": "markdown",
      "metadata": {
        "id": "MAeekADNqU9l"
      },
      "source": [
        "### Plot"
      ]
    },
    {
      "cell_type": "code",
      "metadata": {
        "colab": {
          "base_uri": "https://localhost:8080/",
          "height": 282
        },
        "id": "0NlopKz5aih6",
        "outputId": "49c9ffd9-b694-471f-99b5-b168c9476f08"
      },
      "source": [
        "import matplotlib.pyplot as plt\r\n",
        "plt.plot(train_losses,label = 'Train')\r\n",
        "plt.plot(val_losses, label = 'Val')\r\n",
        "plt.legend()"
      ],
      "execution_count": 55,
      "outputs": [
        {
          "output_type": "execute_result",
          "data": {
            "text/plain": [
              "<matplotlib.legend.Legend at 0x7f45454a5cc0>"
            ]
          },
          "metadata": {
            "tags": []
          },
          "execution_count": 55
        },
        {
          "output_type": "display_data",
          "data": {
            "image/png": "[encoded data removed]",
            "text/plain": [
              "<Figure size 432x288 with 1 Axes>"
            ]
          },
          "metadata": {
            "tags": [],
            "needs_background": "light"
          }
        }
      ]
    },
    {
      "cell_type": "markdown",
      "metadata": {
        "id": "7FLc7pyqqXmF"
      },
      "source": [
        "# Inference"
      ]
    },
    {
      "cell_type": "code",
      "metadata": {
        "id": "n_nmGC1SSyzB"
      },
      "source": [
        "from sklearn.metrics import confusion_matrix\r\n",
        "from sklearn.metrics import classification_report"
      ],
      "execution_count": 34,
      "outputs": []
    },
    {
      "cell_type": "code",
      "metadata": {
        "id": "b1EwwcBmVz-Z"
      },
      "source": [
        "def get_pred(model,feature):\r\n",
        "  with torch.no_grad():\r\n",
        "    pred = model(feature.float().cuda())\r\n",
        "\r\n",
        "  pred = pred.cpu()\r\n",
        "  pred = np.array(pred)\r\n",
        "  pred = np.argmax(pred,1)\r\n",
        "\r\n",
        "  return pred \r\n"
      ],
      "execution_count": 35,
      "outputs": []
    },
    {
      "cell_type": "code",
      "metadata": {
        "id": "Y2DF_Hk3WXXh"
      },
      "source": [
        "train_pred = get_pred(net,train_x)\r\n",
        "val_pred   = get_pred(net,val_x)"
      ],
      "execution_count": 36,
      "outputs": []
    },
    {
      "cell_type": "code",
      "metadata": {
        "colab": {
          "base_uri": "https://localhost:8080/"
        },
        "id": "FC0pUDeeW9pY",
        "outputId": "ed681e1e-578b-4ad4-a584-263e9e8c950f"
      },
      "source": [
        "print(classification_report(train_y, train_pred))"
      ],
      "execution_count": 37,
      "outputs": [
        {
          "output_type": "stream",
          "text": [
            "              precision    recall  f1-score   support\n",
            "\n",
            "           0       0.97      0.72      0.83       144\n",
            "           1       0.84      0.62      0.71       144\n",
            "           2       0.90      0.71      0.80       186\n",
            "           3       0.76      0.98      0.86       192\n",
            "           4       0.89      0.65      0.75       192\n",
            "           5       0.39      0.97      0.56       197\n",
            "           6       0.81      0.37      0.51       197\n",
            "           7       0.70      0.61      0.65       197\n",
            "           8       0.51      0.19      0.28       197\n",
            "           9       0.36      0.48      0.41       197\n",
            "          10       0.79      0.97      0.87       224\n",
            "          11       0.94      0.54      0.69       224\n",
            "          12       0.80      1.00      0.89       224\n",
            "\n",
            "    accuracy                           0.68      2515\n",
            "   macro avg       0.74      0.68      0.68      2515\n",
            "weighted avg       0.74      0.68      0.68      2515\n",
            "\n"
          ],
          "name": "stdout"
        }
      ]
    },
    {
      "cell_type": "code",
      "metadata": {
        "colab": {
          "base_uri": "https://localhost:8080/"
        },
        "id": "QZzw8hk-Xxoc",
        "outputId": "9abdca93-7948-461a-bf57-40371472258b"
      },
      "source": [
        "print(classification_report(val_y, val_pred))"
      ],
      "execution_count": 38,
      "outputs": [
        {
          "output_type": "stream",
          "text": [
            "              precision    recall  f1-score   support\n",
            "\n",
            "           0       0.70      0.36      0.47        45\n",
            "           1       0.17      0.07      0.10        45\n",
            "           2       0.70      0.69      0.70        45\n",
            "           3       0.43      0.67      0.52        45\n",
            "           4       0.00      0.00      0.00        45\n",
            "           5       0.20      0.38      0.26        45\n",
            "           6       0.20      0.27      0.23        45\n",
            "           7       0.17      0.29      0.21        45\n",
            "           8       0.00      0.00      0.00        45\n",
            "           9       0.00      0.00      0.00        45\n",
            "          10       0.38      0.91      0.54        45\n",
            "          11       0.12      0.02      0.04        45\n",
            "          12       0.55      0.36      0.43        45\n",
            "\n",
            "    accuracy                           0.31       585\n",
            "   macro avg       0.28      0.31      0.27       585\n",
            "weighted avg       0.28      0.31      0.27       585\n",
            "\n"
          ],
          "name": "stdout"
        }
      ]
    },
    {
      "cell_type": "code",
      "metadata": {
        "id": "V2pH_cuKWlqY"
      },
      "source": [
        "confusion_matrix(train_y, train_pred)"
      ],
      "execution_count": null,
      "outputs": []
    },
    {
      "cell_type": "code",
      "metadata": {
        "id": "1awmWQ_jWm2C"
      },
      "source": [
        "confusion_matrix(val_y, val_pred)"
      ],
      "execution_count": null,
      "outputs": []
    }
  ]
}