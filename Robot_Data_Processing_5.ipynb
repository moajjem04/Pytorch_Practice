{
  "nbformat": 4,
  "nbformat_minor": 0,
  "metadata": {
    "colab": {
      "name": "Robot - Data Processing 5",
      "provenance": [],
      "collapsed_sections": [
        "naepyOndYxtt"
      ],
      "authorship_tag": "ABX9TyMi0qSneIuAtG/nNANSvdaz",
      "include_colab_link": true
    },
    "kernelspec": {
      "name": "python3",
      "display_name": "Python 3"
    },
    "accelerator": "GPU"
  },
  "cells": [
    {
      "cell_type": "markdown",
      "metadata": {
        "id": "view-in-github",
        "colab_type": "text"
      },
      "source": [
        "<a href=\"https://colab.research.google.com/github/moajjem04/Pytorch_Practice/blob/main/Robot_Data_Processing_5.ipynb\" target=\"_parent\"><img src=\"https://colab.research.google.com/assets/colab-badge.svg\" alt=\"Open In Colab\"/></a>"
      ]
    },
    {
      "cell_type": "markdown",
      "metadata": {
        "id": "N8qKGEwzgixm"
      },
      "source": [
        "# Accessing Google Drive"
      ]
    },
    {
      "cell_type": "code",
      "metadata": {
        "colab": {
          "base_uri": "https://localhost:8080/"
        },
        "id": "nXY6FMlJgedd",
        "outputId": "a9238878-d27b-4e3c-eade-9c378a4e827f"
      },
      "source": [
        "from google.colab import drive\r\n",
        "drive.mount('/content/drive')"
      ],
      "execution_count": 1,
      "outputs": [
        {
          "output_type": "stream",
          "text": [
            "Drive already mounted at /content/drive; to attempt to forcibly remount, call drive.mount(\"/content/drive\", force_remount=True).\n"
          ],
          "name": "stdout"
        }
      ]
    },
    {
      "cell_type": "code",
      "metadata": {
        "colab": {
          "base_uri": "https://localhost:8080/"
        },
        "id": "tgKVXwzUgop4",
        "outputId": "7668fde3-db82-4051-8c2f-16ea08de7b92"
      },
      "source": [
        "%cd '/content/drive/MyDrive/robot'"
      ],
      "execution_count": 2,
      "outputs": [
        {
          "output_type": "stream",
          "text": [
            "/content/drive/.shortcut-targets-by-id/1xoj4fkjFWbgZZGpDNuTyZsH1-eOzncVi/robotic arm data - s\n"
          ],
          "name": "stdout"
        }
      ]
    },
    {
      "cell_type": "code",
      "metadata": {
        "colab": {
          "base_uri": "https://localhost:8080/",
          "height": 35
        },
        "id": "LOZbAmWtgqWE",
        "outputId": "525d02ed-9687-4806-c652-1e4b98c12bb9"
      },
      "source": [
        "%pwd"
      ],
      "execution_count": 3,
      "outputs": [
        {
          "output_type": "execute_result",
          "data": {
            "application/vnd.google.colaboratory.intrinsic+json": {
              "type": "string"
            },
            "text/plain": [
              "'/content/drive/.shortcut-targets-by-id/1xoj4fkjFWbgZZGpDNuTyZsH1-eOzncVi/robotic arm data - s'"
            ]
          },
          "metadata": {
            "tags": []
          },
          "execution_count": 3
        }
      ]
    },
    {
      "cell_type": "code",
      "metadata": {
        "colab": {
          "base_uri": "https://localhost:8080/"
        },
        "id": "9jcQtFqegsF0",
        "outputId": "79807087-f2bc-4845-fa56-00d10ad7ac26"
      },
      "source": [
        "%ls"
      ],
      "execution_count": 4,
      "outputs": [
        {
          "output_type": "stream",
          "text": [
            "data_v2.pkl   Samling_for_Zhen_d_s2.csv         Samling_for_Zhen_lygf_e_s.csv\n",
            "data_v3.pkl   Samling_for_Zhen_d_s.csv          Samling_for_Zhen_oyg_2e_s.csv\n",
            "IMG_4598.MOV  Samling_for_Zhen_g_S.csv          Samling_for_Zhen_oyg_e_s1.csv\n",
            "IMG_4599.MOV  Samling_for_Zhen_lg_e_s.csv       Samling_for_Zhen_w_s.csv\n",
            "IMG_4600.MOV  Samling_for_Zhen_Lizhuoxun_S.csv  Samling_for_Zhen_x_s.csv\n",
            "IMG_4601.MOV  Samling_for_Zhen_l_s.csv          Samling_for_Zhen_yg_e_s.csv\n",
            "IMG_4602.MOV  Samling_for_Zhen_lyfg_2e_s.csv\n"
          ],
          "name": "stdout"
        }
      ]
    },
    {
      "cell_type": "markdown",
      "metadata": {
        "id": "9xpKn73Rgx2k"
      },
      "source": [
        "# Loading the Data"
      ]
    },
    {
      "cell_type": "code",
      "metadata": {
        "id": "5V2xd8cDg2k8"
      },
      "source": [
        "import pandas as pd\r\n",
        "import matplotlib.pyplot as plt\r\n",
        "import numpy as np\r\n",
        "from google.colab import files\r\n",
        "import os\r\n",
        "import pickle"
      ],
      "execution_count": 5,
      "outputs": []
    },
    {
      "cell_type": "code",
      "metadata": {
        "id": "Qu57KDD_g8Z0"
      },
      "source": [
        "file_name = \"data_v3.pkl\"\r\n",
        "open_file = open(file_name, \"rb\")\r\n",
        "Data = pickle.load(open_file)\r\n",
        "open_file.close()"
      ],
      "execution_count": 6,
      "outputs": []
    },
    {
      "cell_type": "code",
      "metadata": {
        "colab": {
          "base_uri": "https://localhost:8080/"
        },
        "id": "CohWTdJ9hG0b",
        "outputId": "00e748d6-bbe1-4a09-cd09-babda979aa42"
      },
      "source": [
        "Data.keys()"
      ],
      "execution_count": 7,
      "outputs": [
        {
          "output_type": "execute_result",
          "data": {
            "text/plain": [
              "dict_keys(['name_class', 'train_sig', 'val_sig', 'train_class', 'val_class', 'time_dict'])"
            ]
          },
          "metadata": {
            "tags": []
          },
          "execution_count": 7
        }
      ]
    },
    {
      "cell_type": "code",
      "metadata": {
        "id": "EU66FU9QM02u"
      },
      "source": [
        "name_class  = Data['name_class']\r\n",
        "train_sig   = Data['train_sig']\r\n",
        "val_sig     = Data['val_sig']\r\n",
        "train_class = Data['train_class']\r\n",
        "val_class   = Data['val_class']"
      ],
      "execution_count": 8,
      "outputs": []
    },
    {
      "cell_type": "code",
      "metadata": {
        "id": "FCO7Kam3NH6-"
      },
      "source": [
        "%reset_selective -f Data"
      ],
      "execution_count": 9,
      "outputs": []
    },
    {
      "cell_type": "code",
      "metadata": {
        "colab": {
          "base_uri": "https://localhost:8080/"
        },
        "id": "DPe5fL6UN-Jf",
        "outputId": "d94101af-bb9f-4635-91bb-5bba73688f9d"
      },
      "source": [
        "try:\r\n",
        "  Data.keys()\r\n",
        "except:\r\n",
        "  print('No Data')"
      ],
      "execution_count": 10,
      "outputs": [
        {
          "output_type": "stream",
          "text": [
            "No Data\n"
          ],
          "name": "stdout"
        }
      ]
    },
    {
      "cell_type": "code",
      "metadata": {
        "colab": {
          "base_uri": "https://localhost:8080/"
        },
        "id": "jGpT0Grssxtv",
        "outputId": "5b865487-3378-4eac-8e9e-f65ec7d4cd42"
      },
      "source": [
        "print('The total data')\r\n",
        "print('Training Data shape:',train_sig.shape)\r\n",
        "print('Validation Data shape:',val_sig.shape)\r\n",
        "print('Training Class shape:',train_class.shape)\r\n",
        "print('Validation Class shape:',val_class.shape)\r\n",
        "temp = val_sig.shape[0]/(train_sig.shape[0] + val_sig.shape[0])\r\n",
        "print('Proportion of Validation Data:',round(temp*100,2),'%')"
      ],
      "execution_count": 11,
      "outputs": [
        {
          "output_type": "stream",
          "text": [
            "The total data\n",
            "Training Data shape: (2515, 21, 5000, 1)\n",
            "Validation Data shape: (585, 21, 5000, 1)\n",
            "Training Class shape: (2515, 1)\n",
            "Validation Class shape: (585, 1)\n",
            "Proportion of Validation Data: 18.87 %\n"
          ],
          "name": "stdout"
        }
      ]
    },
    {
      "cell_type": "markdown",
      "metadata": {
        "id": "Ev2kv-2GzYiD"
      },
      "source": [
        "## Shuffling the Data"
      ]
    },
    {
      "cell_type": "code",
      "metadata": {
        "id": "rQZCHr4RzwAR"
      },
      "source": [
        "np.random.seed(42)"
      ],
      "execution_count": 12,
      "outputs": []
    },
    {
      "cell_type": "code",
      "metadata": {
        "id": "wBvT7qTDzb7B"
      },
      "source": [
        "train_idx = np.arange(0,train_sig.shape[0])\r\n",
        "val_idx = np.arange(0,val_sig.shape[0])"
      ],
      "execution_count": 13,
      "outputs": []
    },
    {
      "cell_type": "code",
      "metadata": {
        "id": "zOMbMR8S0SRi"
      },
      "source": [
        "np.random.shuffle(train_idx)\r\n",
        "np.random.shuffle(val_idx)"
      ],
      "execution_count": 14,
      "outputs": []
    },
    {
      "cell_type": "code",
      "metadata": {
        "colab": {
          "base_uri": "https://localhost:8080/"
        },
        "id": "KV3Nh4l20cBA",
        "outputId": "4447117b-f783-40c7-f23e-d6b502d8f80b"
      },
      "source": [
        "train_idx"
      ],
      "execution_count": 15,
      "outputs": [
        {
          "output_type": "execute_result",
          "data": {
            "text/plain": [
              "array([ 617,  927,  942, ..., 1130, 1294,  860])"
            ]
          },
          "metadata": {
            "tags": []
          },
          "execution_count": 15
        }
      ]
    },
    {
      "cell_type": "code",
      "metadata": {
        "id": "7UyAoDJA0eVD"
      },
      "source": [
        "train_sig   = train_sig[train_idx,:,:,:]\r\n",
        "train_class = train_class[train_idx,:]\r\n",
        "val_sig     = val_sig[val_idx,:,:,:]\r\n",
        "val_class   = val_class[val_idx,:]"
      ],
      "execution_count": 16,
      "outputs": []
    },
    {
      "cell_type": "code",
      "metadata": {
        "colab": {
          "base_uri": "https://localhost:8080/"
        },
        "id": "zFw5b2hjPRxQ",
        "outputId": "33d793c7-af44-4186-cee0-51f0d75b7b26"
      },
      "source": [
        "val_class = val_class.reshape(val_class.shape[0])\r\n",
        "print(val_class.shape)\r\n",
        "train_class = train_class.reshape(train_class.shape[0])\r\n",
        "print(train_class.shape)"
      ],
      "execution_count": 17,
      "outputs": [
        {
          "output_type": "stream",
          "text": [
            "(585,)\n",
            "(2515,)\n"
          ],
          "name": "stdout"
        }
      ]
    },
    {
      "cell_type": "code",
      "metadata": {
        "colab": {
          "base_uri": "https://localhost:8080/"
        },
        "id": "M5O68i8T00_Z",
        "outputId": "a1bbfb08-0637-4a39-ed62-7274063540e5"
      },
      "source": [
        "train_class[0]"
      ],
      "execution_count": 18,
      "outputs": [
        {
          "output_type": "execute_result",
          "data": {
            "text/plain": [
              "3.0"
            ]
          },
          "metadata": {
            "tags": []
          },
          "execution_count": 18
        }
      ]
    },
    {
      "cell_type": "markdown",
      "metadata": {
        "id": "mu9pD2j4xfXy"
      },
      "source": [
        "# Defining the Neural Network Architecture"
      ]
    },
    {
      "cell_type": "code",
      "metadata": {
        "id": "VvU18ht9xeZl"
      },
      "source": [
        "import torch\r\n",
        "import torch.nn as nn\r\n",
        "import torch.nn.functional as F\r\n",
        "# import torch.optim as optim\r\n",
        "from torch.autograd import Variable\r\n",
        "from torch.nn import Linear, ReLU, CrossEntropyLoss, Sequential, Conv1d, MaxPool1d, Module, Softmax, BatchNorm1d, Dropout, MSELoss\r\n",
        "from torch.optim import Adam, SGD\r\n",
        "\r\n",
        "from tqdm import tqdm"
      ],
      "execution_count": 19,
      "outputs": []
    },
    {
      "cell_type": "code",
      "metadata": {
        "id": "q0VkjvWDyHjS"
      },
      "source": [
        "class Net(nn.Module):\r\n",
        "  def __init__(self,n_channels):\r\n",
        "    super().__init__()\r\n",
        "\r\n",
        "    self.cnn_layers = Sequential(\r\n",
        "        # Defining a 1D convolution layer\r\n",
        "        Conv1d(n_channels, 32, kernel_size=5, padding=1),\r\n",
        "        BatchNorm1d(32),\r\n",
        "        ReLU(inplace=True),\r\n",
        "        MaxPool1d(kernel_size=2, stride=2),\r\n",
        "        # Defining another 1D convolution layer\r\n",
        "        Conv1d(32, 64, kernel_size=5, padding=1),\r\n",
        "        BatchNorm1d(64),\r\n",
        "        ReLU(inplace=True),\r\n",
        "        MaxPool1d(kernel_size=2, stride=2),\r\n",
        "        # Defining another 1D convolution layer\r\n",
        "        Conv1d(64, 64, kernel_size=5, padding=1),\r\n",
        "        BatchNorm1d(64),\r\n",
        "        ReLU(inplace=True),\r\n",
        "        MaxPool1d(kernel_size=2, stride=2),\r\n",
        "    )\r\n",
        "    # This code is used calculate the size of the flattened layer by having one\r\n",
        "    #   pass forward\r\n",
        "    x = torch.randn(21,5000).view(-1,21,5000)\r\n",
        "    self._to_linear = None\r\n",
        "    self.convs(x)\r\n",
        "\r\n",
        "    self.flat = nn.Flatten()\r\n",
        "\r\n",
        "    self.linear_layers = Sequential(\r\n",
        "                Linear(self._to_linear, 13)\r\n",
        "            )\r\n",
        "\r\n",
        "  def convs(self, x):\r\n",
        "    # max pooling over 2x2\r\n",
        "    x = self.cnn_layers(x)\r\n",
        "    #print(x[0].shape)\r\n",
        "\r\n",
        "    if self._to_linear is None:\r\n",
        "      self._to_linear = x[0].shape[0]*x[0].shape[1]\r\n",
        "    return x\r\n",
        "\r\n",
        "  def forward(self, x):\r\n",
        "    x = self.convs(x)\r\n",
        "    x = self.flat(x)\r\n",
        "    x = self.linear_layers(x)\r\n",
        "    return x"
      ],
      "execution_count": 20,
      "outputs": []
    },
    {
      "cell_type": "code",
      "metadata": {
        "colab": {
          "base_uri": "https://localhost:8080/"
        },
        "id": "TOfL2MEh4fwu",
        "outputId": "e3dc9552-68ee-4e72-c73f-26c321ff72e4"
      },
      "source": [
        "net = Net(21)\r\n",
        "print(net)"
      ],
      "execution_count": 38,
      "outputs": [
        {
          "output_type": "stream",
          "text": [
            "Net(\n",
            "  (cnn_layers): Sequential(\n",
            "    (0): Conv1d(21, 32, kernel_size=(5,), stride=(1,), padding=(1,))\n",
            "    (1): BatchNorm1d(32, eps=1e-05, momentum=0.1, affine=True, track_running_stats=True)\n",
            "    (2): ReLU(inplace=True)\n",
            "    (3): MaxPool1d(kernel_size=2, stride=2, padding=0, dilation=1, ceil_mode=False)\n",
            "    (4): Conv1d(32, 64, kernel_size=(5,), stride=(1,), padding=(1,))\n",
            "    (5): BatchNorm1d(64, eps=1e-05, momentum=0.1, affine=True, track_running_stats=True)\n",
            "    (6): ReLU(inplace=True)\n",
            "    (7): MaxPool1d(kernel_size=2, stride=2, padding=0, dilation=1, ceil_mode=False)\n",
            "    (8): Conv1d(64, 64, kernel_size=(5,), stride=(1,), padding=(1,))\n",
            "    (9): BatchNorm1d(64, eps=1e-05, momentum=0.1, affine=True, track_running_stats=True)\n",
            "    (10): ReLU(inplace=True)\n",
            "    (11): MaxPool1d(kernel_size=2, stride=2, padding=0, dilation=1, ceil_mode=False)\n",
            "  )\n",
            "  (flat): Flatten(start_dim=1, end_dim=-1)\n",
            "  (linear_layers): Sequential(\n",
            "    (0): Linear(in_features=39872, out_features=13, bias=True)\n",
            "  )\n",
            ")\n"
          ],
          "name": "stdout"
        }
      ]
    },
    {
      "cell_type": "code",
      "metadata": {
        "colab": {
          "base_uri": "https://localhost:8080/"
        },
        "id": "0-prNma94Pqw",
        "outputId": "e4fc777c-18a1-4c1a-8bf9-814f6b94000f"
      },
      "source": [
        "from torchsummary import summary\r\n",
        "summary(net.cuda(), (21,5000))"
      ],
      "execution_count": 22,
      "outputs": [
        {
          "output_type": "stream",
          "text": [
            "----------------------------------------------------------------\n",
            "        Layer (type)               Output Shape         Param #\n",
            "================================================================\n",
            "            Conv1d-1             [-1, 32, 4998]           3,392\n",
            "       BatchNorm1d-2             [-1, 32, 4998]              64\n",
            "              ReLU-3             [-1, 32, 4998]               0\n",
            "         MaxPool1d-4             [-1, 32, 2499]               0\n",
            "            Conv1d-5             [-1, 64, 2497]          10,304\n",
            "       BatchNorm1d-6             [-1, 64, 2497]             128\n",
            "              ReLU-7             [-1, 64, 2497]               0\n",
            "         MaxPool1d-8             [-1, 64, 1248]               0\n",
            "            Conv1d-9             [-1, 64, 1246]          20,544\n",
            "      BatchNorm1d-10             [-1, 64, 1246]             128\n",
            "             ReLU-11             [-1, 64, 1246]               0\n",
            "        MaxPool1d-12              [-1, 64, 623]               0\n",
            "          Flatten-13                [-1, 39872]               0\n",
            "           Linear-14                   [-1, 13]         518,349\n",
            "================================================================\n",
            "Total params: 552,909\n",
            "Trainable params: 552,909\n",
            "Non-trainable params: 0\n",
            "----------------------------------------------------------------\n",
            "Input size (MB): 0.40\n",
            "Forward/backward pass size (MB): 10.97\n",
            "Params size (MB): 2.11\n",
            "Estimated Total Size (MB): 13.48\n",
            "----------------------------------------------------------------\n"
          ],
          "name": "stdout"
        }
      ]
    },
    {
      "cell_type": "code",
      "metadata": {
        "colab": {
          "base_uri": "https://localhost:8080/"
        },
        "id": "ljRapXhv_IQk",
        "outputId": "274356bf-4162-4009-b7fe-20166bfcbc4a"
      },
      "source": [
        "torch.cuda.is_available()"
      ],
      "execution_count": 23,
      "outputs": [
        {
          "output_type": "execute_result",
          "data": {
            "text/plain": [
              "True"
            ]
          },
          "metadata": {
            "tags": []
          },
          "execution_count": 23
        }
      ]
    },
    {
      "cell_type": "code",
      "metadata": {
        "id": "q-S_5iW76Eq-"
      },
      "source": [
        "optimizer = Adam(net.parameters(),lr = 1e-3)\r\n",
        "criterion = CrossEntropyLoss()\r\n",
        "#criterion = MSELoss()\r\n",
        "if torch.cuda.is_available():\r\n",
        "  net = net.cuda()\r\n",
        "  criterion = criterion.cuda()"
      ],
      "execution_count": 39,
      "outputs": []
    },
    {
      "cell_type": "code",
      "metadata": {
        "id": "-rYuClNWHjZw"
      },
      "source": [
        "from sklearn.preprocessing import OneHotEncoder\r\n",
        "enc = OneHotEncoder(handle_unknown='ignore')\r\n",
        "#a = enc.fit_transform(train_y)"
      ],
      "execution_count": 25,
      "outputs": []
    },
    {
      "cell_type": "code",
      "metadata": {
        "id": "savfqV3Q6uSF",
        "colab": {
          "base_uri": "https://localhost:8080/"
        },
        "outputId": "3c50e441-8335-4f33-a0fc-356bc21faefe"
      },
      "source": [
        "# converting training images into torch format\r\n",
        "train_x = train_sig.astype(float)\r\n",
        "train_x = train_x.reshape(train_sig.shape[0], 21,5000)\r\n",
        "train_x  = torch.from_numpy(train_x)\r\n",
        "\r\n",
        "# converting the target into torch format\r\n",
        "train_y = train_class.astype(int)\r\n",
        "#train_y = enc.fit_transform(train_y)\r\n",
        "train_y = torch.from_numpy(train_y)\r\n",
        "\r\n",
        "# shape of training data\r\n",
        "train_x.shape, train_y.shape"
      ],
      "execution_count": 26,
      "outputs": [
        {
          "output_type": "execute_result",
          "data": {
            "text/plain": [
              "(torch.Size([2515, 21, 5000]), torch.Size([2515]))"
            ]
          },
          "metadata": {
            "tags": []
          },
          "execution_count": 26
        }
      ]
    },
    {
      "cell_type": "code",
      "metadata": {
        "id": "GJ_1hn3zCFBr",
        "colab": {
          "base_uri": "https://localhost:8080/"
        },
        "outputId": "05b2786b-561d-46a7-9e23-6a2cdfc83f62"
      },
      "source": [
        "type(train_x[0])"
      ],
      "execution_count": 27,
      "outputs": [
        {
          "output_type": "execute_result",
          "data": {
            "text/plain": [
              "torch.Tensor"
            ]
          },
          "metadata": {
            "tags": []
          },
          "execution_count": 27
        }
      ]
    },
    {
      "cell_type": "code",
      "metadata": {
        "id": "ZsvrM2Jx7vSH",
        "colab": {
          "base_uri": "https://localhost:8080/"
        },
        "outputId": "be25eaad-a770-4612-8981-5dd0a41cbcdc"
      },
      "source": [
        "# converting training images into torch format\r\n",
        "val_x = val_sig.astype(float)\r\n",
        "val_x = val_sig.reshape(val_sig.shape[0], 21,5000)\r\n",
        "val_x  = torch.from_numpy(val_x)\r\n",
        "\r\n",
        "# converting the target into torch format\r\n",
        "val_y = val_class.astype(int)\r\n",
        "#val_y = \r\n",
        "val_y = torch.from_numpy(val_y)\r\n",
        "\r\n",
        "# shape of training data\r\n",
        "val_x.shape, val_y.shape"
      ],
      "execution_count": 28,
      "outputs": [
        {
          "output_type": "execute_result",
          "data": {
            "text/plain": [
              "(torch.Size([585, 21, 5000]), torch.Size([585]))"
            ]
          },
          "metadata": {
            "tags": []
          },
          "execution_count": 28
        }
      ]
    },
    {
      "cell_type": "code",
      "metadata": {
        "id": "G0F-UmoT6fj_"
      },
      "source": [
        "def train(model,batch_size,epochs):\r\n",
        "    tr_loss = 0\r\n",
        "    for epoch in range(epochs):\r\n",
        "      for i in tqdm(range(0,len(train_y),batch_size)):\r\n",
        "        batch_X = train_x[i:i+batch_size].float()\r\n",
        "        batch_y = train_y[i:i+batch_size]\r\n",
        "\r\n",
        "        if torch.cuda.is_available():\r\n",
        "          batch_X = batch_X.cuda()\r\n",
        "          batch_y = batch_y.cuda()\r\n",
        "\r\n",
        "        model.zero_grad()\r\n",
        "        output_train = model(batch_X)\r\n",
        "        # print(output_train.shape)\r\n",
        "        # print(output_train)\r\n",
        "        # print(batch_y.shape)\r\n",
        "        loss_train = criterion(output_train, batch_y)\r\n",
        "        train_losses.append(loss_train)\r\n",
        "        # computing the updated weights of all the model parameters\r\n",
        "        loss_train.backward()\r\n",
        "        optimizer.step()\r\n",
        "        tr_loss = loss_train.item()\r\n",
        "      # with torch.no_grad():\r\n",
        "      #   for j in tqdm(range(0,len(val_y),batch_size)):\r\n",
        "      #     val_batch_X = val_x[i:i+batch_size].float()\r\n",
        "      #     val_batch_y = val_y[i:i+batch_size]\r\n",
        "\r\n",
        "      #     if torch.cuda.is_available():\r\n",
        "      #       val_batch_X = val_batch_X.cuda()\r\n",
        "      #       val_batch_y = val_batch_y.cuda()\r\n",
        "\r\n",
        "      #     output_val = model(val_batch_X)\r\n",
        "      #     loss_val = criterion(output_val, val_batch_y)\r\n",
        "      #     val_losses.append(loss_val)   \r\n",
        "      if (epoch+1)%10 == 0:\r\n",
        "        # printing the validation loss\r\n",
        "          #print('Epoch : ',epoch+1, '\\t', 'loss :', loss_val)  \r\n",
        "          print('Epoch : ',epoch+1, '\\t', 'loss :', tr_loss)     \r\n"
      ],
      "execution_count": 36,
      "outputs": []
    },
    {
      "cell_type": "code",
      "metadata": {
        "id": "Aqv3p8RGFS3R",
        "colab": {
          "base_uri": "https://localhost:8080/"
        },
        "outputId": "1de18e8f-7cb5-44d6-b731-7c60831a0e12"
      },
      "source": [
        "val_y.shape"
      ],
      "execution_count": 30,
      "outputs": [
        {
          "output_type": "execute_result",
          "data": {
            "text/plain": [
              "torch.Size([585])"
            ]
          },
          "metadata": {
            "tags": []
          },
          "execution_count": 30
        }
      ]
    },
    {
      "cell_type": "code",
      "metadata": {
        "id": "RH99ECoQ8cEk",
        "colab": {
          "base_uri": "https://localhost:8080/"
        },
        "outputId": "e8e1856a-aa71-421e-a570-cdb18db739e9"
      },
      "source": [
        "# defining the number of epochs\r\n",
        "n_epochs = 50\r\n",
        "batch_size = 32\r\n",
        "# empty list to store training losses\r\n",
        "train_losses = []\r\n",
        "# empty list to store validation losses\r\n",
        "val_losses = []\r\n",
        "# training the model\r\n",
        "train(net,batch_size,n_epochs)"
      ],
      "execution_count": 40,
      "outputs": [
        {
          "output_type": "stream",
          "text": [
            "100%|██████████| 79/79 [00:01<00:00, 52.24it/s]\n",
            "100%|██████████| 79/79 [00:01<00:00, 57.50it/s]\n",
            "100%|██████████| 79/79 [00:01<00:00, 57.19it/s]\n",
            "100%|██████████| 79/79 [00:01<00:00, 57.36it/s]\n",
            "100%|██████████| 79/79 [00:01<00:00, 57.44it/s]\n",
            "100%|██████████| 79/79 [00:01<00:00, 57.19it/s]\n",
            "100%|██████████| 79/79 [00:01<00:00, 57.15it/s]\n",
            "100%|██████████| 79/79 [00:01<00:00, 56.80it/s]\n",
            "100%|██████████| 79/79 [00:01<00:00, 55.76it/s]\n",
            "100%|██████████| 79/79 [00:01<00:00, 57.41it/s]\n",
            "  8%|▊         | 6/79 [00:00<00:01, 58.15it/s]"
          ],
          "name": "stderr"
        },
        {
          "output_type": "stream",
          "text": [
            "Epoch :  10 \t loss : 0.7223755717277527\n"
          ],
          "name": "stdout"
        },
        {
          "output_type": "stream",
          "text": [
            "100%|██████████| 79/79 [00:01<00:00, 56.71it/s]\n",
            "100%|██████████| 79/79 [00:01<00:00, 56.63it/s]\n",
            "100%|██████████| 79/79 [00:01<00:00, 56.81it/s]\n",
            "100%|██████████| 79/79 [00:01<00:00, 56.79it/s]\n",
            "100%|██████████| 79/79 [00:01<00:00, 56.88it/s]\n",
            "100%|██████████| 79/79 [00:01<00:00, 57.13it/s]\n",
            "100%|██████████| 79/79 [00:01<00:00, 56.45it/s]\n",
            "100%|██████████| 79/79 [00:01<00:00, 56.60it/s]\n",
            "100%|██████████| 79/79 [00:01<00:00, 56.35it/s]\n",
            "100%|██████████| 79/79 [00:01<00:00, 56.36it/s]\n",
            "  8%|▊         | 6/79 [00:00<00:01, 58.09it/s]"
          ],
          "name": "stderr"
        },
        {
          "output_type": "stream",
          "text": [
            "Epoch :  20 \t loss : 0.5849475860595703\n"
          ],
          "name": "stdout"
        },
        {
          "output_type": "stream",
          "text": [
            "100%|██████████| 79/79 [00:01<00:00, 56.86it/s]\n",
            "100%|██████████| 79/79 [00:01<00:00, 56.75it/s]\n",
            "100%|██████████| 79/79 [00:01<00:00, 56.64it/s]\n",
            "100%|██████████| 79/79 [00:01<00:00, 56.73it/s]\n",
            "100%|██████████| 79/79 [00:01<00:00, 56.58it/s]\n",
            "100%|██████████| 79/79 [00:01<00:00, 56.60it/s]\n",
            "100%|██████████| 79/79 [00:01<00:00, 55.76it/s]\n",
            "100%|██████████| 79/79 [00:01<00:00, 55.77it/s]\n",
            "100%|██████████| 79/79 [00:01<00:00, 56.01it/s]\n",
            "100%|██████████| 79/79 [00:01<00:00, 56.09it/s]\n",
            "  8%|▊         | 6/79 [00:00<00:01, 58.12it/s]"
          ],
          "name": "stderr"
        },
        {
          "output_type": "stream",
          "text": [
            "Epoch :  30 \t loss : 0.3498673141002655\n"
          ],
          "name": "stdout"
        },
        {
          "output_type": "stream",
          "text": [
            "100%|██████████| 79/79 [00:01<00:00, 56.59it/s]\n",
            "100%|██████████| 79/79 [00:01<00:00, 56.12it/s]\n",
            "100%|██████████| 79/79 [00:01<00:00, 56.38it/s]\n",
            "100%|██████████| 79/79 [00:01<00:00, 56.33it/s]\n",
            "100%|██████████| 79/79 [00:01<00:00, 57.30it/s]\n",
            "100%|██████████| 79/79 [00:01<00:00, 58.16it/s]\n",
            "100%|██████████| 79/79 [00:01<00:00, 57.15it/s]\n",
            "100%|██████████| 79/79 [00:01<00:00, 58.16it/s]\n",
            "100%|██████████| 79/79 [00:01<00:00, 57.68it/s]\n",
            "100%|██████████| 79/79 [00:01<00:00, 57.44it/s]\n",
            "  8%|▊         | 6/79 [00:00<00:01, 57.90it/s]"
          ],
          "name": "stderr"
        },
        {
          "output_type": "stream",
          "text": [
            "Epoch :  40 \t loss : 0.24016791582107544\n"
          ],
          "name": "stdout"
        },
        {
          "output_type": "stream",
          "text": [
            "100%|██████████| 79/79 [00:01<00:00, 57.61it/s]\n",
            "100%|██████████| 79/79 [00:01<00:00, 57.76it/s]\n",
            "100%|██████████| 79/79 [00:01<00:00, 57.40it/s]\n",
            "100%|██████████| 79/79 [00:01<00:00, 57.47it/s]\n",
            "100%|██████████| 79/79 [00:01<00:00, 57.67it/s]\n",
            "100%|██████████| 79/79 [00:01<00:00, 57.93it/s]\n",
            "100%|██████████| 79/79 [00:01<00:00, 58.40it/s]\n",
            "100%|██████████| 79/79 [00:01<00:00, 58.29it/s]\n",
            "100%|██████████| 79/79 [00:01<00:00, 57.87it/s]\n",
            "100%|██████████| 79/79 [00:01<00:00, 57.94it/s]"
          ],
          "name": "stderr"
        },
        {
          "output_type": "stream",
          "text": [
            "Epoch :  50 \t loss : 0.5209983587265015\n"
          ],
          "name": "stdout"
        },
        {
          "output_type": "stream",
          "text": [
            "\n"
          ],
          "name": "stderr"
        }
      ]
    },
    {
      "cell_type": "code",
      "metadata": {
        "id": "n_nmGC1SSyzB"
      },
      "source": [
        "from sklearn.metrics import confusion_matrix"
      ],
      "execution_count": 41,
      "outputs": []
    },
    {
      "cell_type": "code",
      "metadata": {
        "id": "b1EwwcBmVz-Z"
      },
      "source": [
        "def get_pred(model,feature):\r\n",
        "  with torch.no_grad():\r\n",
        "    pred = model(feature.float().cuda())\r\n",
        "\r\n",
        "  pred = pred.cpu()\r\n",
        "  pred = np.array(pred)\r\n",
        "  pred = np.argmax(pred,1)\r\n",
        "\r\n",
        "  return pred \r\n"
      ],
      "execution_count": 71,
      "outputs": []
    },
    {
      "cell_type": "code",
      "metadata": {
        "id": "Y2DF_Hk3WXXh"
      },
      "source": [
        "train_pred = get_pred(net,train_x)\r\n",
        "val_pred   = get_pred(net,val_x)"
      ],
      "execution_count": 73,
      "outputs": []
    },
    {
      "cell_type": "code",
      "metadata": {
        "colab": {
          "base_uri": "https://localhost:8080/"
        },
        "id": "V2pH_cuKWlqY",
        "outputId": "fb872039-8b87-4c08-dd0d-5e507bfa3be8"
      },
      "source": [
        "confusion_matrix(train_y, train_pred)"
      ],
      "execution_count": 75,
      "outputs": [
        {
          "output_type": "execute_result",
          "data": {
            "text/plain": [
              "array([[134,   4,   0,   0,   0,   0,   0,   1,   0,   4,   0,   1,   0],\n",
              "       [  0, 139,   3,   0,   0,   0,   0,   0,   0,   1,   0,   1,   0],\n",
              "       [  0,   0, 178,   1,   0,   0,   0,   0,   1,   2,   0,   4,   0],\n",
              "       [  0,   0,   0, 188,   4,   0,   0,   0,   0,   0,   0,   0,   0],\n",
              "       [  0,   1,   0,   2, 176,   0,   1,   8,   0,   0,   0,   0,   4],\n",
              "       [  0,   0,   0,   0,   0,  60,  94,   4,  10,  29,   0,   0,   0],\n",
              "       [  0,   0,   0,   0,   0,  10, 147,   3,  10,  27,   0,   0,   0],\n",
              "       [  0,   4,   0,   0,   0,   1,  29, 130,  10,  23,   0,   0,   0],\n",
              "       [  3,   3,   1,   4,   0,   0,  19,   2,  68,  96,   0,   0,   1],\n",
              "       [  2,   0,   2,   1,   0,   0,  19,   2,  31, 139,   0,   0,   1],\n",
              "       [  0,   2,   3,   0,   0,   0,   0,   0,   0,   0, 217,   1,   1],\n",
              "       [  4,   0,   0,   3,   0,   0,   0,   0,   1,   0,   0, 216,   0],\n",
              "       [  0,   0,   0,   0,   0,   1,   0,   0,   0,   1,   0,   2, 220]])"
            ]
          },
          "metadata": {
            "tags": []
          },
          "execution_count": 75
        }
      ]
    },
    {
      "cell_type": "code",
      "metadata": {
        "colab": {
          "base_uri": "https://localhost:8080/"
        },
        "id": "1awmWQ_jWm2C",
        "outputId": "9d0841ae-b376-4822-cd29-169aaaa0fd89"
      },
      "source": [
        "confusion_matrix(val_y, val_pred)"
      ],
      "execution_count": 76,
      "outputs": [
        {
          "output_type": "execute_result",
          "data": {
            "text/plain": [
              "array([[29,  0,  0,  4,  0,  0,  0,  0,  0,  1,  0, 11,  0],\n",
              "       [14, 17,  2,  2,  0,  0,  0,  0,  3,  3,  2,  2,  0],\n",
              "       [ 0,  0, 41,  0,  0,  0,  0,  0,  0,  0,  0,  4,  0],\n",
              "       [ 0,  0,  0, 37,  0,  0,  0,  0,  0,  1,  0,  7,  0],\n",
              "       [ 0,  0,  0, 37,  0,  0,  0,  0,  0,  1,  0,  7,  0],\n",
              "       [ 0,  2,  0,  0,  0, 17, 16,  1,  1,  8,  0,  0,  0],\n",
              "       [ 0,  2,  0,  0,  0, 17, 16,  1,  1,  8,  0,  0,  0],\n",
              "       [ 0,  2,  0,  0,  0, 17, 16,  1,  1,  8,  0,  0,  0],\n",
              "       [ 0,  2,  0,  0,  0, 17, 16,  1,  1,  8,  0,  0,  0],\n",
              "       [ 0,  2,  0,  0,  0, 17, 16,  1,  1,  8,  0,  0,  0],\n",
              "       [ 0,  0, 18,  1,  0,  0,  0,  0,  0,  0, 26,  0,  0],\n",
              "       [ 0,  0, 14,  1,  0,  0,  0,  0,  0,  0, 24,  6,  0],\n",
              "       [ 0,  0, 12,  1,  0,  0,  0,  0,  0,  0, 16,  0, 16]])"
            ]
          },
          "metadata": {
            "tags": []
          },
          "execution_count": 76
        }
      ]
    },
    {
      "cell_type": "code",
      "metadata": {
        "id": "O78z5tPOW685"
      },
      "source": [
        "from sklearn.metrics import classification_report"
      ],
      "execution_count": 79,
      "outputs": []
    },
    {
      "cell_type": "code",
      "metadata": {
        "colab": {
          "base_uri": "https://localhost:8080/"
        },
        "id": "FC0pUDeeW9pY",
        "outputId": "533aa107-31a8-4b52-a390-912a25e7966c"
      },
      "source": [
        "print(classification_report(train_y, train_pred))"
      ],
      "execution_count": 84,
      "outputs": [
        {
          "output_type": "stream",
          "text": [
            "              precision    recall  f1-score   support\n",
            "\n",
            "           0       0.94      0.93      0.93       144\n",
            "           1       0.91      0.97      0.94       144\n",
            "           2       0.95      0.96      0.95       186\n",
            "           3       0.94      0.98      0.96       192\n",
            "           4       0.98      0.92      0.95       192\n",
            "           5       0.83      0.30      0.45       197\n",
            "           6       0.48      0.75      0.58       197\n",
            "           7       0.87      0.66      0.75       197\n",
            "           8       0.52      0.35      0.41       197\n",
            "           9       0.43      0.71      0.54       197\n",
            "          10       1.00      0.97      0.98       224\n",
            "          11       0.96      0.96      0.96       224\n",
            "          12       0.97      0.98      0.98       224\n",
            "\n",
            "    accuracy                           0.80      2515\n",
            "   macro avg       0.83      0.80      0.80      2515\n",
            "weighted avg       0.83      0.80      0.80      2515\n",
            "\n"
          ],
          "name": "stdout"
        }
      ]
    },
    {
      "cell_type": "code",
      "metadata": {
        "colab": {
          "base_uri": "https://localhost:8080/"
        },
        "id": "QZzw8hk-Xxoc",
        "outputId": "f2954068-5110-4443-f5d7-f6f54f8f5d66"
      },
      "source": [
        "print(classification_report(val_y, val_pred))"
      ],
      "execution_count": 85,
      "outputs": [
        {
          "output_type": "stream",
          "text": [
            "              precision    recall  f1-score   support\n",
            "\n",
            "           0       0.67      0.64      0.66        45\n",
            "           1       0.63      0.38      0.47        45\n",
            "           2       0.47      0.91      0.62        45\n",
            "           3       0.45      0.82      0.58        45\n",
            "           4       0.00      0.00      0.00        45\n",
            "           5       0.20      0.38      0.26        45\n",
            "           6       0.20      0.36      0.26        45\n",
            "           7       0.20      0.02      0.04        45\n",
            "           8       0.12      0.02      0.04        45\n",
            "           9       0.17      0.18      0.18        45\n",
            "          10       0.38      0.58      0.46        45\n",
            "          11       0.16      0.13      0.15        45\n",
            "          12       1.00      0.36      0.52        45\n",
            "\n",
            "    accuracy                           0.37       585\n",
            "   macro avg       0.36      0.37      0.33       585\n",
            "weighted avg       0.36      0.37      0.33       585\n",
            "\n"
          ],
          "name": "stdout"
        },
        {
          "output_type": "stream",
          "text": [
            "/usr/local/lib/python3.6/dist-packages/sklearn/metrics/_classification.py:1272: UndefinedMetricWarning: Precision and F-score are ill-defined and being set to 0.0 in labels with no predicted samples. Use `zero_division` parameter to control this behavior.\n",
            "  _warn_prf(average, modifier, msg_start, len(result))\n"
          ],
          "name": "stderr"
        }
      ]
    }
  ]
}