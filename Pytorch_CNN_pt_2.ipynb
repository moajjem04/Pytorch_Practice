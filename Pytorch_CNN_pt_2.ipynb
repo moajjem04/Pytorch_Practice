{
  "nbformat": 4,
  "nbformat_minor": 0,
  "metadata": {
    "colab": {
      "name": "Pytorch CNN pt 2",
      "provenance": [],
      "collapsed_sections": [],
      "authorship_tag": "ABX9TyOt+Qw3f/tr7rNxWqXsozUl",
      "include_colab_link": true
    },
    "kernelspec": {
      "name": "python3",
      "display_name": "Python 3"
    }
  },
  "cells": [
    {
      "cell_type": "markdown",
      "metadata": {
        "id": "view-in-github",
        "colab_type": "text"
      },
      "source": [
        "<a href=\"https://colab.research.google.com/github/moajjem04/Pytorch_Practice/blob/main/Pytorch_CNN_pt_2.ipynb\" target=\"_parent\"><img src=\"https://colab.research.google.com/assets/colab-badge.svg\" alt=\"Open In Colab\"/></a>"
      ]
    },
    {
      "cell_type": "markdown",
      "metadata": {
        "id": "GSx1fZFIhY61"
      },
      "source": [
        "# Downloading the data"
      ]
    },
    {
      "cell_type": "markdown",
      "metadata": {
        "id": "oRCC-tmlhbrc"
      },
      "source": [
        "Installing `wget`"
      ]
    },
    {
      "cell_type": "code",
      "metadata": {
        "id": "bPa2XLCGeDgW"
      },
      "source": [
        "%%capture\r\n",
        "!pip install wget"
      ],
      "execution_count": null,
      "outputs": []
    },
    {
      "cell_type": "markdown",
      "metadata": {
        "id": "9fLGhvw3hdzc"
      },
      "source": [
        "Downloading the data."
      ]
    },
    {
      "cell_type": "code",
      "metadata": {
        "id": "f6PsUMU3c0JH"
      },
      "source": [
        "import wget\r\n",
        "url = 'https://download.microsoft.com/download/3/E/1/3E1C3F21-ECDB-4869-8368-6DEBA77B919F/kagglecatsanddogs_3367a.zip'\r\n",
        "filename = wget.download(url,'data.zip') # the file will be saved as data.zip"
      ],
      "execution_count": null,
      "outputs": []
    },
    {
      "cell_type": "markdown",
      "metadata": {
        "id": "Wj3pX-yNhf0F"
      },
      "source": [
        "Unzipping the data into `PetImages` folder"
      ]
    },
    {
      "cell_type": "code",
      "metadata": {
        "id": "9EjI6AxAfSIJ"
      },
      "source": [
        "%%capture\r\n",
        "!unzip '/content/data.zip' -d '/content/';"
      ],
      "execution_count": null,
      "outputs": []
    },
    {
      "cell_type": "markdown",
      "metadata": {
        "id": "Ue21Gn083KqX"
      },
      "source": [
        "# Preparing the dataset"
      ]
    },
    {
      "cell_type": "code",
      "metadata": {
        "id": "1qE2up3Ihsg9"
      },
      "source": [
        "import os\r\n",
        "import cv2 as cv\r\n",
        "import numpy as np\r\n",
        "from tqdm import tqdm"
      ],
      "execution_count": null,
      "outputs": []
    },
    {
      "cell_type": "code",
      "metadata": {
        "id": "Vj22I4dvnXhO"
      },
      "source": [
        "REBUILD_DATA = True\r\n",
        "\r\n",
        "class DogsVSCats():\r\n",
        "  IMG_SIZE = 50\r\n",
        "  CATS = 'PetImages/Cat'\r\n",
        "  DOGS = 'PetImages/Dog'\r\n",
        "  labels = {CATS:0, DOGS:1}\r\n",
        "  training_data = []\r\n",
        "  cat_count = 0\r\n",
        "  dog_count = 0\r\n",
        "\r\n",
        "  def make_training_data(self):\r\n",
        "    for label in self.labels:\r\n",
        "      print('\\n',label)\r\n",
        "      for f in tqdm(os.listdir(label)):\r\n",
        "        try:\r\n",
        "          path = os.path.join(label,f)\r\n",
        "          img = cv.imread(path, cv.IMREAD_GRAYSCALE)\r\n",
        "          img = cv.resize(img,(self.IMG_SIZE,self.IMG_SIZE))\r\n",
        "          self.training_data.append([np.array(img),np.eye(2)[self.labels[label]]])\r\n",
        "\r\n",
        "          if label == self.CATS:\r\n",
        "            self.cat_count += 1\r\n",
        "          elif label == self.DOGS:\r\n",
        "            self.dog_count += 1\r\n",
        "        except Exception as e:\r\n",
        "          #print(label, f, str(e))\r\n",
        "          pass\r\n",
        "    print('\\n')  \r\n",
        "    print('Cats:',self.cat_count)\r\n",
        "    print('Dogs:',self.dog_count) "
      ],
      "execution_count": null,
      "outputs": []
    },
    {
      "cell_type": "code",
      "metadata": {
        "colab": {
          "base_uri": "https://localhost:8080/"
        },
        "id": "XIUd3uO6xhfe",
        "outputId": "6e0c1458-73a4-4b6a-ff35-54b2f19ef581"
      },
      "source": [
        "if REBUILD_DATA:\r\n",
        "  dogvcat = DogsVSCats()\r\n",
        "  dogvcat.make_training_data()\r\n",
        "  training_data = dogvcat.training_data"
      ],
      "execution_count": null,
      "outputs": [
        {
          "output_type": "stream",
          "text": [
            "  1%|          | 88/12501 [00:00<00:14, 879.20it/s]"
          ],
          "name": "stderr"
        },
        {
          "output_type": "stream",
          "text": [
            "\n",
            " PetImages/Cat\n"
          ],
          "name": "stdout"
        },
        {
          "output_type": "stream",
          "text": [
            "100%|██████████| 12501/12501 [00:14<00:00, 846.33it/s]\n",
            "  0%|          | 56/12501 [00:00<00:22, 559.41it/s]"
          ],
          "name": "stderr"
        },
        {
          "output_type": "stream",
          "text": [
            "\n",
            " PetImages/Dog\n"
          ],
          "name": "stdout"
        },
        {
          "output_type": "stream",
          "text": [
            "100%|██████████| 12501/12501 [00:17<00:00, 700.77it/s]"
          ],
          "name": "stderr"
        },
        {
          "output_type": "stream",
          "text": [
            "\n",
            "\n",
            "Cats: 12476\n",
            "Dogs: 12470\n"
          ],
          "name": "stdout"
        },
        {
          "output_type": "stream",
          "text": [
            "\n"
          ],
          "name": "stderr"
        }
      ]
    },
    {
      "cell_type": "code",
      "metadata": {
        "colab": {
          "base_uri": "https://localhost:8080/"
        },
        "id": "IHLEbBbq0D1G",
        "outputId": "bd416338-6d6d-4a50-e5b8-4f767039edd2"
      },
      "source": [
        "len(training_data)"
      ],
      "execution_count": null,
      "outputs": [
        {
          "output_type": "execute_result",
          "data": {
            "text/plain": [
              "24946"
            ]
          },
          "metadata": {
            "tags": []
          },
          "execution_count": 26
        }
      ]
    },
    {
      "cell_type": "code",
      "metadata": {
        "colab": {
          "base_uri": "https://localhost:8080/"
        },
        "id": "ZNWq_hgVzphl",
        "outputId": "5adb485d-09e0-4408-df9f-4b0ddd18f6ac"
      },
      "source": [
        "training_data[0]"
      ],
      "execution_count": null,
      "outputs": [
        {
          "output_type": "execute_result",
          "data": {
            "text/plain": [
              "[array([[141, 152, 160, ..., 181, 164, 149],\n",
              "        [148, 161, 163, ..., 183, 169, 112],\n",
              "        [149, 154, 160, ..., 117, 113, 104],\n",
              "        ...,\n",
              "        [170, 179, 181, ..., 162, 158, 134],\n",
              "        [167, 177, 177, ..., 154, 142, 105],\n",
              "        [159, 164, 179, ..., 145, 126, 107]], dtype=uint8), array([1., 0.])]"
            ]
          },
          "metadata": {
            "tags": []
          },
          "execution_count": 20
        }
      ]
    },
    {
      "cell_type": "markdown",
      "metadata": {
        "id": "T-gLM6A83Pft"
      },
      "source": [
        "# Neural Network"
      ]
    },
    {
      "cell_type": "markdown",
      "metadata": {
        "id": "1Z0ByynJ30ie"
      },
      "source": [
        "Importing Libraries"
      ]
    },
    {
      "cell_type": "code",
      "metadata": {
        "id": "5udv8IdG3OKl"
      },
      "source": [
        "import torch\r\n",
        "import torch.nn as nn\r\n",
        "import torch.nn.functional as F"
      ],
      "execution_count": null,
      "outputs": []
    },
    {
      "cell_type": "markdown",
      "metadata": {
        "id": "yk5LeAjYSzeK"
      },
      "source": [
        "### Checking the NN shapes on a dummy network"
      ]
    },
    {
      "cell_type": "markdown",
      "metadata": {
        "id": "4B_Ks8v9SRIJ"
      },
      "source": [
        "Printing the shape of the output of each layer before defining the architecture"
      ]
    },
    {
      "cell_type": "code",
      "metadata": {
        "colab": {
          "base_uri": "https://localhost:8080/"
        },
        "id": "l7yNtZH2r0cJ",
        "outputId": "ddae570a-42ff-4785-b83f-587ac3e0f78c"
      },
      "source": [
        "inp_size = 50; \r\n",
        "\r\n",
        "m1 = nn.Conv2d(1,32,5)\r\n",
        "m2 = nn.Conv2d(32,64,5)\r\n",
        "m3 = nn.Conv2d(64,128,5)\r\n",
        "m0 = nn.Flatten()\r\n",
        "\r\n",
        "input = torch.randn(1, 1, inp_size, inp_size)\r\n",
        "print('Input Shape:',input.shape)\r\n",
        "\r\n",
        "output = F.relu(m1(input))\r\n",
        "print('Output after 1st Conv:',output.shape)\r\n",
        "output = F.max_pool2d(output,(2, 2))\r\n",
        "print('Output after 1st MaxPool:',output.shape)\r\n",
        "\r\n",
        "output = F.relu(m2(output))\r\n",
        "print('Output after 2nd Conv:',output.shape)\r\n",
        "output = F.max_pool2d(output,(2, 2))\r\n",
        "print('Output after 2nd MaxPool:',output.shape)\r\n",
        "\r\n",
        "output = F.relu(m3(output))\r\n",
        "print('Output after 3rd Conv:',output.shape)\r\n",
        "output = F.max_pool2d(output,(2, 2))\r\n",
        "print('Output after 3rd MaxPool:',output.shape)\r\n",
        "\r\n",
        "output = m0(output)\r\n",
        "print('Flat:',output.shape)\r\n",
        "#print(128 * calc_shape(inp_size,kernel,stride_size,padding))"
      ],
      "execution_count": null,
      "outputs": [
        {
          "output_type": "stream",
          "text": [
            "Input Shape: torch.Size([1, 1, 50, 50])\n",
            "Output after 1st Conv: torch.Size([1, 32, 46, 46])\n",
            "Output after 1st MaxPool: torch.Size([1, 32, 23, 23])\n",
            "Output after 2nd Conv: torch.Size([1, 64, 19, 19])\n",
            "Output after 2nd MaxPool: torch.Size([1, 64, 9, 9])\n",
            "Output after 3rd Conv: torch.Size([1, 128, 5, 5])\n",
            "Output after 3rd MaxPool: torch.Size([1, 128, 2, 2])\n",
            "Flat: torch.Size([1, 512])\n"
          ],
          "name": "stdout"
        }
      ]
    },
    {
      "cell_type": "markdown",
      "metadata": {
        "id": "uyNu8sKlSdFZ"
      },
      "source": [
        "Using a function to check the final size of the flattened layer"
      ]
    },
    {
      "cell_type": "code",
      "metadata": {
        "colab": {
          "base_uri": "https://localhost:8080/"
        },
        "id": "2GrLKdYdnMgR",
        "outputId": "d68b4bc8-3380-454f-80bd-ba509b90fe08"
      },
      "source": [
        "import math\r\n",
        "def calc_shape(inp,kernel,stride,dilation,padding):\r\n",
        "  out = (inp + 2*padding - dilation*(kernel-1) -1)/stride + 1\r\n",
        "  #out = round(out)\r\n",
        "  out = math.floor(out)\r\n",
        "  return out\r\n",
        "\r\n",
        "input = torch.randn(1, 1, inp_size, inp_size)\r\n",
        "print('Input Shape:',input.shape[-1])\r\n",
        "\r\n",
        "temp = calc_shape(50,5,1,1,0)\r\n",
        "print('After Conv1:',temp)\r\n",
        "temp = calc_shape(temp,2,2,1,0)\r\n",
        "print('After MaxPool1:',temp)\r\n",
        "\r\n",
        "temp = calc_shape(temp,5,1,1,0)\r\n",
        "print('After Conv2:',temp)\r\n",
        "temp = calc_shape(temp,2,2,1,0)\r\n",
        "print('After MaxPool2:',temp)\r\n",
        "\r\n",
        "temp = calc_shape(temp,5,1,1,0)\r\n",
        "print('After Conv3:',temp)\r\n",
        "temp = calc_shape(temp,2,2,1,0)\r\n",
        "print('After MaxPool3:',temp)\r\n",
        "\r\n",
        "# The final convolution layer has 128 channels so the output is multiplied by 128\r\n",
        "print('Flattened Size:',temp*temp*128 )"
      ],
      "execution_count": 19,
      "outputs": [
        {
          "output_type": "stream",
          "text": [
            "Input Shape: 50\n",
            "After Conv1: 46\n",
            "After MaxPool1: 23\n",
            "After Conv2: 19\n",
            "After MaxPool2: 9\n",
            "After Conv3: 5\n",
            "After MaxPool3: 2\n",
            "Flattened Size: 512\n"
          ],
          "name": "stdout"
        }
      ]
    },
    {
      "cell_type": "markdown",
      "metadata": {
        "id": "CXw7eVdxS8k4"
      },
      "source": [
        "The initial size of the data is of `(1,1,50,50)`. The numbers are explained below:\r\n",
        "* the 1st `1` denotes the no of samples\r\n",
        "* the 2nd `1` denotes the no of channels\r\n",
        "* the `50` represents the dimension of the image, i.e. a `50x50` image.\r\n",
        "\r\n",
        "With each convolution, the no of channels increases while the size of the data decreases. This is by design. # Include appropriate discussion \\\r\n",
        "\\\r\n",
        "The size of the data also decreases when pooling is used (in our case max pooling). The output after a convolution and pooling follow this general formula assuming that the input data is square:\r\n",
        "\r\n",
        "\\begin{equation}\r\n",
        "Size_{Out} = \\frac{Size_{In} + 2 * Padding - Dilation * (Kernel - 1) -1}{Stride} + 1 \\tag{1}\r\n",
        "\\end{equation}\r\n",
        "\r\n",
        "Here:\r\n",
        "* $Size_{Out}$ is the size of the output matrix\r\n",
        "* $Size_{In}$ is the size of the input matrix \r\n",
        "* $Padding$ is the padding size. It defaults to `0`\r\n",
        "* $Dilation$ is a parameter that controls the stride of elements in the window. It defaults to `1`\r\n",
        "* $Kernel$ is the kernel size.\r\n",
        "* $Stride$ is the length of stride of the kernel. It defaults to the kernel size.\r\n",
        "\r\n",
        "We ran our dummy model. Then we printed the outputs after each convolution and pooling. \r\n",
        "```\r\n",
        "Input Shape: torch.Size([1, 1, 50, 50])\r\n",
        "Output after 1st Conv: torch.Size([1, 32, 46, 46])\r\n",
        "Output after 1st MaxPool: torch.Size([1, 32, 23, 23])\r\n",
        "Output after 2nd Conv: torch.Size([1, 64, 19, 19])\r\n",
        "Output after 2nd MaxPool: torch.Size([1, 64, 9, 9])\r\n",
        "Output after 3rd Conv: torch.Size([1, 128, 5, 5])\r\n",
        "Output after 3rd MaxPool: torch.Size([1, 128, 2, 2])\r\n",
        "Flattened Layer: torch.Size([1, 512])\r\n",
        "```\r\n",
        "The size of the flattened layer is something that is not easily retrieved from code. Most tutorials enter the size to a fully connected layer(a usual next step after conv layers) without justifying the numbers. I will try to use the formula according to Equation (1) to get the same number that we recieved from simulating a dummy network. \\\r\n",
        "We will use the following function to calculate the size:\r\n",
        "```python\r\n",
        "def calc_shape(inp,kernel,stride,dilation,padding):\r\n",
        "  out = (inp + 2*padding - dilation*(kernel-1) -1)/stride + 1\r\n",
        "  out = math.floor(out)\r\n",
        "  return out\r\n",
        "```\r\n",
        "The code is just the equation (1) in code form. The output is rounded down.\r\n",
        "The function is used as below:\r\n",
        "\r\n",
        "```python\r\n",
        "input = torch.randn(1, 1, inp_size, inp_size)\r\n",
        "print('Input Shape:',input.shape[-1])\r\n",
        "\r\n",
        "temp = calc_shape(50,5,1,1,0)\r\n",
        "print('After Conv1:',temp)\r\n",
        "temp = calc_shape(temp,2,2,1,0)\r\n",
        "print('After MaxPool1:',temp)\r\n",
        "\r\n",
        "temp = calc_shape(temp,5,1,1,0)\r\n",
        "print('After Conv2:',temp)\r\n",
        "temp = calc_shape(temp,2,2,1,0)\r\n",
        "print('After MaxPool2:',temp)\r\n",
        "\r\n",
        "temp = calc_shape(temp,5,1,1,0)\r\n",
        "print('After Conv3:',temp)\r\n",
        "temp = calc_shape(temp,2,2,1,0)\r\n",
        "print('After MaxPool3:',temp)\r\n",
        "\r\n",
        "print('Flattened Size:',temp*temp*128 )\r\n",
        "```\r\n",
        "The size from the final layer of Max Pooling is squared and multiplied by `128`. That is the number of channels according to our dummy model. So when the data is flattened we get `temp*temp*128`.\r\n",
        "And we get the output:\r\n",
        "```\r\n",
        "Input Shape: 50\r\n",
        "After Conv1: 46\r\n",
        "After MaxPool1: 23\r\n",
        "After Conv2: 19\r\n",
        "After MaxPool2: 9\r\n",
        "After Conv3: 5\r\n",
        "After MaxPool3: 2\r\n",
        "Flattened Size: 512\r\n",
        "```\r\n",
        "We can see that the values calculated by us match that of the dummy simulation. This method can be used before hand if we want to know the size of the flattened layer."
      ]
    },
    {
      "cell_type": "markdown",
      "metadata": {
        "id": "4NUnsmHn3_p9"
      },
      "source": [
        "Defining the architecture"
      ]
    },
    {
      "cell_type": "code",
      "metadata": {
        "id": "dZjxR7_q4Com"
      },
      "source": [
        "class Net(nn.Module):\r\n",
        "  def __init__(self):\r\n",
        "    super().__init__()\r\n",
        "\r\n",
        "    # Layer definition\r\n",
        "    self.conv1 = nn.Conv2d(1,32,5)\r\n",
        "    self.conv2 = nn.Conv2d(32,64,5)\r\n",
        "    self.conv3 = nn.Conv2d(64,128,5)\r\n",
        "    # This code is used calculate the size of the flattened layer by having one\r\n",
        "    #   pass forward\r\n",
        "    x = torch.randn(50,50).view(-1,1,50,50)\r\n",
        "    self._to_linear = None\r\n",
        "    self.convs(x)\r\n",
        "\r\n",
        "    self.flat = nn.Flatten()\r\n",
        "\r\n",
        "    self.fc1 = nn.Linear(self._to_linear, 512) #flattening.\r\n",
        "    self.fc2 = nn.Linear(512, 2) # 512 in, 2 out bc we're doing 2 classes (dog vs cat).\r\n",
        "\r\n",
        "  def convs(self, x):\r\n",
        "    # max pooling over 2x2\r\n",
        "    x = F.max_pool2d(F.relu(self.conv1(x)), (2, 2))\r\n",
        "    x = F.max_pool2d(F.relu(self.conv2(x)), (2, 2))\r\n",
        "    x = F.max_pool2d(F.relu(self.conv3(x)), (2, 2))\r\n",
        "    #print(x[0].shape)\r\n",
        "\r\n",
        "    if self._to_linear is None:\r\n",
        "      self._to_linear = x[0].shape[0]*x[0].shape[1]*x[0].shape[2]\r\n",
        "    return x\r\n",
        "\r\n",
        "  def forward(self, x):\r\n",
        "    x = self.convs(x)\r\n",
        "    x = self.flat(x)\r\n",
        "    x = F.relu(self.fc1(x))\r\n",
        "    x = self.fc2(x) # bc this is our output layer. No activation here.\r\n",
        "    return F.softmax(x, dim=1)"
      ],
      "execution_count": null,
      "outputs": []
    },
    {
      "cell_type": "markdown",
      "metadata": {
        "id": "F7_tThuCR5bM"
      },
      "source": [
        "Initializing the model and viewing the layers"
      ]
    },
    {
      "cell_type": "code",
      "metadata": {
        "colab": {
          "base_uri": "https://localhost:8080/"
        },
        "id": "W8vb4EvmvSr4",
        "outputId": "b8e804f0-b267-4ca6-e507-3f9487833c5f"
      },
      "source": [
        "net = Net()\r\n",
        "print(net)"
      ],
      "execution_count": null,
      "outputs": [
        {
          "output_type": "stream",
          "text": [
            "Net(\n",
            "  (conv1): Conv2d(1, 32, kernel_size=(5, 5), stride=(1, 1))\n",
            "  (conv2): Conv2d(32, 64, kernel_size=(5, 5), stride=(1, 1))\n",
            "  (conv3): Conv2d(64, 128, kernel_size=(5, 5), stride=(1, 1))\n",
            "  (flat): Flatten(start_dim=1, end_dim=-1)\n",
            "  (fc1): Linear(in_features=512, out_features=512, bias=True)\n",
            "  (fc2): Linear(in_features=512, out_features=2, bias=True)\n",
            ")\n"
          ],
          "name": "stdout"
        }
      ]
    }
  ]
}