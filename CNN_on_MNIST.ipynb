{
  "nbformat": 4,
  "nbformat_minor": 0,
  "metadata": {
    "colab": {
      "name": "CNN on MNIST",
      "provenance": [],
      "authorship_tag": "ABX9TyPeZcLaCwM1GJpsFh3E6GB6",
      "include_colab_link": true
    },
    "kernelspec": {
      "name": "python3",
      "display_name": "Python 3"
    },
    "accelerator": "GPU",
    "widgets": {
      "application/vnd.jupyter.widget-state+json": {
        "668b7a3447b145258e0e5374cd599170": {
          "model_module": "@jupyter-widgets/controls",
          "model_name": "HBoxModel",
          "state": {
            "_view_name": "HBoxView",
            "_dom_classes": [],
            "_model_name": "HBoxModel",
            "_view_module": "@jupyter-widgets/controls",
            "_model_module_version": "1.5.0",
            "_view_count": null,
            "_view_module_version": "1.5.0",
            "box_style": "",
            "layout": "IPY_MODEL_b2277d879201415c836062d9871412e1",
            "_model_module": "@jupyter-widgets/controls",
            "children": [
              "IPY_MODEL_156f45d17f8f4154a8bfe01882ad1212",
              "IPY_MODEL_df8c5cde64db4e3391246a23aacafe62"
            ]
          }
        },
        "b2277d879201415c836062d9871412e1": {
          "model_module": "@jupyter-widgets/base",
          "model_name": "LayoutModel",
          "state": {
            "_view_name": "LayoutView",
            "grid_template_rows": null,
            "right": null,
            "justify_content": null,
            "_view_module": "@jupyter-widgets/base",
            "overflow": null,
            "_model_module_version": "1.2.0",
            "_view_count": null,
            "flex_flow": null,
            "width": null,
            "min_width": null,
            "border": null,
            "align_items": null,
            "bottom": null,
            "_model_module": "@jupyter-widgets/base",
            "top": null,
            "grid_column": null,
            "overflow_y": null,
            "overflow_x": null,
            "grid_auto_flow": null,
            "grid_area": null,
            "grid_template_columns": null,
            "flex": null,
            "_model_name": "LayoutModel",
            "justify_items": null,
            "grid_row": null,
            "max_height": null,
            "align_content": null,
            "visibility": null,
            "align_self": null,
            "height": null,
            "min_height": null,
            "padding": null,
            "grid_auto_rows": null,
            "grid_gap": null,
            "max_width": null,
            "order": null,
            "_view_module_version": "1.2.0",
            "grid_template_areas": null,
            "object_position": null,
            "object_fit": null,
            "grid_auto_columns": null,
            "margin": null,
            "display": null,
            "left": null
          }
        },
        "156f45d17f8f4154a8bfe01882ad1212": {
          "model_module": "@jupyter-widgets/controls",
          "model_name": "FloatProgressModel",
          "state": {
            "_view_name": "ProgressView",
            "style": "IPY_MODEL_57d2bf518d67462dae65b488a5bab5e1",
            "_dom_classes": [],
            "description": "",
            "_model_name": "FloatProgressModel",
            "bar_style": "success",
            "max": 1,
            "_view_module": "@jupyter-widgets/controls",
            "_model_module_version": "1.5.0",
            "value": 1,
            "_view_count": null,
            "_view_module_version": "1.5.0",
            "orientation": "horizontal",
            "min": 0,
            "description_tooltip": null,
            "_model_module": "@jupyter-widgets/controls",
            "layout": "IPY_MODEL_8229224669a1412d9ae2e132ab5d0a0c"
          }
        },
        "df8c5cde64db4e3391246a23aacafe62": {
          "model_module": "@jupyter-widgets/controls",
          "model_name": "HTMLModel",
          "state": {
            "_view_name": "HTMLView",
            "style": "IPY_MODEL_e0b7699c6ffb47b3baca24beea253119",
            "_dom_classes": [],
            "description": "",
            "_model_name": "HTMLModel",
            "placeholder": "​",
            "_view_module": "@jupyter-widgets/controls",
            "_model_module_version": "1.5.0",
            "value": " 9920512/? [00:01&lt;00:00, 7612809.16it/s]",
            "_view_count": null,
            "_view_module_version": "1.5.0",
            "description_tooltip": null,
            "_model_module": "@jupyter-widgets/controls",
            "layout": "IPY_MODEL_9903207d374f4834988e8f5f362abee3"
          }
        },
        "57d2bf518d67462dae65b488a5bab5e1": {
          "model_module": "@jupyter-widgets/controls",
          "model_name": "ProgressStyleModel",
          "state": {
            "_view_name": "StyleView",
            "_model_name": "ProgressStyleModel",
            "description_width": "initial",
            "_view_module": "@jupyter-widgets/base",
            "_model_module_version": "1.5.0",
            "_view_count": null,
            "_view_module_version": "1.2.0",
            "bar_color": null,
            "_model_module": "@jupyter-widgets/controls"
          }
        },
        "8229224669a1412d9ae2e132ab5d0a0c": {
          "model_module": "@jupyter-widgets/base",
          "model_name": "LayoutModel",
          "state": {
            "_view_name": "LayoutView",
            "grid_template_rows": null,
            "right": null,
            "justify_content": null,
            "_view_module": "@jupyter-widgets/base",
            "overflow": null,
            "_model_module_version": "1.2.0",
            "_view_count": null,
            "flex_flow": null,
            "width": null,
            "min_width": null,
            "border": null,
            "align_items": null,
            "bottom": null,
            "_model_module": "@jupyter-widgets/base",
            "top": null,
            "grid_column": null,
            "overflow_y": null,
            "overflow_x": null,
            "grid_auto_flow": null,
            "grid_area": null,
            "grid_template_columns": null,
            "flex": null,
            "_model_name": "LayoutModel",
            "justify_items": null,
            "grid_row": null,
            "max_height": null,
            "align_content": null,
            "visibility": null,
            "align_self": null,
            "height": null,
            "min_height": null,
            "padding": null,
            "grid_auto_rows": null,
            "grid_gap": null,
            "max_width": null,
            "order": null,
            "_view_module_version": "1.2.0",
            "grid_template_areas": null,
            "object_position": null,
            "object_fit": null,
            "grid_auto_columns": null,
            "margin": null,
            "display": null,
            "left": null
          }
        },
        "e0b7699c6ffb47b3baca24beea253119": {
          "model_module": "@jupyter-widgets/controls",
          "model_name": "DescriptionStyleModel",
          "state": {
            "_view_name": "StyleView",
            "_model_name": "DescriptionStyleModel",
            "description_width": "",
            "_view_module": "@jupyter-widgets/base",
            "_model_module_version": "1.5.0",
            "_view_count": null,
            "_view_module_version": "1.2.0",
            "_model_module": "@jupyter-widgets/controls"
          }
        },
        "9903207d374f4834988e8f5f362abee3": {
          "model_module": "@jupyter-widgets/base",
          "model_name": "LayoutModel",
          "state": {
            "_view_name": "LayoutView",
            "grid_template_rows": null,
            "right": null,
            "justify_content": null,
            "_view_module": "@jupyter-widgets/base",
            "overflow": null,
            "_model_module_version": "1.2.0",
            "_view_count": null,
            "flex_flow": null,
            "width": null,
            "min_width": null,
            "border": null,
            "align_items": null,
            "bottom": null,
            "_model_module": "@jupyter-widgets/base",
            "top": null,
            "grid_column": null,
            "overflow_y": null,
            "overflow_x": null,
            "grid_auto_flow": null,
            "grid_area": null,
            "grid_template_columns": null,
            "flex": null,
            "_model_name": "LayoutModel",
            "justify_items": null,
            "grid_row": null,
            "max_height": null,
            "align_content": null,
            "visibility": null,
            "align_self": null,
            "height": null,
            "min_height": null,
            "padding": null,
            "grid_auto_rows": null,
            "grid_gap": null,
            "max_width": null,
            "order": null,
            "_view_module_version": "1.2.0",
            "grid_template_areas": null,
            "object_position": null,
            "object_fit": null,
            "grid_auto_columns": null,
            "margin": null,
            "display": null,
            "left": null
          }
        },
        "e6c70f6823f0439a93107f102486e28b": {
          "model_module": "@jupyter-widgets/controls",
          "model_name": "HBoxModel",
          "state": {
            "_view_name": "HBoxView",
            "_dom_classes": [],
            "_model_name": "HBoxModel",
            "_view_module": "@jupyter-widgets/controls",
            "_model_module_version": "1.5.0",
            "_view_count": null,
            "_view_module_version": "1.5.0",
            "box_style": "",
            "layout": "IPY_MODEL_31538202dc2d45649c28388751082b23",
            "_model_module": "@jupyter-widgets/controls",
            "children": [
              "IPY_MODEL_50c12abbc2754da58da2e516d4181e5b",
              "IPY_MODEL_86143e22ba774c11a580f601cf8d1739"
            ]
          }
        },
        "31538202dc2d45649c28388751082b23": {
          "model_module": "@jupyter-widgets/base",
          "model_name": "LayoutModel",
          "state": {
            "_view_name": "LayoutView",
            "grid_template_rows": null,
            "right": null,
            "justify_content": null,
            "_view_module": "@jupyter-widgets/base",
            "overflow": null,
            "_model_module_version": "1.2.0",
            "_view_count": null,
            "flex_flow": null,
            "width": null,
            "min_width": null,
            "border": null,
            "align_items": null,
            "bottom": null,
            "_model_module": "@jupyter-widgets/base",
            "top": null,
            "grid_column": null,
            "overflow_y": null,
            "overflow_x": null,
            "grid_auto_flow": null,
            "grid_area": null,
            "grid_template_columns": null,
            "flex": null,
            "_model_name": "LayoutModel",
            "justify_items": null,
            "grid_row": null,
            "max_height": null,
            "align_content": null,
            "visibility": null,
            "align_self": null,
            "height": null,
            "min_height": null,
            "padding": null,
            "grid_auto_rows": null,
            "grid_gap": null,
            "max_width": null,
            "order": null,
            "_view_module_version": "1.2.0",
            "grid_template_areas": null,
            "object_position": null,
            "object_fit": null,
            "grid_auto_columns": null,
            "margin": null,
            "display": null,
            "left": null
          }
        },
        "50c12abbc2754da58da2e516d4181e5b": {
          "model_module": "@jupyter-widgets/controls",
          "model_name": "FloatProgressModel",
          "state": {
            "_view_name": "ProgressView",
            "style": "IPY_MODEL_c2d68855e6d74481a5a9da2481495ba2",
            "_dom_classes": [],
            "description": "",
            "_model_name": "FloatProgressModel",
            "bar_style": "success",
            "max": 1,
            "_view_module": "@jupyter-widgets/controls",
            "_model_module_version": "1.5.0",
            "value": 1,
            "_view_count": null,
            "_view_module_version": "1.5.0",
            "orientation": "horizontal",
            "min": 0,
            "description_tooltip": null,
            "_model_module": "@jupyter-widgets/controls",
            "layout": "IPY_MODEL_882cfc32d98c4e7592b61f26a5deb3a4"
          }
        },
        "86143e22ba774c11a580f601cf8d1739": {
          "model_module": "@jupyter-widgets/controls",
          "model_name": "HTMLModel",
          "state": {
            "_view_name": "HTMLView",
            "style": "IPY_MODEL_19acd08b368c475db155f7740549eaa1",
            "_dom_classes": [],
            "description": "",
            "_model_name": "HTMLModel",
            "placeholder": "​",
            "_view_module": "@jupyter-widgets/controls",
            "_model_module_version": "1.5.0",
            "value": " 32768/? [00:00&lt;00:00, 316858.49it/s]",
            "_view_count": null,
            "_view_module_version": "1.5.0",
            "description_tooltip": null,
            "_model_module": "@jupyter-widgets/controls",
            "layout": "IPY_MODEL_5a939e40e5d449178a1fdee2a2ace0f5"
          }
        },
        "c2d68855e6d74481a5a9da2481495ba2": {
          "model_module": "@jupyter-widgets/controls",
          "model_name": "ProgressStyleModel",
          "state": {
            "_view_name": "StyleView",
            "_model_name": "ProgressStyleModel",
            "description_width": "initial",
            "_view_module": "@jupyter-widgets/base",
            "_model_module_version": "1.5.0",
            "_view_count": null,
            "_view_module_version": "1.2.0",
            "bar_color": null,
            "_model_module": "@jupyter-widgets/controls"
          }
        },
        "882cfc32d98c4e7592b61f26a5deb3a4": {
          "model_module": "@jupyter-widgets/base",
          "model_name": "LayoutModel",
          "state": {
            "_view_name": "LayoutView",
            "grid_template_rows": null,
            "right": null,
            "justify_content": null,
            "_view_module": "@jupyter-widgets/base",
            "overflow": null,
            "_model_module_version": "1.2.0",
            "_view_count": null,
            "flex_flow": null,
            "width": null,
            "min_width": null,
            "border": null,
            "align_items": null,
            "bottom": null,
            "_model_module": "@jupyter-widgets/base",
            "top": null,
            "grid_column": null,
            "overflow_y": null,
            "overflow_x": null,
            "grid_auto_flow": null,
            "grid_area": null,
            "grid_template_columns": null,
            "flex": null,
            "_model_name": "LayoutModel",
            "justify_items": null,
            "grid_row": null,
            "max_height": null,
            "align_content": null,
            "visibility": null,
            "align_self": null,
            "height": null,
            "min_height": null,
            "padding": null,
            "grid_auto_rows": null,
            "grid_gap": null,
            "max_width": null,
            "order": null,
            "_view_module_version": "1.2.0",
            "grid_template_areas": null,
            "object_position": null,
            "object_fit": null,
            "grid_auto_columns": null,
            "margin": null,
            "display": null,
            "left": null
          }
        },
        "19acd08b368c475db155f7740549eaa1": {
          "model_module": "@jupyter-widgets/controls",
          "model_name": "DescriptionStyleModel",
          "state": {
            "_view_name": "StyleView",
            "_model_name": "DescriptionStyleModel",
            "description_width": "",
            "_view_module": "@jupyter-widgets/base",
            "_model_module_version": "1.5.0",
            "_view_count": null,
            "_view_module_version": "1.2.0",
            "_model_module": "@jupyter-widgets/controls"
          }
        },
        "5a939e40e5d449178a1fdee2a2ace0f5": {
          "model_module": "@jupyter-widgets/base",
          "model_name": "LayoutModel",
          "state": {
            "_view_name": "LayoutView",
            "grid_template_rows": null,
            "right": null,
            "justify_content": null,
            "_view_module": "@jupyter-widgets/base",
            "overflow": null,
            "_model_module_version": "1.2.0",
            "_view_count": null,
            "flex_flow": null,
            "width": null,
            "min_width": null,
            "border": null,
            "align_items": null,
            "bottom": null,
            "_model_module": "@jupyter-widgets/base",
            "top": null,
            "grid_column": null,
            "overflow_y": null,
            "overflow_x": null,
            "grid_auto_flow": null,
            "grid_area": null,
            "grid_template_columns": null,
            "flex": null,
            "_model_name": "LayoutModel",
            "justify_items": null,
            "grid_row": null,
            "max_height": null,
            "align_content": null,
            "visibility": null,
            "align_self": null,
            "height": null,
            "min_height": null,
            "padding": null,
            "grid_auto_rows": null,
            "grid_gap": null,
            "max_width": null,
            "order": null,
            "_view_module_version": "1.2.0",
            "grid_template_areas": null,
            "object_position": null,
            "object_fit": null,
            "grid_auto_columns": null,
            "margin": null,
            "display": null,
            "left": null
          }
        },
        "1d4ef605700d4572be4933dde39d4ab0": {
          "model_module": "@jupyter-widgets/controls",
          "model_name": "HBoxModel",
          "state": {
            "_view_name": "HBoxView",
            "_dom_classes": [],
            "_model_name": "HBoxModel",
            "_view_module": "@jupyter-widgets/controls",
            "_model_module_version": "1.5.0",
            "_view_count": null,
            "_view_module_version": "1.5.0",
            "box_style": "",
            "layout": "IPY_MODEL_e74e8f6c01db405c98d7c50ac33c5429",
            "_model_module": "@jupyter-widgets/controls",
            "children": [
              "IPY_MODEL_9497c6ea6b5f45adb2798afcf02c294d",
              "IPY_MODEL_6d42bc2015c6453f90716a8982479eb4"
            ]
          }
        },
        "e74e8f6c01db405c98d7c50ac33c5429": {
          "model_module": "@jupyter-widgets/base",
          "model_name": "LayoutModel",
          "state": {
            "_view_name": "LayoutView",
            "grid_template_rows": null,
            "right": null,
            "justify_content": null,
            "_view_module": "@jupyter-widgets/base",
            "overflow": null,
            "_model_module_version": "1.2.0",
            "_view_count": null,
            "flex_flow": null,
            "width": null,
            "min_width": null,
            "border": null,
            "align_items": null,
            "bottom": null,
            "_model_module": "@jupyter-widgets/base",
            "top": null,
            "grid_column": null,
            "overflow_y": null,
            "overflow_x": null,
            "grid_auto_flow": null,
            "grid_area": null,
            "grid_template_columns": null,
            "flex": null,
            "_model_name": "LayoutModel",
            "justify_items": null,
            "grid_row": null,
            "max_height": null,
            "align_content": null,
            "visibility": null,
            "align_self": null,
            "height": null,
            "min_height": null,
            "padding": null,
            "grid_auto_rows": null,
            "grid_gap": null,
            "max_width": null,
            "order": null,
            "_view_module_version": "1.2.0",
            "grid_template_areas": null,
            "object_position": null,
            "object_fit": null,
            "grid_auto_columns": null,
            "margin": null,
            "display": null,
            "left": null
          }
        },
        "9497c6ea6b5f45adb2798afcf02c294d": {
          "model_module": "@jupyter-widgets/controls",
          "model_name": "FloatProgressModel",
          "state": {
            "_view_name": "ProgressView",
            "style": "IPY_MODEL_c47e0266c9ec48f2b278cb8c3b492053",
            "_dom_classes": [],
            "description": "",
            "_model_name": "FloatProgressModel",
            "bar_style": "success",
            "max": 1,
            "_view_module": "@jupyter-widgets/controls",
            "_model_module_version": "1.5.0",
            "value": 1,
            "_view_count": null,
            "_view_module_version": "1.5.0",
            "orientation": "horizontal",
            "min": 0,
            "description_tooltip": null,
            "_model_module": "@jupyter-widgets/controls",
            "layout": "IPY_MODEL_e3dd0c8c44314573ab6d6d70b15194d3"
          }
        },
        "6d42bc2015c6453f90716a8982479eb4": {
          "model_module": "@jupyter-widgets/controls",
          "model_name": "HTMLModel",
          "state": {
            "_view_name": "HTMLView",
            "style": "IPY_MODEL_f89a8adbdd304ad7a3801a426ccd188d",
            "_dom_classes": [],
            "description": "",
            "_model_name": "HTMLModel",
            "placeholder": "​",
            "_view_module": "@jupyter-widgets/controls",
            "_model_module_version": "1.5.0",
            "value": " 1654784/? [00:00&lt;00:00, 2878165.43it/s]",
            "_view_count": null,
            "_view_module_version": "1.5.0",
            "description_tooltip": null,
            "_model_module": "@jupyter-widgets/controls",
            "layout": "IPY_MODEL_30133e8604a1450293dc44ae167b427b"
          }
        },
        "c47e0266c9ec48f2b278cb8c3b492053": {
          "model_module": "@jupyter-widgets/controls",
          "model_name": "ProgressStyleModel",
          "state": {
            "_view_name": "StyleView",
            "_model_name": "ProgressStyleModel",
            "description_width": "initial",
            "_view_module": "@jupyter-widgets/base",
            "_model_module_version": "1.5.0",
            "_view_count": null,
            "_view_module_version": "1.2.0",
            "bar_color": null,
            "_model_module": "@jupyter-widgets/controls"
          }
        },
        "e3dd0c8c44314573ab6d6d70b15194d3": {
          "model_module": "@jupyter-widgets/base",
          "model_name": "LayoutModel",
          "state": {
            "_view_name": "LayoutView",
            "grid_template_rows": null,
            "right": null,
            "justify_content": null,
            "_view_module": "@jupyter-widgets/base",
            "overflow": null,
            "_model_module_version": "1.2.0",
            "_view_count": null,
            "flex_flow": null,
            "width": null,
            "min_width": null,
            "border": null,
            "align_items": null,
            "bottom": null,
            "_model_module": "@jupyter-widgets/base",
            "top": null,
            "grid_column": null,
            "overflow_y": null,
            "overflow_x": null,
            "grid_auto_flow": null,
            "grid_area": null,
            "grid_template_columns": null,
            "flex": null,
            "_model_name": "LayoutModel",
            "justify_items": null,
            "grid_row": null,
            "max_height": null,
            "align_content": null,
            "visibility": null,
            "align_self": null,
            "height": null,
            "min_height": null,
            "padding": null,
            "grid_auto_rows": null,
            "grid_gap": null,
            "max_width": null,
            "order": null,
            "_view_module_version": "1.2.0",
            "grid_template_areas": null,
            "object_position": null,
            "object_fit": null,
            "grid_auto_columns": null,
            "margin": null,
            "display": null,
            "left": null
          }
        },
        "f89a8adbdd304ad7a3801a426ccd188d": {
          "model_module": "@jupyter-widgets/controls",
          "model_name": "DescriptionStyleModel",
          "state": {
            "_view_name": "StyleView",
            "_model_name": "DescriptionStyleModel",
            "description_width": "",
            "_view_module": "@jupyter-widgets/base",
            "_model_module_version": "1.5.0",
            "_view_count": null,
            "_view_module_version": "1.2.0",
            "_model_module": "@jupyter-widgets/controls"
          }
        },
        "30133e8604a1450293dc44ae167b427b": {
          "model_module": "@jupyter-widgets/base",
          "model_name": "LayoutModel",
          "state": {
            "_view_name": "LayoutView",
            "grid_template_rows": null,
            "right": null,
            "justify_content": null,
            "_view_module": "@jupyter-widgets/base",
            "overflow": null,
            "_model_module_version": "1.2.0",
            "_view_count": null,
            "flex_flow": null,
            "width": null,
            "min_width": null,
            "border": null,
            "align_items": null,
            "bottom": null,
            "_model_module": "@jupyter-widgets/base",
            "top": null,
            "grid_column": null,
            "overflow_y": null,
            "overflow_x": null,
            "grid_auto_flow": null,
            "grid_area": null,
            "grid_template_columns": null,
            "flex": null,
            "_model_name": "LayoutModel",
            "justify_items": null,
            "grid_row": null,
            "max_height": null,
            "align_content": null,
            "visibility": null,
            "align_self": null,
            "height": null,
            "min_height": null,
            "padding": null,
            "grid_auto_rows": null,
            "grid_gap": null,
            "max_width": null,
            "order": null,
            "_view_module_version": "1.2.0",
            "grid_template_areas": null,
            "object_position": null,
            "object_fit": null,
            "grid_auto_columns": null,
            "margin": null,
            "display": null,
            "left": null
          }
        },
        "1bf2733e427647069ef5a71b019a70a4": {
          "model_module": "@jupyter-widgets/controls",
          "model_name": "HBoxModel",
          "state": {
            "_view_name": "HBoxView",
            "_dom_classes": [],
            "_model_name": "HBoxModel",
            "_view_module": "@jupyter-widgets/controls",
            "_model_module_version": "1.5.0",
            "_view_count": null,
            "_view_module_version": "1.5.0",
            "box_style": "",
            "layout": "IPY_MODEL_c6ad35aa4e084589bc15f8c987b10f8c",
            "_model_module": "@jupyter-widgets/controls",
            "children": [
              "IPY_MODEL_4d59974dc22c460db0af9bcb6547d3df",
              "IPY_MODEL_1544e65bd58d4136bcce3ce69d865c32"
            ]
          }
        },
        "c6ad35aa4e084589bc15f8c987b10f8c": {
          "model_module": "@jupyter-widgets/base",
          "model_name": "LayoutModel",
          "state": {
            "_view_name": "LayoutView",
            "grid_template_rows": null,
            "right": null,
            "justify_content": null,
            "_view_module": "@jupyter-widgets/base",
            "overflow": null,
            "_model_module_version": "1.2.0",
            "_view_count": null,
            "flex_flow": null,
            "width": null,
            "min_width": null,
            "border": null,
            "align_items": null,
            "bottom": null,
            "_model_module": "@jupyter-widgets/base",
            "top": null,
            "grid_column": null,
            "overflow_y": null,
            "overflow_x": null,
            "grid_auto_flow": null,
            "grid_area": null,
            "grid_template_columns": null,
            "flex": null,
            "_model_name": "LayoutModel",
            "justify_items": null,
            "grid_row": null,
            "max_height": null,
            "align_content": null,
            "visibility": null,
            "align_self": null,
            "height": null,
            "min_height": null,
            "padding": null,
            "grid_auto_rows": null,
            "grid_gap": null,
            "max_width": null,
            "order": null,
            "_view_module_version": "1.2.0",
            "grid_template_areas": null,
            "object_position": null,
            "object_fit": null,
            "grid_auto_columns": null,
            "margin": null,
            "display": null,
            "left": null
          }
        },
        "4d59974dc22c460db0af9bcb6547d3df": {
          "model_module": "@jupyter-widgets/controls",
          "model_name": "FloatProgressModel",
          "state": {
            "_view_name": "ProgressView",
            "style": "IPY_MODEL_97f90b9a77ff45f4b71a2879cad5de35",
            "_dom_classes": [],
            "description": "",
            "_model_name": "FloatProgressModel",
            "bar_style": "success",
            "max": 1,
            "_view_module": "@jupyter-widgets/controls",
            "_model_module_version": "1.5.0",
            "value": 1,
            "_view_count": null,
            "_view_module_version": "1.5.0",
            "orientation": "horizontal",
            "min": 0,
            "description_tooltip": null,
            "_model_module": "@jupyter-widgets/controls",
            "layout": "IPY_MODEL_b96943f5b727404db87da2157135c042"
          }
        },
        "1544e65bd58d4136bcce3ce69d865c32": {
          "model_module": "@jupyter-widgets/controls",
          "model_name": "HTMLModel",
          "state": {
            "_view_name": "HTMLView",
            "style": "IPY_MODEL_9ff4c087be1b48cd88ba712f01ab9ec4",
            "_dom_classes": [],
            "description": "",
            "_model_name": "HTMLModel",
            "placeholder": "​",
            "_view_module": "@jupyter-widgets/controls",
            "_model_module_version": "1.5.0",
            "value": " 8192/? [00:00&lt;00:00, 28678.38it/s]",
            "_view_count": null,
            "_view_module_version": "1.5.0",
            "description_tooltip": null,
            "_model_module": "@jupyter-widgets/controls",
            "layout": "IPY_MODEL_d8315cc19bc04498b432954b5f31f7a9"
          }
        },
        "97f90b9a77ff45f4b71a2879cad5de35": {
          "model_module": "@jupyter-widgets/controls",
          "model_name": "ProgressStyleModel",
          "state": {
            "_view_name": "StyleView",
            "_model_name": "ProgressStyleModel",
            "description_width": "initial",
            "_view_module": "@jupyter-widgets/base",
            "_model_module_version": "1.5.0",
            "_view_count": null,
            "_view_module_version": "1.2.0",
            "bar_color": null,
            "_model_module": "@jupyter-widgets/controls"
          }
        },
        "b96943f5b727404db87da2157135c042": {
          "model_module": "@jupyter-widgets/base",
          "model_name": "LayoutModel",
          "state": {
            "_view_name": "LayoutView",
            "grid_template_rows": null,
            "right": null,
            "justify_content": null,
            "_view_module": "@jupyter-widgets/base",
            "overflow": null,
            "_model_module_version": "1.2.0",
            "_view_count": null,
            "flex_flow": null,
            "width": null,
            "min_width": null,
            "border": null,
            "align_items": null,
            "bottom": null,
            "_model_module": "@jupyter-widgets/base",
            "top": null,
            "grid_column": null,
            "overflow_y": null,
            "overflow_x": null,
            "grid_auto_flow": null,
            "grid_area": null,
            "grid_template_columns": null,
            "flex": null,
            "_model_name": "LayoutModel",
            "justify_items": null,
            "grid_row": null,
            "max_height": null,
            "align_content": null,
            "visibility": null,
            "align_self": null,
            "height": null,
            "min_height": null,
            "padding": null,
            "grid_auto_rows": null,
            "grid_gap": null,
            "max_width": null,
            "order": null,
            "_view_module_version": "1.2.0",
            "grid_template_areas": null,
            "object_position": null,
            "object_fit": null,
            "grid_auto_columns": null,
            "margin": null,
            "display": null,
            "left": null
          }
        },
        "9ff4c087be1b48cd88ba712f01ab9ec4": {
          "model_module": "@jupyter-widgets/controls",
          "model_name": "DescriptionStyleModel",
          "state": {
            "_view_name": "StyleView",
            "_model_name": "DescriptionStyleModel",
            "description_width": "",
            "_view_module": "@jupyter-widgets/base",
            "_model_module_version": "1.5.0",
            "_view_count": null,
            "_view_module_version": "1.2.0",
            "_model_module": "@jupyter-widgets/controls"
          }
        },
        "d8315cc19bc04498b432954b5f31f7a9": {
          "model_module": "@jupyter-widgets/base",
          "model_name": "LayoutModel",
          "state": {
            "_view_name": "LayoutView",
            "grid_template_rows": null,
            "right": null,
            "justify_content": null,
            "_view_module": "@jupyter-widgets/base",
            "overflow": null,
            "_model_module_version": "1.2.0",
            "_view_count": null,
            "flex_flow": null,
            "width": null,
            "min_width": null,
            "border": null,
            "align_items": null,
            "bottom": null,
            "_model_module": "@jupyter-widgets/base",
            "top": null,
            "grid_column": null,
            "overflow_y": null,
            "overflow_x": null,
            "grid_auto_flow": null,
            "grid_area": null,
            "grid_template_columns": null,
            "flex": null,
            "_model_name": "LayoutModel",
            "justify_items": null,
            "grid_row": null,
            "max_height": null,
            "align_content": null,
            "visibility": null,
            "align_self": null,
            "height": null,
            "min_height": null,
            "padding": null,
            "grid_auto_rows": null,
            "grid_gap": null,
            "max_width": null,
            "order": null,
            "_view_module_version": "1.2.0",
            "grid_template_areas": null,
            "object_position": null,
            "object_fit": null,
            "grid_auto_columns": null,
            "margin": null,
            "display": null,
            "left": null
          }
        }
      }
    }
  },
  "cells": [
    {
      "cell_type": "markdown",
      "metadata": {
        "id": "view-in-github",
        "colab_type": "text"
      },
      "source": [
        "<a href=\"https://colab.research.google.com/github/moajjem04/Pytorch_Practice/blob/main/CNN_on_MNIST.ipynb\" target=\"_parent\"><img src=\"https://colab.research.google.com/assets/colab-badge.svg\" alt=\"Open In Colab\"/></a>"
      ]
    },
    {
      "cell_type": "markdown",
      "metadata": {
        "id": "kZRlI9NR0sC8"
      },
      "source": [
        "This is a colab code following the tutorial by [Jason Brownlee](https://machinelearningmastery.com/about/) named [**PyTorch Tutorial: How to Develop Deep Learning Models with Python**](https://machinelearningmastery.com/pytorch-tutorial-develop-deep-learning-models/). I will be specifically following the steps for CNN on MNIST data."
      ]
    },
    {
      "cell_type": "markdown",
      "metadata": {
        "id": "YsqbGsMc1ar8"
      },
      "source": [
        "As explained in the tutorial, the process of deep learning consists of a cycle of:\r\n",
        "\r\n",
        "1. Prepare the Data.\r\n",
        "2. Define the Model.\r\n",
        "3. Train the Model.\r\n",
        "4. Evaluate the Model.\r\n",
        "5. Make Predictions."
      ]
    },
    {
      "cell_type": "markdown",
      "metadata": {
        "id": "SbikA4-V1ziz"
      },
      "source": [
        "# 1. Prepare the Data"
      ]
    },
    {
      "cell_type": "markdown",
      "metadata": {
        "id": "aLjjWekR1-CL"
      },
      "source": [
        "## Import Modules"
      ]
    },
    {
      "cell_type": "code",
      "metadata": {
        "id": "oJsSKcIH0kgp"
      },
      "source": [
        "from torch.utils.data       import DataLoader # for easier handling of data\r\n",
        "from torchvision.datasets   import MNIST      # the dataset\r\n",
        "from torchvision.transforms import Compose    # for preprocessing\r\n",
        "from torchvision.transforms import ToTensor   # converts to tensor\r\n",
        "\r\n",
        "import matplotlib.pyplot    as plt            # for visualisation\r\n",
        "%matplotlib inline\r\n",
        "import numpy                as np"
      ],
      "execution_count": 1,
      "outputs": []
    },
    {
      "cell_type": "markdown",
      "metadata": {
        "id": "jz7JQ01P50_U"
      },
      "source": [
        "## Downloading MNIST Data"
      ]
    },
    {
      "cell_type": "code",
      "metadata": {
        "colab": {
          "base_uri": "https://localhost:8080/",
          "height": 383,
          "referenced_widgets": [
            "668b7a3447b145258e0e5374cd599170",
            "b2277d879201415c836062d9871412e1",
            "156f45d17f8f4154a8bfe01882ad1212",
            "df8c5cde64db4e3391246a23aacafe62",
            "57d2bf518d67462dae65b488a5bab5e1",
            "8229224669a1412d9ae2e132ab5d0a0c",
            "e0b7699c6ffb47b3baca24beea253119",
            "9903207d374f4834988e8f5f362abee3",
            "e6c70f6823f0439a93107f102486e28b",
            "31538202dc2d45649c28388751082b23",
            "50c12abbc2754da58da2e516d4181e5b",
            "86143e22ba774c11a580f601cf8d1739",
            "c2d68855e6d74481a5a9da2481495ba2",
            "882cfc32d98c4e7592b61f26a5deb3a4",
            "19acd08b368c475db155f7740549eaa1",
            "5a939e40e5d449178a1fdee2a2ace0f5",
            "1d4ef605700d4572be4933dde39d4ab0",
            "e74e8f6c01db405c98d7c50ac33c5429",
            "9497c6ea6b5f45adb2798afcf02c294d",
            "6d42bc2015c6453f90716a8982479eb4",
            "c47e0266c9ec48f2b278cb8c3b492053",
            "e3dd0c8c44314573ab6d6d70b15194d3",
            "f89a8adbdd304ad7a3801a426ccd188d",
            "30133e8604a1450293dc44ae167b427b",
            "1bf2733e427647069ef5a71b019a70a4",
            "c6ad35aa4e084589bc15f8c987b10f8c",
            "4d59974dc22c460db0af9bcb6547d3df",
            "1544e65bd58d4136bcce3ce69d865c32",
            "97f90b9a77ff45f4b71a2879cad5de35",
            "b96943f5b727404db87da2157135c042",
            "9ff4c087be1b48cd88ba712f01ab9ec4",
            "d8315cc19bc04498b432954b5f31f7a9"
          ]
        },
        "id": "TVkJXtsw5zJz",
        "outputId": "436ea118-eb2f-4623-b2fc-23e981ae740a"
      },
      "source": [
        "# define location to save or load the dataset\r\n",
        "path = '~/.torch/datasets/mnist'\r\n",
        "# define the transforms to apply to the data\r\n",
        "trans = Compose([ToTensor()])\r\n",
        "# download and define the datasets\r\n",
        "train = MNIST(path, train=True, download=True, transform=trans)\r\n",
        "test = MNIST(path, train=False, download=True, transform=trans)\r\n",
        "# define how to enumerate the datasets\r\n",
        "train_dl = DataLoader(train, batch_size=32, shuffle=True)\r\n",
        "test_dl = DataLoader(test, batch_size=32, shuffle=True)"
      ],
      "execution_count": 2,
      "outputs": [
        {
          "output_type": "stream",
          "text": [
            "Downloading http://yann.lecun.com/exdb/mnist/train-images-idx3-ubyte.gz to /root/.torch/datasets/mnist/MNIST/raw/train-images-idx3-ubyte.gz\n"
          ],
          "name": "stdout"
        },
        {
          "output_type": "display_data",
          "data": {
            "application/vnd.jupyter.widget-view+json": {
              "model_id": "668b7a3447b145258e0e5374cd599170",
              "version_minor": 0,
              "version_major": 2
            },
            "text/plain": [
              "HBox(children=(FloatProgress(value=1.0, bar_style='info', max=1.0), HTML(value='')))"
            ]
          },
          "metadata": {
            "tags": []
          }
        },
        {
          "output_type": "stream",
          "text": [
            "Extracting /root/.torch/datasets/mnist/MNIST/raw/train-images-idx3-ubyte.gz to /root/.torch/datasets/mnist/MNIST/raw\n",
            "Downloading http://yann.lecun.com/exdb/mnist/train-labels-idx1-ubyte.gz to /root/.torch/datasets/mnist/MNIST/raw/train-labels-idx1-ubyte.gz\n"
          ],
          "name": "stdout"
        },
        {
          "output_type": "display_data",
          "data": {
            "application/vnd.jupyter.widget-view+json": {
              "model_id": "e6c70f6823f0439a93107f102486e28b",
              "version_minor": 0,
              "version_major": 2
            },
            "text/plain": [
              "HBox(children=(FloatProgress(value=1.0, bar_style='info', max=1.0), HTML(value='')))"
            ]
          },
          "metadata": {
            "tags": []
          }
        },
        {
          "output_type": "stream",
          "text": [
            "Extracting /root/.torch/datasets/mnist/MNIST/raw/train-labels-idx1-ubyte.gz to /root/.torch/datasets/mnist/MNIST/raw\n",
            "Downloading http://yann.lecun.com/exdb/mnist/t10k-images-idx3-ubyte.gz to /root/.torch/datasets/mnist/MNIST/raw/t10k-images-idx3-ubyte.gz\n",
            "\n"
          ],
          "name": "stdout"
        },
        {
          "output_type": "display_data",
          "data": {
            "application/vnd.jupyter.widget-view+json": {
              "model_id": "1d4ef605700d4572be4933dde39d4ab0",
              "version_minor": 0,
              "version_major": 2
            },
            "text/plain": [
              "HBox(children=(FloatProgress(value=1.0, bar_style='info', max=1.0), HTML(value='')))"
            ]
          },
          "metadata": {
            "tags": []
          }
        },
        {
          "output_type": "stream",
          "text": [
            "Extracting /root/.torch/datasets/mnist/MNIST/raw/t10k-images-idx3-ubyte.gz to /root/.torch/datasets/mnist/MNIST/raw\n",
            "Downloading http://yann.lecun.com/exdb/mnist/t10k-labels-idx1-ubyte.gz to /root/.torch/datasets/mnist/MNIST/raw/t10k-labels-idx1-ubyte.gz\n"
          ],
          "name": "stdout"
        },
        {
          "output_type": "display_data",
          "data": {
            "application/vnd.jupyter.widget-view+json": {
              "model_id": "1bf2733e427647069ef5a71b019a70a4",
              "version_minor": 0,
              "version_major": 2
            },
            "text/plain": [
              "HBox(children=(FloatProgress(value=1.0, bar_style='info', max=1.0), HTML(value='')))"
            ]
          },
          "metadata": {
            "tags": []
          }
        },
        {
          "output_type": "stream",
          "text": [
            "Extracting /root/.torch/datasets/mnist/MNIST/raw/t10k-labels-idx1-ubyte.gz to /root/.torch/datasets/mnist/MNIST/raw\n",
            "Processing...\n",
            "Done!\n"
          ],
          "name": "stdout"
        },
        {
          "output_type": "stream",
          "text": [
            "/usr/local/lib/python3.6/dist-packages/torchvision/datasets/mnist.py:480: UserWarning: The given NumPy array is not writeable, and PyTorch does not support non-writeable tensors. This means you can write to the underlying (supposedly non-writeable) NumPy array using the tensor. You may want to copy the array to protect its data or make it writeable before converting it to a tensor. This type of warning will be suppressed for the rest of this program. (Triggered internally at  /pytorch/torch/csrc/utils/tensor_numpy.cpp:141.)\n",
            "  return torch.from_numpy(parsed.astype(m[2], copy=False)).view(*s)\n"
          ],
          "name": "stderr"
        }
      ]
    },
    {
      "cell_type": "markdown",
      "metadata": {
        "id": "ztEQANGl6AfD"
      },
      "source": [
        "## Display a batch of image"
      ]
    },
    {
      "cell_type": "code",
      "metadata": {
        "colab": {
          "base_uri": "https://localhost:8080/",
          "height": 319
        },
        "id": "_l-ka8Tb54MK",
        "outputId": "6edf15e9-7d7f-42be-e4fd-ddab253b04c1"
      },
      "source": [
        "# get one batch of images\r\n",
        "i, (inputs, targets) = next(enumerate(train_dl))\r\n",
        "# plot some images\r\n",
        "for i in range(25):\r\n",
        "\t# define subplot\r\n",
        "\tplt.subplot(5, 5, i+1)\r\n",
        "\t# plot raw pixel data\r\n",
        "\tplt.imshow(inputs[i][0], cmap='gray')\r\n",
        "\r\n",
        "# show the figure\r\n",
        "plt.show()"
      ],
      "execution_count": 3,
      "outputs": [
        {
          "output_type": "stream",
          "text": [
            "\n",
            "\n",
            "\n"
          ],
          "name": "stdout"
        },
        {
          "output_type": "display_data",
          "data": {
            "image/png": "[encoded data removed]",
            "text/plain": [
              "<Figure size 432x288 with 25 Axes>"
            ]
          },
          "metadata": {
            "tags": [],
            "needs_background": "light"
          }
        }
      ]
    },
    {
      "cell_type": "code",
      "metadata": {
        "colab": {
          "base_uri": "https://localhost:8080/"
        },
        "id": "KqPWwxew70xs",
        "outputId": "1edc9887-ec24-4a97-f97f-c64e7398b16f"
      },
      "source": [
        "# Shape of Train and Test Dataset\r\n",
        "print('Train Set:\\n',train)\r\n",
        "print('Test Set:\\n',test)"
      ],
      "execution_count": 4,
      "outputs": [
        {
          "output_type": "stream",
          "text": [
            "Train Set:\n",
            " Dataset MNIST\n",
            "    Number of datapoints: 60000\n",
            "    Root location: /root/.torch/datasets/mnist\n",
            "    Split: Train\n",
            "    StandardTransform\n",
            "Transform: Compose(\n",
            "               ToTensor()\n",
            "           )\n",
            "Test Set:\n",
            " Dataset MNIST\n",
            "    Number of datapoints: 10000\n",
            "    Root location: /root/.torch/datasets/mnist\n",
            "    Split: Test\n",
            "    StandardTransform\n",
            "Transform: Compose(\n",
            "               ToTensor()\n",
            "           )\n"
          ],
          "name": "stdout"
        }
      ]
    },
    {
      "cell_type": "markdown",
      "metadata": {
        "id": "gSFZUszL9MoA"
      },
      "source": [
        "# 2. Define the Model"
      ]
    },
    {
      "cell_type": "code",
      "metadata": {
        "id": "CRC88M3z-niL"
      },
      "source": [
        "from numpy import vstack\r\n",
        "from numpy import argmax\r\n",
        "from pandas import read_csv\r\n",
        "from sklearn.metrics import accuracy_score\r\n",
        "from torch.nn import Conv2d\r\n",
        "from torch.nn import MaxPool2d\r\n",
        "from torch.nn import Linear\r\n",
        "from torch.nn import ReLU\r\n",
        "from torch.nn import Softmax\r\n",
        "from torch.nn import Module\r\n",
        "from torch.optim import SGD\r\n",
        "from torch.nn import CrossEntropyLoss\r\n",
        "from torch.nn.init import kaiming_uniform_\r\n",
        "from torch.nn.init import xavier_uniform_"
      ],
      "execution_count": 5,
      "outputs": []
    },
    {
      "cell_type": "code",
      "metadata": {
        "id": "uG9562YF-0sE"
      },
      "source": [
        "# model definition\r\n",
        "class CNN(Module):\r\n",
        "    # define model elements\r\n",
        "    def __init__(self, n_channels):\r\n",
        "        super(CNN, self).__init__()\r\n",
        "        # input to first hidden layer\r\n",
        "        self.hidden1 = Conv2d(n_channels, 32, (3,3))\r\n",
        "        kaiming_uniform_(self.hidden1.weight, nonlinearity='relu')\r\n",
        "        self.act1 = ReLU()\r\n",
        "        # first pooling layer\r\n",
        "        self.pool1 = MaxPool2d((2,2), stride=(2,2))\r\n",
        "        # second hidden layer\r\n",
        "        self.hidden2 = Conv2d(32, 32, (3,3))\r\n",
        "        kaiming_uniform_(self.hidden2.weight, nonlinearity='relu')\r\n",
        "        self.act2 = ReLU()\r\n",
        "        # second pooling layer\r\n",
        "        self.pool2 = MaxPool2d((2,2), stride=(2,2))\r\n",
        "        # fully connected layer\r\n",
        "        self.hidden3 = Linear(5*5*32, 100)\r\n",
        "        kaiming_uniform_(self.hidden3.weight, nonlinearity='relu')\r\n",
        "        self.act3 = ReLU()\r\n",
        "        # output layer\r\n",
        "        self.hidden4 = Linear(100, 10)\r\n",
        "        xavier_uniform_(self.hidden4.weight)\r\n",
        "        self.act4 = Softmax(dim=1)\r\n",
        " \r\n",
        "    # forward propagate input\r\n",
        "    def forward(self, X):\r\n",
        "        # input to first hidden layer\r\n",
        "        X = self.hidden1(X)\r\n",
        "        X = self.act1(X)\r\n",
        "        X = self.pool1(X)\r\n",
        "        # second hidden layer\r\n",
        "        X = self.hidden2(X)\r\n",
        "        X = self.act2(X)\r\n",
        "        X = self.pool2(X)\r\n",
        "        # flatten\r\n",
        "        X = X.view(-1, 4*4*50)\r\n",
        "        # third hidden layer\r\n",
        "        X = self.hidden3(X)\r\n",
        "        X = self.act3(X)\r\n",
        "        # output layer\r\n",
        "        X = self.hidden4(X)\r\n",
        "        X = self.act4(X)\r\n",
        "        return X"
      ],
      "execution_count": 6,
      "outputs": []
    },
    {
      "cell_type": "code",
      "metadata": {
        "colab": {
          "base_uri": "https://localhost:8080/"
        },
        "id": "T4jJU2Ue_RBt",
        "outputId": "50d1d0ac-ec6c-4d1a-e639-46d640f40bd3"
      },
      "source": [
        "# define the network\r\n",
        "model = CNN(1)\r\n",
        "print(model)"
      ],
      "execution_count": 7,
      "outputs": [
        {
          "output_type": "stream",
          "text": [
            "CNN(\n",
            "  (hidden1): Conv2d(1, 32, kernel_size=(3, 3), stride=(1, 1))\n",
            "  (act1): ReLU()\n",
            "  (pool1): MaxPool2d(kernel_size=(2, 2), stride=(2, 2), padding=0, dilation=1, ceil_mode=False)\n",
            "  (hidden2): Conv2d(32, 32, kernel_size=(3, 3), stride=(1, 1))\n",
            "  (act2): ReLU()\n",
            "  (pool2): MaxPool2d(kernel_size=(2, 2), stride=(2, 2), padding=0, dilation=1, ceil_mode=False)\n",
            "  (hidden3): Linear(in_features=800, out_features=100, bias=True)\n",
            "  (act3): ReLU()\n",
            "  (hidden4): Linear(in_features=100, out_features=10, bias=True)\n",
            "  (act4): Softmax(dim=1)\n",
            ")\n"
          ],
          "name": "stdout"
        }
      ]
    },
    {
      "cell_type": "markdown",
      "metadata": {
        "id": "p733GaWH9PV8"
      },
      "source": [
        "# 3. Train the Model"
      ]
    },
    {
      "cell_type": "code",
      "metadata": {
        "id": "-sts3ssE_o8M"
      },
      "source": [
        "from tqdm import tqdm"
      ],
      "execution_count": 8,
      "outputs": []
    },
    {
      "cell_type": "code",
      "metadata": {
        "id": "ZCll5pvq_W5s"
      },
      "source": [
        "# train the model\r\n",
        "def train_model(train_dl, model):\r\n",
        "    # define the optimization\r\n",
        "    criterion = CrossEntropyLoss()\r\n",
        "    optimizer = SGD(model.parameters(), lr=0.01, momentum=0.9)\r\n",
        "    # enumerate epochs\r\n",
        "    for epoch in range(10):\r\n",
        "        # enumerate mini batches\r\n",
        "        for i, (inputs, targets) in tqdm(enumerate(train_dl)):\r\n",
        "            # clear the gradients\r\n",
        "            optimizer.zero_grad()\r\n",
        "            # compute the model output\r\n",
        "            yhat = model(inputs)\r\n",
        "            # calculate loss\r\n",
        "            loss = criterion(yhat, targets)\r\n",
        "            # credit assignment\r\n",
        "            loss.backward()\r\n",
        "            # update model weights\r\n",
        "            optimizer.step()"
      ],
      "execution_count": 9,
      "outputs": []
    },
    {
      "cell_type": "code",
      "metadata": {
        "colab": {
          "base_uri": "https://localhost:8080/"
        },
        "id": "2NYWyxTW_b_E",
        "outputId": "b671e1f0-fc3b-4c90-a569-195e6e4f39d5"
      },
      "source": [
        "# # train the model\r\n",
        "train_model(train_dl, model)"
      ],
      "execution_count": 10,
      "outputs": [
        {
          "output_type": "stream",
          "text": [
            "1875it [00:36, 51.22it/s]\n",
            "1875it [00:36, 51.76it/s]\n",
            "1875it [00:35, 52.10it/s]\n",
            "1875it [00:35, 52.38it/s]\n",
            "1875it [00:35, 52.28it/s]\n",
            "1875it [00:35, 52.62it/s]\n",
            "1875it [00:35, 52.77it/s]\n",
            "1875it [00:35, 52.95it/s]\n",
            "1875it [00:35, 52.89it/s]\n",
            "1875it [00:35, 53.01it/s]\n"
          ],
          "name": "stderr"
        }
      ]
    },
    {
      "cell_type": "markdown",
      "metadata": {
        "id": "mAZAllUH9RYE"
      },
      "source": [
        "# 4. Evaluate the Model"
      ]
    },
    {
      "cell_type": "code",
      "metadata": {
        "id": "zJydF98V_iOE"
      },
      "source": [
        "# evaluate the model\r\n",
        "def evaluate_model(test_dl, model):\r\n",
        "    predictions, actuals = list(), list()\r\n",
        "    for i, (inputs, targets) in enumerate(test_dl):\r\n",
        "        # evaluate the model on the test set\r\n",
        "        yhat = model(inputs)\r\n",
        "        # retrieve numpy array\r\n",
        "        yhat = yhat.detach().numpy()\r\n",
        "        actual = targets.numpy()\r\n",
        "        # convert to class labels\r\n",
        "        yhat = argmax(yhat, axis=1)\r\n",
        "        # reshape for stacking\r\n",
        "        actual = actual.reshape((len(actual), 1))\r\n",
        "        yhat = yhat.reshape((len(yhat), 1))\r\n",
        "        # store\r\n",
        "        predictions.append(yhat)\r\n",
        "        actuals.append(actual)\r\n",
        "    predictions, actuals = vstack(predictions), vstack(actuals)\r\n",
        "    # calculate accuracy\r\n",
        "    acc = accuracy_score(actuals, predictions)\r\n",
        "    return acc"
      ],
      "execution_count": 11,
      "outputs": []
    },
    {
      "cell_type": "code",
      "metadata": {
        "colab": {
          "base_uri": "https://localhost:8080/"
        },
        "id": "l46eDgLi_kuk",
        "outputId": "e82a24d0-8d05-40bb-b11e-078f81938ad0"
      },
      "source": [
        "# evaluate the model\r\n",
        "acc = evaluate_model(test_dl, model)\r\n",
        "print('Accuracy: %.3f' % acc)"
      ],
      "execution_count": 12,
      "outputs": [
        {
          "output_type": "stream",
          "text": [
            "Accuracy: 0.890\n"
          ],
          "name": "stdout"
        }
      ]
    },
    {
      "cell_type": "markdown",
      "metadata": {
        "id": "qIbMjHq49T_M"
      },
      "source": [
        "# 5. Make Predictions"
      ]
    }
  ]
}